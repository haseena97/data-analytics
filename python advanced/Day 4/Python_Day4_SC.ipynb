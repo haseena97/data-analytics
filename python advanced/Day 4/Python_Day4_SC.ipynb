{
 "cells": [
  {
   "cell_type": "code",
   "execution_count": 1,
   "metadata": {},
   "outputs": [],
   "source": [
    "import numpy as np"
   ]
  },
  {
   "cell_type": "markdown",
   "metadata": {},
   "source": [
    "# NumPy\n",
    "- [NumPy](#NumPy)\n",
    "- [Introduction to NumPy](#Introduction-to-NumPy)\n",
    "- [Creating Arrays](#Creating-Arrays)\n",
    "    - [Nested Lists](#Nested-Lists)\n",
    "    - [Array-Generating Functions](#Array-Generating-Functions)\n",
    "        - [Empty Arrays](#Empty-Arrays)\n",
    "        - [Ranges](#Ranges)\n",
    "        - [Random Data](#Random-Data)\n",
    "        - [Matrix Creation](#Matrix-Creation)\n",
    "        - [Data Types](#Data-Types)\n",
    "        - [Shapes](#Shapes)\n",
    "    - [Exercises](#Exercises)\n",
    "        - [Exercise 1](#Exercise-1)\n",
    "        - [Exercise 2](#Exercise-2)\n",
    "        - [Exercise 3](#Exercise-3)\n",
    "        - [Exercise 4](#Exercise-4)\n",
    "        - [Exercise 5](#Exercise-5)\n",
    "- [Manipulating arrays](#Manipulating-arrays)\n",
    "    - [Indexing](#Indexing)\n",
    "    - [Slicing](#Slicing)\n",
    "    - [Boolean Mask](#Boolean-Mask)\n",
    "    - [Assigning Values to Subarrays](#Assigning-Values-to-Subarrays)\n",
    "    - [Exercises](#Exercises)\n",
    "        - [Exercise 1](#Exercise-1)\n",
    "        - [Exercise 2](#Exercise-2)\n",
    "        - [Exercise 3](#Exercise-3)\n",
    "        - [Exercise 4](#Exercise-4)\n",
    "        - [Exercise 5](#Exercise-5)\n",
    "- [Array Operations](#Array-Operations)\n",
    "    - [Logical Operations](#Logical-Operations)\n",
    "    - [Arithmetic](#Arithmetic)\n",
    "    - [Aggregative Functions](#Aggregative-Functions)\n",
    "    - [Vectorization](#Vectorization)\n",
    "    - [Broadcasting](#Broadcasting)\n",
    "        - [Rule 1](#Rule-1)\n",
    "        - [Rule 2](#Rule-2)\n",
    "        - [Rule 3](#Rule-3)\n",
    "    - [Further Reading](#Further-Reading)\n",
    "    - [Excercises](#Excercises)\n",
    "        - [Exercise 1](#Exercise-1)\n",
    "        - [Exercise 2](#Exercise-2)\n",
    "        - [Exercise 3](#Exercise-3)\n",
    "        - [Exercise 4](#Exercise-4)\n",
    "        - [Exercise 5](#Exercise-5)\n",
    "- [Advanced Manipulation](#Advanced-Manipulation)\n",
    "    - [Reshaping and Transposing](#Reshaping-and-Transposing)\n",
    "    - [Adding a new dimension with `newaxis`](#Adding-a-new-dimension-with-`newaxis`)\n",
    "    - [Concatenation and Splitting](#Concatenation-and-Splitting)\n",
    "    - [Exercises](#Exercises)\n",
    "        - [Exercise 1](#Exercise-1)\n",
    "        - [Exercise 2](#Exercise-2)\n",
    "        - [Exercise 3](#Exercise-3)\n",
    "        - [Exercise 4](#Exercise-4)\n",
    "- [Additional Resources:](#Additional-Resources:)\n"
   ]
  },
  {
   "cell_type": "markdown",
   "metadata": {},
   "source": [
    "## Introduction to NumPy\n",
    "\n",
    "Datasets can include collections of documents, images, sound clips, numerical measurements, or, really anything. Despite the heterogeneity, it will help us to think of all data fundamentally as arrays of numbers.\n",
    "\n",
    "| Data type\t    | Arrays of Numbers? |\n",
    "|---------------|-------------|\n",
    "|Images | Pixel brightness across different channels|\n",
    "|Videos | Pixels brightness across different channels for each frame | \n",
    "|Sound | Intensity over time |\n",
    "|Numbers | No need for transformation | \n",
    "|Tables | Mapping from strings to numbers |\n",
    "\n",
    "\n",
    "Therefore, the efficient storage and manipulation of large arrays of numbers is fundamental to the process of doing data science. NumPy is a library specially designed to handle arrays of numerical data.\n",
    "\n",
    "[NumPy](http://www.numpy.org/) is short for _numerical python_, and provides functions that are especially useful when you have to work with large arrays and matrices of numeric data, like matrix multiplications.  \n",
    "\n",
    "The array object class is the foundation of NumPy, and NumPy arrays are much like nested lists in base Python. However, NumPy supports _vectorization_. This means that many operations in NumPy are written and compiled in C code rather than Python, making it much faster as we will see."
   ]
  },
  {
   "cell_type": "markdown",
   "metadata": {},
   "source": [
    "## Creating Arrays"
   ]
  },
  {
   "cell_type": "markdown",
   "metadata": {},
   "source": [
    "### Nested Lists"
   ]
  },
  {
   "cell_type": "markdown",
   "metadata": {},
   "source": [
    "Arrays can be created from nested lists (lists inside a list). The nesting determines the dimensions of the resulting array."
   ]
  },
  {
   "cell_type": "code",
   "execution_count": 3,
   "metadata": {},
   "outputs": [
    {
     "name": "stdout",
     "output_type": "stream",
     "text": [
      "[[ 1  2  3  4  5]\n",
      " [ 6  7  8  9 10]]\n",
      "[[1, 2, 3, 4, 5], [6, 7, 8, 9, 10]]\n"
     ]
    }
   ],
   "source": [
    "# Create array from lists:\n",
    "lis = [[1,2,3,4,5],[6,7,8,9,10]] # list element mesti sama byk\n",
    "ary = np.array(lis) # save the list as array (numpy object)\n",
    "print(ary) # dah jadi matrix (2d array)--> ada 2 row dgn 5 column\n",
    "print(lis)"
   ]
  },
  {
   "cell_type": "code",
   "execution_count": 8,
   "metadata": {},
   "outputs": [
    {
     "name": "stdout",
     "output_type": "stream",
     "text": [
      "[1 2 3 4 5]\n"
     ]
    },
    {
     "data": {
      "text/plain": [
       "1"
      ]
     },
     "execution_count": 8,
     "metadata": {},
     "output_type": "execute_result"
    }
   ],
   "source": [
    "lis = [1,2,3,4,5]\n",
    "ary1 = np.array(lis)\n",
    "print(ary1)\n",
    "ary1.ndim # nak tau ada brapa dimension"
   ]
  },
  {
   "cell_type": "code",
   "execution_count": 9,
   "metadata": {},
   "outputs": [
    {
     "data": {
      "text/plain": [
       "(5,)"
      ]
     },
     "execution_count": 9,
     "metadata": {},
     "output_type": "execute_result"
    }
   ],
   "source": [
    "ary1.shape # 5 element"
   ]
  },
  {
   "cell_type": "markdown",
   "metadata": {},
   "source": [
    "Note that dimensions must be consistent. If nested lists do not have the same lengths, NumPy will create a 1-D array in which the elements are the sublists."
   ]
  },
  {
   "cell_type": "code",
   "execution_count": 10,
   "metadata": {},
   "outputs": [
    {
     "name": "stderr",
     "output_type": "stream",
     "text": [
      "C:\\Users\\Acer\\AppData\\Local\\Temp\\ipykernel_9860\\2634829664.py:1: VisibleDeprecationWarning: Creating an ndarray from ragged nested sequences (which is a list-or-tuple of lists-or-tuples-or ndarrays with different lengths or shapes) is deprecated. If you meant to do this, you must specify 'dtype=object' when creating the ndarray.\n",
      "  ary2 = np.array([[1,2,3,4,5],[6,7,8,9]]) #list element x sama byk\n"
     ]
    }
   ],
   "source": [
    "ary2 = np.array([[1,2,3,4,5],[6,7,8,9]]) #list element x sama byk\n"
   ]
  },
  {
   "cell_type": "code",
   "execution_count": 11,
   "metadata": {},
   "outputs": [
    {
     "data": {
      "text/plain": [
       "array([list([1, 2, 3, 4, 5]), list([6, 7, 8, 9])], dtype=object)"
      ]
     },
     "execution_count": 11,
     "metadata": {},
     "output_type": "execute_result"
    }
   ],
   "source": [
    "ary2\n",
    "# x kluar error\n",
    "# dia handle error tu jadi 1d array yg ada 2 list"
   ]
  },
  {
   "cell_type": "markdown",
   "metadata": {},
   "source": [
    "The most important attributes of an array are its shape and the number of dimensions."
   ]
  },
  {
   "cell_type": "code",
   "execution_count": 4,
   "metadata": {},
   "outputs": [
    {
     "data": {
      "text/plain": [
       "(2, 5)"
      ]
     },
     "execution_count": 4,
     "metadata": {},
     "output_type": "execute_result"
    }
   ],
   "source": [
    "ary.shape # attribute bkn fucntion, so xyah letak bracket blakang"
   ]
  },
  {
   "cell_type": "code",
   "execution_count": null,
   "metadata": {},
   "outputs": [],
   "source": [
    "ary.ndim"
   ]
  },
  {
   "cell_type": "markdown",
   "metadata": {},
   "source": [
    "Less important but worth mentioning is the dtype of an array indicating what kind of data it contains."
   ]
  },
  {
   "cell_type": "code",
   "execution_count": 12,
   "metadata": {},
   "outputs": [
    {
     "data": {
      "text/plain": [
       "dtype('int32')"
      ]
     },
     "execution_count": 12,
     "metadata": {},
     "output_type": "execute_result"
    }
   ],
   "source": [
    "ary.dtype # bagitau datatype of element dalam array tu"
   ]
  },
  {
   "cell_type": "markdown",
   "metadata": {},
   "source": [
    "### Array-Generating Functions\n",
    "For larger arrays it is inpractical to initialize the data manually. Instead we can use one of the many functions in numpy that generate arrays of different forms. Some of the more common are:"
   ]
  },
  {
   "cell_type": "markdown",
   "metadata": {},
   "source": [
    "#### Empty Arrays\n",
    "When the intended shape of an array is known in advance but its values are not, we can use various functions to generate empty arrays."
   ]
  },
  {
   "cell_type": "code",
   "execution_count": 15,
   "metadata": {},
   "outputs": [
    {
     "data": {
      "text/plain": [
       "array([[0., 0., 0.],\n",
       "       [0., 0., 0.]])"
      ]
     },
     "execution_count": 15,
     "metadata": {},
     "output_type": "execute_result"
    }
   ],
   "source": [
    "np.zeros((2, 3)) # by default element tu float values\n",
    "# fill array with value zero"
   ]
  },
  {
   "cell_type": "code",
   "execution_count": 18,
   "metadata": {},
   "outputs": [
    {
     "data": {
      "text/plain": [
       "array([[1, 1, 1, 1],\n",
       "       [1, 1, 1, 1],\n",
       "       [1, 1, 1, 1]], dtype=int8)"
      ]
     },
     "execution_count": 18,
     "metadata": {},
     "output_type": "execute_result"
    }
   ],
   "source": [
    "np.ones((3, 4), dtype=np.int8) # setkan dtype int8 (nombor 0-255)\n",
    "# fill array with one"
   ]
  },
  {
   "cell_type": "code",
   "execution_count": 19,
   "metadata": {},
   "outputs": [
    {
     "data": {
      "text/plain": [
       "array([[3.14, 3.14, 3.14, 3.14, 3.14],\n",
       "       [3.14, 3.14, 3.14, 3.14, 3.14],\n",
       "       [3.14, 3.14, 3.14, 3.14, 3.14]])"
      ]
     },
     "execution_count": 19,
     "metadata": {},
     "output_type": "execute_result"
    }
   ],
   "source": [
    "np.full((3, 5), 3.14)\n",
    "# fill array with value 3.14"
   ]
  },
  {
   "cell_type": "markdown",
   "metadata": {},
   "source": [
    "A special case is the function `np.empty`, which does not initialize any values. It will reserve memory for the array but use whatever values are already stored there without reseting them. This can be a useful optimization for speed when creating extremely large arrays."
   ]
  },
  {
   "cell_type": "code",
   "execution_count": 21,
   "metadata": {},
   "outputs": [
    {
     "name": "stdout",
     "output_type": "stream",
     "text": [
      "[[9.80977918e-312 1.43279037e-322 9.80977918e-312 5.58788245e-321\n",
      "  9.80977918e-312 1.43279037e-322 9.80977918e-312 5.62740771e-321\n",
      "  9.80977918e-312 1.63041663e-322]\n",
      " [0.00000000e+000 1.18575755e-322 9.80959907e-312 4.94065646e-324\n",
      "  0.00000000e+000 1.27319747e-313 1.69759663e-313 1.18575755e-322\n",
      "  9.80956943e-312 4.94065646e-324]\n",
      " [0.00000000e+000 1.90979621e-313 2.97079411e-313 1.03753786e-322\n",
      "  9.80977918e-312 9.80956943e-312 4.94065646e-324 1.27319747e-313\n",
      "  2.97079411e-313 1.18575755e-322]\n",
      " [9.80961144e-312 4.94065646e-324 0.00000000e+000 3.18299369e-313\n",
      "  3.81959242e-313 5.40013751e-321 9.80977918e-312 1.72922976e-322\n",
      "  0.00000000e+000 5.40507817e-321]\n",
      " [9.80977918e-312 1.72922976e-322 9.80977918e-312 5.41001882e-321\n",
      "  9.80977918e-312 1.72922976e-322 9.80977918e-312 5.41495948e-321\n",
      "  9.80977918e-312 1.72922976e-322]\n",
      " [9.80977918e-312 5.41990013e-321 9.80977918e-312 1.72922976e-322\n",
      "  9.80977918e-312 5.42484079e-321 9.80977918e-312 1.72922976e-322\n",
      "  9.80977918e-312 5.44460342e-321]\n",
      " [9.80977918e-312 1.72922976e-322 9.80977918e-312 1.18575755e-322\n",
      "  9.80961144e-312 4.94065646e-324 0.00000000e+000 3.18299369e-313\n",
      "  3.81959242e-313 1.18575755e-322]]\n"
     ]
    }
   ],
   "source": [
    "#print(np.empty((2, 3)))\n",
    "print(np.empty((7, 10))) # x assign value pon (x sama dgn np.zeroes)\n",
    "# just reserve some memory nnti nak pakai"
   ]
  },
  {
   "cell_type": "markdown",
   "metadata": {},
   "source": [
    "#### Ranges\n",
    "Numpy also has a number of functions to support creating number ranges, such as:"
   ]
  },
  {
   "cell_type": "code",
   "execution_count": 25,
   "metadata": {},
   "outputs": [
    {
     "data": {
      "text/plain": [
       "[0, 1, 2, 3, 4, 5, 6, 7, 8, 9]"
      ]
     },
     "execution_count": 25,
     "metadata": {},
     "output_type": "execute_result"
    }
   ],
   "source": [
    "list(range(0,10))\n",
    "# range function bagi list of values"
   ]
  },
  {
   "cell_type": "code",
   "execution_count": 22,
   "metadata": {},
   "outputs": [
    {
     "data": {
      "text/plain": [
       "array([0, 1, 2, 3, 4, 5, 6, 7, 8, 9])"
      ]
     },
     "execution_count": 22,
     "metadata": {},
     "output_type": "execute_result"
    }
   ],
   "source": [
    "# Define endpoints and step size\n",
    "np.arange(start=0, stop=10, step=1)\n",
    "# arange function bagi array of values\n",
    "# xkan include 10"
   ]
  },
  {
   "cell_type": "code",
   "execution_count": 26,
   "metadata": {},
   "outputs": [
    {
     "data": {
      "text/plain": [
       "array([ 6,  8, 10, 12, 14])"
      ]
     },
     "execution_count": 26,
     "metadata": {},
     "output_type": "execute_result"
    }
   ],
   "source": [
    "np.arange(start=6, stop=15, step=2)"
   ]
  },
  {
   "cell_type": "code",
   "execution_count": 27,
   "metadata": {},
   "outputs": [
    {
     "data": {
      "text/plain": [
       "array([0, 1, 2, 3, 4, 5, 6, 7])"
      ]
     },
     "execution_count": 27,
     "metadata": {},
     "output_type": "execute_result"
    }
   ],
   "source": [
    "# 'step' defaults to 1 and 'start' defaults to 0\n",
    "np.arange(8)"
   ]
  },
  {
   "cell_type": "code",
   "execution_count": 28,
   "metadata": {},
   "outputs": [
    {
     "data": {
      "text/plain": [
       "array([ 1.        ,  1.64285714,  2.28571429,  2.92857143,  3.57142857,\n",
       "        4.21428571,  4.85714286,  5.5       ,  6.14285714,  6.78571429,\n",
       "        7.42857143,  8.07142857,  8.71428571,  9.35714286, 10.        ])"
      ]
     },
     "execution_count": 28,
     "metadata": {},
     "output_type": "execute_result"
    }
   ],
   "source": [
    "# Define endpoints and the number of elements\n",
    "np.linspace(start=1, stop=10, num=15)\n",
    "# num = assign brapa element kita nak dalam array tu\n",
    "# array start dari 1 sampai 10 (include 10)"
   ]
  },
  {
   "cell_type": "code",
   "execution_count": 29,
   "metadata": {},
   "outputs": [
    {
     "data": {
      "text/plain": [
       "array([1. , 1.6, 2.2, 2.8, 3.4, 4. , 4.6, 5.2, 5.8, 6.4, 7. , 7.6, 8.2,\n",
       "       8.8, 9.4])"
      ]
     },
     "execution_count": 29,
     "metadata": {},
     "output_type": "execute_result"
    }
   ],
   "source": [
    "# Includes the endpoint by default (non-standard Python behavior!)\n",
    "np.linspace(start=1, stop=10, num=15, endpoint=False)\n",
    "# endpoint = false --> dia x include 10"
   ]
  },
  {
   "cell_type": "markdown",
   "metadata": {},
   "source": [
    "#### Random Data (boleh setting nak brapa demension array)\n",
    "Arrays can also be initialized with random values. NumPy supports many different probability distributions."
   ]
  },
  {
   "cell_type": "markdown",
   "metadata": {},
   "source": [
    "# bagi 'random' values dalam array tu"
   ]
  },
  {
   "cell_type": "code",
   "execution_count": 30,
   "metadata": {},
   "outputs": [
    {
     "data": {
      "text/plain": [
       "array([[0.60902062, 0.08915808, 0.63284059],\n",
       "       [0.73548696, 0.3982739 , 0.95689553],\n",
       "       [0.55455155, 0.21679713, 0.62246505]])"
      ]
     },
     "execution_count": 30,
     "metadata": {},
     "output_type": "execute_result"
    }
   ],
   "source": [
    "# Uniform distribution, i.e. all values equally likely, \n",
    "# between low (inclusive) and high (exclusive) --> xkan bagi 10\n",
    "np.random.uniform(low=0, high=1, size=(3, 3))"
   ]
  },
  {
   "cell_type": "code",
   "execution_count": 31,
   "metadata": {},
   "outputs": [
    {
     "data": {
      "text/plain": [
       "array([[0.65484602, 0.49450302, 0.67071672, 0.73997248, 0.88364187],\n",
       "       [0.55430233, 0.08329398, 0.68997199, 0.48578474, 0.61837647],\n",
       "       [0.8274119 , 0.43041427, 0.4400758 , 0.17214074, 0.30636522],\n",
       "       [0.19284897, 0.62928375, 0.62105847, 0.67150855, 0.7119026 ],\n",
       "       [0.38399466, 0.6347551 , 0.02978973, 0.47061071, 0.4015863 ]])"
      ]
     },
     "execution_count": 31,
     "metadata": {},
     "output_type": "execute_result"
    }
   ],
   "source": [
    "# Alias for np.random.uniform(low=0, high=1, ...)\n",
    "np.random.random(size=(5, 5)) # by default bagi 0 to 1"
   ]
  },
  {
   "cell_type": "code",
   "execution_count": 32,
   "metadata": {},
   "outputs": [
    {
     "data": {
      "text/plain": [
       "array([[2.59703077, 2.75748789, 2.72023193],\n",
       "       [3.92766523, 2.56574505, 2.65790914],\n",
       "       [6.07913749, 5.35145337, 6.12513012]])"
      ]
     },
     "execution_count": 32,
     "metadata": {},
     "output_type": "execute_result"
    }
   ],
   "source": [
    "# Normal (Gaussian) distribution centered around 'loc' (mean)\n",
    "# with a standard deviation of 'scale'\n",
    "np.random.normal(loc=5, scale=2, size=(3, 3))"
   ]
  },
  {
   "cell_type": "code",
   "execution_count": 34,
   "metadata": {},
   "outputs": [
    {
     "data": {
      "text/plain": [
       "array([[[ 5.73642611,  6.37113816,  8.34608022,  3.49278814,\n",
       "          8.98304962],\n",
       "        [ 7.53447759,  4.77016538,  5.25346539,  6.76150727,\n",
       "          5.59503586]],\n",
       "\n",
       "       [[ 4.0436329 ,  3.54521884,  2.30688505,  8.12699199,\n",
       "         10.6070926 ],\n",
       "        [ 5.18952535,  2.46911961,  6.77647391,  6.02699392,\n",
       "          7.54578628]],\n",
       "\n",
       "       [[ 8.77794666,  4.01076677,  4.45456635,  3.36296886,\n",
       "          4.98272574],\n",
       "        [ 6.60610837,  8.78571426,  4.68733686,  7.24059523,\n",
       "         -0.21153116]]])"
      ]
     },
     "execution_count": 34,
     "metadata": {},
     "output_type": "execute_result"
    }
   ],
   "source": [
    "np.random.normal(loc=5, scale=2, size=(3, 2, 5)) # 3d array"
   ]
  },
  {
   "cell_type": "markdown",
   "metadata": {},
   "source": [
    "Beyond distributions of uniformly distributed floating point values, NumPy also lets us generate random integers."
   ]
  },
  {
   "cell_type": "code",
   "execution_count": 33,
   "metadata": {},
   "outputs": [
    {
     "data": {
      "text/plain": [
       "array([[17, 28, 22, 97],\n",
       "       [18, 53, 64, 51],\n",
       "       [84, 77, 66,  4],\n",
       "       [83, 69, 28, 55]])"
      ]
     },
     "execution_count": 33,
     "metadata": {},
     "output_type": "execute_result"
    }
   ],
   "source": [
    "np.random.randint(low=1, high=100, size=(4, 4))"
   ]
  },
  {
   "cell_type": "code",
   "execution_count": 35,
   "metadata": {},
   "outputs": [
    {
     "data": {
      "text/plain": [
       "array([[[23, 12, 28],\n",
       "        [91, 53, 42]],\n",
       "\n",
       "       [[83, 99, 42],\n",
       "        [42, 11, 43]],\n",
       "\n",
       "       [[10, 95, 82],\n",
       "        [24, 85, 84]],\n",
       "\n",
       "       [[15, 99, 46],\n",
       "        [80, 27, 45]]])"
      ]
     },
     "execution_count": 35,
     "metadata": {},
     "output_type": "execute_result"
    }
   ],
   "source": [
    "np.random.randint(low=1, high=100, size=(4, 2,3)) \n",
    "# 4 set , 2 rows,  3 column --> boleh create n dimensional array"
   ]
  },
  {
   "cell_type": "code",
   "execution_count": 36,
   "metadata": {},
   "outputs": [
    {
     "data": {
      "text/plain": [
       "array([[[[87, 56, 27],\n",
       "         [57, 93, 15]],\n",
       "\n",
       "        [[ 3, 56, 95],\n",
       "         [96, 28, 47]]],\n",
       "\n",
       "\n",
       "       [[[48, 31, 69],\n",
       "         [77, 48, 61]],\n",
       "\n",
       "        [[52,  6,  7],\n",
       "         [40, 47, 40]]],\n",
       "\n",
       "\n",
       "       [[[56, 63, 63],\n",
       "         [31, 59, 25]],\n",
       "\n",
       "        [[29, 49, 41],\n",
       "         [14, 62, 66]]],\n",
       "\n",
       "\n",
       "       [[[64, 68, 92],\n",
       "         [75, 11, 40]],\n",
       "\n",
       "        [[29, 43, 73],\n",
       "         [48, 63, 94]]]])"
      ]
     },
     "execution_count": 36,
     "metadata": {},
     "output_type": "execute_result"
    }
   ],
   "source": [
    "np.random.randint(low=1, high=100, size=(4, 2,2,3)) \n",
    "# 4 set ,2 tables in each set, 2 rows, 3 column \n",
    "# --> boleh create n dimensional array"
   ]
  },
  {
   "cell_type": "markdown",
   "metadata": {},
   "source": [
    "#### Matrix Creation\n",
    "Due to their ubiquity, NumPy also has several generating functions for 2-D arrays (matrices)"
   ]
  },
  {
   "cell_type": "code",
   "execution_count": 37,
   "metadata": {},
   "outputs": [
    {
     "data": {
      "text/plain": [
       "array([[1., 0., 0., 0., 0.],\n",
       "       [0., 1., 0., 0., 0.],\n",
       "       [0., 0., 1., 0., 0.]])"
      ]
     },
     "execution_count": 37,
     "metadata": {},
     "output_type": "execute_result"
    }
   ],
   "source": [
    "# Create an NxM identity matrix with 1 along the diagonal and 0 elsewhere\n",
    "np.eye(N=3, M=5) # N = row, M = column\n",
    "# by default k=0"
   ]
  },
  {
   "cell_type": "code",
   "execution_count": 38,
   "metadata": {},
   "outputs": [
    {
     "data": {
      "text/plain": [
       "array([[0., 1., 0., 0.],\n",
       "       [0., 0., 1., 0.],\n",
       "       [0., 0., 0., 1.],\n",
       "       [0., 0., 0., 0.]])"
      ]
     },
     "execution_count": 38,
     "metadata": {},
     "output_type": "execute_result"
    }
   ],
   "source": [
    "# Offset the diagonal\n",
    "np.eye(N=4, M=4, k=1)\n",
    "# k = 1--> shift 1, 1 unit to the right "
   ]
  },
  {
   "cell_type": "code",
   "execution_count": 39,
   "metadata": {},
   "outputs": [
    {
     "data": {
      "text/plain": [
       "array([[0., 0., 1., 0.],\n",
       "       [0., 0., 0., 1.],\n",
       "       [0., 0., 0., 0.],\n",
       "       [0., 0., 0., 0.]])"
      ]
     },
     "execution_count": 39,
     "metadata": {},
     "output_type": "execute_result"
    }
   ],
   "source": [
    "# Offset the diagonal\n",
    "np.eye(N=4, M=4, k=2)\n",
    "# k = 1--> shift 1, 2 unit to the right "
   ]
  },
  {
   "cell_type": "code",
   "execution_count": 40,
   "metadata": {},
   "outputs": [
    {
     "data": {
      "text/plain": [
       "array([[0., 0., 0., 0.],\n",
       "       [1., 0., 0., 0.],\n",
       "       [0., 1., 0., 0.],\n",
       "       [0., 0., 1., 0.]])"
      ]
     },
     "execution_count": 40,
     "metadata": {},
     "output_type": "execute_result"
    }
   ],
   "source": [
    "# Offset the diagonal\n",
    "np.eye(N=4, M=4, k=-1)\n",
    "# k = 1--> shift 1, 1 unit to the left"
   ]
  },
  {
   "cell_type": "code",
   "execution_count": 42,
   "metadata": {},
   "outputs": [
    {
     "data": {
      "text/plain": [
       "array([[1, 0, 0],\n",
       "       [0, 2, 0],\n",
       "       [0, 0, 3]])"
      ]
     },
     "execution_count": 42,
     "metadata": {},
     "output_type": "execute_result"
    }
   ],
   "source": [
    "# a diagonal matrix with custom diagonal values\n",
    "np.diag([1,2,3])\n",
    "# nak customize value dekat identitiy matrix"
   ]
  },
  {
   "cell_type": "code",
   "execution_count": 43,
   "metadata": {},
   "outputs": [
    {
     "data": {
      "text/plain": [
       "array([[0, 0, 1, 0, 0],\n",
       "       [0, 0, 0, 2, 0],\n",
       "       [0, 0, 0, 0, 3],\n",
       "       [0, 0, 0, 0, 0],\n",
       "       [0, 0, 0, 0, 0]])"
      ]
     },
     "execution_count": 43,
     "metadata": {},
     "output_type": "execute_result"
    }
   ],
   "source": [
    "# put the values on the offset diagonal of degree k\n",
    "# NumPy automatically generates a matrix of the necessary size\n",
    "np.diag([1,2,3], k=2)\n",
    "# k = 2 -->pindahkan diagonal 2 unit to the right"
   ]
  },
  {
   "cell_type": "code",
   "execution_count": 45,
   "metadata": {},
   "outputs": [
    {
     "data": {
      "text/plain": [
       "array([[1., 0., 0., 0.],\n",
       "       [1., 1., 0., 0.],\n",
       "       [1., 1., 1., 0.],\n",
       "       [1., 1., 1., 1.]])"
      ]
     },
     "execution_count": 45,
     "metadata": {},
     "output_type": "execute_result"
    }
   ],
   "source": [
    "# A matrix with 1's on the diagonal and all lower offset diagonals\n",
    "# Can also be offset with argument k=...\n",
    "np.tri(N=4, M=4)"
   ]
  },
  {
   "cell_type": "markdown",
   "metadata": {},
   "source": [
    "#### Data Types\n",
    "Most, if not all, of these functions allow us to determine the data type with the `dtype` function argument, e.g."
   ]
  },
  {
   "cell_type": "code",
   "execution_count": null,
   "metadata": {},
   "outputs": [],
   "source": [
    "np.zeros((2, 3), dtype=np.int16)"
   ]
  },
  {
   "cell_type": "markdown",
   "metadata": {},
   "source": [
    "Some of the most common supported data types are\n",
    "\n",
    "| Data Type | Description |\n",
    "| --------- | ----------- |\n",
    "| `np.bool_` or `np.bool` | Boolean (True or False) stored as a byte\n",
    "| `np.int8` | \tByte (-128 to 127)\n",
    "| `np.int16` | \tInteger (-32768 to 32767)\n",
    "| `np.int32` | \tInteger (-2147483648 to 2147483647)\n",
    "| `np.int64` | \tInteger (-9223372036854775808 to 9223372036854775807)\n",
    "| `np.int_` or `np.int` | Default integer type (normally either int64 or int32)\n",
    "| `np.uint8` | \tUnsigned integer (0 to 255)\n",
    "| `np.uint16` | Unsigned integer (0 to 65535)\n",
    "| `np.uint32` | Unsigned integer (0 to 4294967295)\n",
    "| `np.uint64` | Unsigned integer (0 to 18446744073709551615)\n",
    "| `np.float16` | Half precision float: sign bit, 5 bits exponent, 10 bits mantissa\n",
    "| `np.float32` | Single precision float: sign bit, 8 bits exponent, 23 bits mantissa\n",
    "| `np.float64` | Double precision float: sign bit, 11 bits exponent, 52 bits mantissa\n",
    "| `np.float_` or `np.float` | Default float type (normally either float64 or float32)"
   ]
  },
  {
   "cell_type": "markdown",
   "metadata": {},
   "source": [
    "#### Shapes\n",
    "Until now, we've always created 1-D or 2-D arrays but NumPy is in no way limited to this. Any time a shape or size parameter is used in a function, we can create an array with as many dimensions as we like, e.g."
   ]
  },
  {
   "cell_type": "code",
   "execution_count": 46,
   "metadata": {},
   "outputs": [
    {
     "data": {
      "text/plain": [
       "array([[[7, 4, 8, 7, 7],\n",
       "        [6, 5, 7, 4, 4],\n",
       "        [6, 8, 9, 6, 3],\n",
       "        [7, 9, 2, 8, 3]],\n",
       "\n",
       "       [[6, 5, 8, 5, 8],\n",
       "        [3, 8, 9, 4, 8],\n",
       "        [3, 6, 5, 7, 7],\n",
       "        [4, 9, 5, 8, 9]],\n",
       "\n",
       "       [[2, 4, 7, 7, 7],\n",
       "        [7, 5, 2, 8, 5],\n",
       "        [6, 7, 4, 1, 8],\n",
       "        [8, 1, 2, 4, 8]]])"
      ]
     },
     "execution_count": 46,
     "metadata": {},
     "output_type": "execute_result"
    }
   ],
   "source": [
    "# Three 4x5 arrays stacked into a 3-D cube\n",
    "np.random.randint(low=1, high=10, size=(3, 4, 5))"
   ]
  },
  {
   "cell_type": "code",
   "execution_count": 47,
   "metadata": {},
   "outputs": [
    {
     "data": {
      "text/plain": [
       "array([[[[1, 4, 2, 1, 9],\n",
       "         [4, 3, 4, 4, 9],\n",
       "         [2, 7, 6, 9, 2],\n",
       "         [4, 5, 1, 2, 2]],\n",
       "\n",
       "        [[6, 3, 7, 4, 2],\n",
       "         [6, 9, 4, 5, 5],\n",
       "         [3, 4, 6, 5, 6],\n",
       "         [5, 7, 3, 6, 6]],\n",
       "\n",
       "        [[3, 5, 4, 4, 6],\n",
       "         [1, 6, 1, 5, 1],\n",
       "         [8, 2, 3, 2, 1],\n",
       "         [1, 2, 7, 1, 3]]],\n",
       "\n",
       "\n",
       "       [[[6, 8, 9, 1, 9],\n",
       "         [6, 7, 4, 1, 6],\n",
       "         [2, 8, 4, 9, 3],\n",
       "         [4, 1, 2, 6, 4]],\n",
       "\n",
       "        [[5, 8, 1, 7, 8],\n",
       "         [5, 7, 5, 6, 6],\n",
       "         [3, 5, 4, 8, 3],\n",
       "         [5, 7, 4, 4, 3]],\n",
       "\n",
       "        [[1, 9, 3, 7, 6],\n",
       "         [1, 4, 9, 1, 6],\n",
       "         [5, 4, 8, 1, 2],\n",
       "         [8, 1, 9, 5, 2]]]])"
      ]
     },
     "execution_count": 47,
     "metadata": {},
     "output_type": "execute_result"
    }
   ],
   "source": [
    "# Two sets of three 4x5 arrays stacked into 3-D cubes. \n",
    "np.random.randint(low=1, high=10, size=(2, 3, 4, 5))"
   ]
  },
  {
   "cell_type": "markdown",
   "metadata": {},
   "source": [
    "### Exercises"
   ]
  },
  {
   "cell_type": "markdown",
   "metadata": {},
   "source": [
    "#### Exercise 1\n",
    "Create a new 2x2 array without initializing entries."
   ]
  },
  {
   "cell_type": "code",
   "execution_count": null,
   "metadata": {},
   "outputs": [],
   "source": [
    "### your code here"
   ]
  },
  {
   "cell_type": "code",
   "execution_count": 48,
   "metadata": {},
   "outputs": [
    {
     "name": "stdout",
     "output_type": "stream",
     "text": [
      "[[2.12199579e-314 4.67296746e-307]\n",
      " [4.68374232e-321 6.36598775e-314]]\n"
     ]
    }
   ],
   "source": [
    "# Haseena\n",
    "print(np.empty((2,2)))"
   ]
  },
  {
   "cell_type": "markdown",
   "metadata": {},
   "source": [
    "#### Exercise 2\n",
    "Create a new 3x2x4 array of ones and make sure they're floating point numbers."
   ]
  },
  {
   "cell_type": "code",
   "execution_count": null,
   "metadata": {},
   "outputs": [],
   "source": [
    "### your code here"
   ]
  },
  {
   "cell_type": "code",
   "execution_count": 49,
   "metadata": {},
   "outputs": [
    {
     "name": "stdout",
     "output_type": "stream",
     "text": [
      "[[[1. 1. 1. 1.]\n",
      "  [1. 1. 1. 1.]]\n",
      "\n",
      " [[1. 1. 1. 1.]\n",
      "  [1. 1. 1. 1.]]\n",
      "\n",
      " [[1. 1. 1. 1.]\n",
      "  [1. 1. 1. 1.]]]\n"
     ]
    }
   ],
   "source": [
    "# haseena\n",
    "print(np.ones((3,2,4)))"
   ]
  },
  {
   "cell_type": "markdown",
   "metadata": {},
   "source": [
    "#### Exercise 3\n",
    "Create a 1-D array of 20 evenly spaced elements between 3. (inclusive) and 10. (exclusive)."
   ]
  },
  {
   "cell_type": "code",
   "execution_count": null,
   "metadata": {},
   "outputs": [],
   "source": [
    "### your code here"
   ]
  },
  {
   "cell_type": "code",
   "execution_count": 51,
   "metadata": {},
   "outputs": [
    {
     "data": {
      "text/plain": [
       "array([3.  , 3.35, 3.7 , 4.05, 4.4 , 4.75, 5.1 , 5.45, 5.8 , 6.15, 6.5 ,\n",
       "       6.85, 7.2 , 7.55, 7.9 , 8.25, 8.6 , 8.95, 9.3 , 9.65])"
      ]
     },
     "execution_count": 51,
     "metadata": {},
     "output_type": "execute_result"
    }
   ],
   "source": [
    "# Haseena\n",
    "np.linspace(start=3, stop=10, num=20, endpoint=False)"
   ]
  },
  {
   "cell_type": "markdown",
   "metadata": {},
   "source": [
    "#### Exercise 4\n",
    "Create a matrix with the values (2, 4, 9) on the third offset diagonal and 0 everywhere else."
   ]
  },
  {
   "cell_type": "code",
   "execution_count": null,
   "metadata": {},
   "outputs": [],
   "source": [
    "### your code here"
   ]
  },
  {
   "cell_type": "code",
   "execution_count": 52,
   "metadata": {},
   "outputs": [
    {
     "data": {
      "text/plain": [
       "array([[0, 0, 0, 2, 0, 0],\n",
       "       [0, 0, 0, 0, 4, 0],\n",
       "       [0, 0, 0, 0, 0, 9],\n",
       "       [0, 0, 0, 0, 0, 0],\n",
       "       [0, 0, 0, 0, 0, 0],\n",
       "       [0, 0, 0, 0, 0, 0]])"
      ]
     },
     "execution_count": 52,
     "metadata": {},
     "output_type": "execute_result"
    }
   ],
   "source": [
    "# Haseena\n",
    "np.diag([2,4,9], k=3)"
   ]
  },
  {
   "cell_type": "markdown",
   "metadata": {},
   "source": [
    "#### Exercise 5\n",
    "You want to simulate a coin toss with a binomial distribution (`np.random.binomial`). If this is a fair coin, then the probability of getting heads is `p=0.5`. If you toss the coin `n=100` times, how often does your simulation toss heads?"
   ]
  },
  {
   "cell_type": "code",
   "execution_count": null,
   "metadata": {},
   "outputs": [],
   "source": [
    "### your code here"
   ]
  },
  {
   "cell_type": "code",
   "execution_count": 53,
   "metadata": {},
   "outputs": [
    {
     "data": {
      "text/plain": [
       "38"
      ]
     },
     "execution_count": 53,
     "metadata": {},
     "output_type": "execute_result"
    }
   ],
   "source": [
    "np.random.binomial(n=100,p=0.5)"
   ]
  },
  {
   "cell_type": "markdown",
   "metadata": {},
   "source": [
    "## Manipulating arrays"
   ]
  },
  {
   "cell_type": "markdown",
   "metadata": {},
   "source": [
    "### Indexing\n",
    "We can index elements in an array using square brackets and indices:"
   ]
  },
  {
   "cell_type": "code",
   "execution_count": 54,
   "metadata": {},
   "outputs": [
    {
     "name": "stdout",
     "output_type": "stream",
     "text": [
      "[1 2 3 4]\n",
      "1\n"
     ]
    }
   ],
   "source": [
    "# a vector: the argument to the array function is a Python list\n",
    "v = np.array([1,2,3,4])\n",
    "print(v)\n",
    "print(v[0]) # indexing"
   ]
  },
  {
   "cell_type": "code",
   "execution_count": 57,
   "metadata": {},
   "outputs": [
    {
     "name": "stdout",
     "output_type": "stream",
     "text": [
      "[[7 4 8]\n",
      " [7 6 8]\n",
      " [2 3 3]]\n",
      "6\n",
      "4\n"
     ]
    }
   ],
   "source": [
    "M = np.random.randint(low=1, high=10, size=[3,3])\n",
    "print(M)\n",
    "# M is a matrix, or a 2 dimensional array, taking two indices \n",
    "print(M[1,1]) # row,column start dari 0\n",
    "# jawapan sentiasa berubah sbb random numbers\n",
    "print(M[0,1])\n"
   ]
  },
  {
   "cell_type": "code",
   "execution_count": 58,
   "metadata": {},
   "outputs": [
    {
     "name": "stdout",
     "output_type": "stream",
     "text": [
      "8\n"
     ]
    }
   ],
   "source": [
    "print(M[0,2])"
   ]
  },
  {
   "cell_type": "code",
   "execution_count": 59,
   "metadata": {},
   "outputs": [
    {
     "name": "stdout",
     "output_type": "stream",
     "text": [
      "[[[9 2 1]\n",
      "  [4 1 8]\n",
      "  [9 8 4]]\n",
      "\n",
      " [[8 2 8]\n",
      "  [4 3 2]\n",
      "  [9 8 9]]]\n",
      "8\n"
     ]
    }
   ],
   "source": [
    "M = np.random.randint(low=1, high=10, size=[2,3,3])\n",
    "print(M)\n",
    "print(M[0, 2, 1]) # which set, row, column"
   ]
  },
  {
   "cell_type": "markdown",
   "metadata": {},
   "source": [
    "### Slicing\n",
    "Just as we can use square brackets to access individual array elements, we can also use them to access subarrays with the *slice* notation, marked by the colon (``:``) character.\n",
    "The NumPy slicing syntax follows that of the standard Python list; to access a slice of an array ``x``, use this:\n",
    "``` python\n",
    "x[start:stop:step]\n",
    "```\n",
    "start is inclusive, stop is exclusive\n",
    "\n",
    "Slicing follows the typical Python convention of excluding the stop-index. If any of these are unspecified, they default to the values ``start=0``, ``stop=<size_of_dimension>``, ``step=1``. "
   ]
  },
  {
   "cell_type": "code",
   "execution_count": 60,
   "metadata": {},
   "outputs": [
    {
     "name": "stdout",
     "output_type": "stream",
     "text": [
      "[0 1 2 3 4 5 6 7 8 9]\n",
      "[3 4 5 6]\n",
      "[5 6 7 8 9]\n",
      "[0 1 2 3 4 5]\n",
      "[1 4 7]\n",
      "[0 2 4 6 8]\n"
     ]
    }
   ],
   "source": [
    "v = np.arange(10) # 1d array\n",
    "print(v) # print all\n",
    "print(v[3:7])\n",
    "print(v[5:]) # print dari index 5 until end of array\n",
    "print(v[:6]) # print all until index 6\n",
    "print(v[1:10:3])\n",
    "print(v[::2])"
   ]
  },
  {
   "cell_type": "code",
   "execution_count": 63,
   "metadata": {},
   "outputs": [
    {
     "data": {
      "text/plain": [
       "array([3, 4, 5, 6, 7])"
      ]
     },
     "execution_count": 63,
     "metadata": {},
     "output_type": "execute_result"
    }
   ],
   "source": [
    "(v[3:8]) # slicing akan return array yg kita slice"
   ]
  },
  {
   "cell_type": "markdown",
   "metadata": {},
   "source": [
    "The second `:` is unnecessary if no step is specified."
   ]
  },
  {
   "cell_type": "code",
   "execution_count": null,
   "metadata": {},
   "outputs": [],
   "source": [
    "print(v[2:5]) # by default mmg step 1\n",
    "print(v[2:5:1])"
   ]
  },
  {
   "cell_type": "markdown",
   "metadata": {},
   "source": [
    "Like before, we can index multidimensional arrays by using slices for each dimension."
   ]
  },
  {
   "cell_type": "code",
   "execution_count": 66,
   "metadata": {},
   "outputs": [
    {
     "name": "stdout",
     "output_type": "stream",
     "text": [
      "[[9 7 2 4 8]\n",
      " [8 5 3 6 8]\n",
      " [8 4 9 5 5]\n",
      " [3 8 4 7 9]\n",
      " [8 3 6 3 5]]\n",
      "\n",
      "[[4 8]\n",
      " [6 8]]\n",
      "\n",
      "[[9 7]\n",
      " [8 4]\n",
      " [8 3]]\n",
      "\n",
      "[[9 7]\n",
      " [8 5]]\n"
     ]
    }
   ],
   "source": [
    "M = np.random.randint(low=1, high=10, size=(5, 5))\n",
    "print(M)\n",
    "print()\n",
    "print(M[0:2, 3:5]) # row nak slice mana, column nak slice mana\n",
    "print()\n",
    "print(M[::2, 0:2]) # semua row, skip 1 line\n",
    "print()\n",
    "print(M[:2, 0:2]) # semua row sampai index 2"
   ]
  },
  {
   "cell_type": "markdown",
   "metadata": {},
   "source": [
    "If we omit an index of a multidimensional array, it assumes all of the following dimensions should be indexed fully. For example, indexing a 2-D matrix with only one index slice will return all columns of the specified rows."
   ]
  },
  {
   "cell_type": "code",
   "execution_count": null,
   "metadata": {},
   "outputs": [],
   "source": [
    "print(M[3]) # utk 2d array, mcm ni pon jadi slicing utk row\n",
    "print(M[3, :]) # lagi clear yg M tu 2d array"
   ]
  },
  {
   "cell_type": "markdown",
   "metadata": {},
   "source": [
    "### Boolean Mask\n",
    "Lastly, we can use boolean masks to select specific values. Masks must have the same shape as the array itself. Note that NumPy will automatically convert base Python into NumPy arrays. That means that a mask can be anything that can be converted into an array, e.g. a (nested) list."
   ]
  },
  {
   "cell_type": "code",
   "execution_count": 67,
   "metadata": {},
   "outputs": [
    {
     "name": "stdout",
     "output_type": "stream",
     "text": [
      "[ 1.  4.  7. 10.]\n",
      "\n",
      "[ 1.  7. 10.]\n"
     ]
    }
   ],
   "source": [
    "v = np.linspace(start=1, stop=10, num=4, endpoint=True)\n",
    "# endpoint=true -->inclusive\n",
    "print(v)\n",
    "print()\n",
    "print(v[[True, False, True, True]]) # nak pilih apa yg nak print\n",
    "# yg False xkan kluar"
   ]
  },
  {
   "cell_type": "markdown",
   "metadata": {},
   "source": [
    "Ex: I want to select elements of values>5"
   ]
  },
  {
   "cell_type": "code",
   "execution_count": 68,
   "metadata": {},
   "outputs": [
    {
     "data": {
      "text/plain": [
       "array([False, False,  True,  True])"
      ]
     },
     "execution_count": 68,
     "metadata": {},
     "output_type": "execute_result"
    }
   ],
   "source": [
    "v>5 # element bigger than 5 = True"
   ]
  },
  {
   "cell_type": "code",
   "execution_count": 69,
   "metadata": {},
   "outputs": [
    {
     "data": {
      "text/plain": [
       "array([ 7., 10.])"
      ]
     },
     "execution_count": 69,
     "metadata": {},
     "output_type": "execute_result"
    }
   ],
   "source": [
    "v[v>5] # nak indexing element bigger than 5"
   ]
  },
  {
   "cell_type": "code",
   "execution_count": 70,
   "metadata": {},
   "outputs": [
    {
     "data": {
      "text/plain": [
       "array([ 1.,  4.,  7., 10.])"
      ]
     },
     "execution_count": 70,
     "metadata": {},
     "output_type": "execute_result"
    }
   ],
   "source": [
    "v[v>-1]"
   ]
  },
  {
   "cell_type": "markdown",
   "metadata": {},
   "source": [
    "Indexing with boolean masks will always flatten arrays, i.e. all shape information will be lost. Result will always be 1D array."
   ]
  },
  {
   "cell_type": "code",
   "execution_count": 71,
   "metadata": {},
   "outputs": [
    {
     "name": "stdout",
     "output_type": "stream",
     "text": [
      "[[9 7 2 4 8]\n",
      " [8 5 3 6 8]\n",
      " [8 4 9 5 5]\n",
      " [3 8 4 7 9]\n",
      " [8 3 6 3 5]]\n",
      "\n",
      "[8 9 3 8]\n"
     ]
    }
   ],
   "source": [
    "mask = np.array([\n",
    "    [False, False, False, False, False], \n",
    "    [False, False, False, False, False], \n",
    "    [True,  False, True, False, False], \n",
    "    [True,  True,  False, False, False], \n",
    "    [False, False, False, False, False]])\n",
    "print(M)\n",
    "print()\n",
    "print(M[mask])"
   ]
  },
  {
   "cell_type": "code",
   "execution_count": 72,
   "metadata": {},
   "outputs": [
    {
     "data": {
      "text/plain": [
       "array([9, 7, 8, 8, 8, 8, 9, 8, 7, 9, 8])"
      ]
     },
     "execution_count": 72,
     "metadata": {},
     "output_type": "execute_result"
    }
   ],
   "source": [
    "M[M>6] # all element bigger than 6"
   ]
  },
  {
   "cell_type": "code",
   "execution_count": 74,
   "metadata": {},
   "outputs": [
    {
     "data": {
      "text/plain": [
       "array([2, 4, 5, 3, 6, 4, 5, 5, 3, 4, 3, 6, 3, 5])"
      ]
     },
     "execution_count": 74,
     "metadata": {},
     "output_type": "execute_result"
    }
   ],
   "source": [
    "M[~(M>6)] # selain dari element bigger than 6"
   ]
  },
  {
   "cell_type": "markdown",
   "metadata": {},
   "source": [
    "We can negate boolean NumPy arrays with `~`"
   ]
  },
  {
   "cell_type": "code",
   "execution_count": 73,
   "metadata": {},
   "outputs": [
    {
     "name": "stdout",
     "output_type": "stream",
     "text": [
      "[0 1]\n",
      "[2 3 4]\n"
     ]
    }
   ],
   "source": [
    "v = np.arange(5)\n",
    "mask = np.array([True, True, False, False, False])\n",
    "print(v[mask])\n",
    "print(v[~mask]) # akan bagi jawapan False"
   ]
  },
  {
   "cell_type": "markdown",
   "metadata": {},
   "source": [
    "### Assigning Values to Subarrays\n",
    "\n",
    "We can assign new values to elements in an array using any of the indexing methods shown above."
   ]
  },
  {
   "cell_type": "code",
   "execution_count": 77,
   "metadata": {},
   "outputs": [
    {
     "name": "stdout",
     "output_type": "stream",
     "text": [
      "[[1 0 0 0 0]\n",
      " [0 0 0 0 0]\n",
      " [0 0 0 0 0]\n",
      " [0 0 0 0 0]\n",
      " [0 0 0 1 0]]\n"
     ]
    }
   ],
   "source": [
    "M = np.zeros((5, 5), dtype=np.int8)\n",
    "M[0,0] = 1 # tukar value 0 dekat specific coordinate tu dgn 1\n",
    "# tukar single element dalam array\n",
    "M[4,3] = 1\n",
    "print(M)"
   ]
  },
  {
   "cell_type": "code",
   "execution_count": 78,
   "metadata": {},
   "outputs": [
    {
     "name": "stdout",
     "output_type": "stream",
     "text": [
      "[[1 0 3 0 0]\n",
      " [2 2 3 2 2]\n",
      " [0 0 3 0 0]\n",
      " [0 0 3 0 0]\n",
      " [0 0 3 1 0]]\n"
     ]
    }
   ],
   "source": [
    "# also works for rows and columns\n",
    "M[1,:] = 2\n",
    "M[:,2] = 3\n",
    "print(M)"
   ]
  },
  {
   "cell_type": "code",
   "execution_count": 79,
   "metadata": {},
   "outputs": [
    {
     "name": "stdout",
     "output_type": "stream",
     "text": [
      "[[1 0 3 0 0]\n",
      " [2 2 3 2 2]\n",
      " [0 0 3 0 0]\n",
      " [0 0 4 4 4]\n",
      " [0 0 4 4 4]]\n"
     ]
    }
   ],
   "source": [
    "# simultaneous assignment of subarray\n",
    "# assign all rows and columns simultaeously\n",
    "M[3:5, 2:5] = 4\n",
    "print(M)"
   ]
  },
  {
   "cell_type": "markdown",
   "metadata": {},
   "source": [
    "Even though boolean masks flatten outputs when used for selection, they can be used to assign values while retaining the shape."
   ]
  },
  {
   "cell_type": "code",
   "execution_count": 80,
   "metadata": {},
   "outputs": [
    {
     "name": "stdout",
     "output_type": "stream",
     "text": [
      "[[1 0 3 0 0]\n",
      " [2 2 3 2 2]\n",
      " [5 0 5 0 0]\n",
      " [5 5 4 4 4]\n",
      " [0 0 4 4 4]]\n"
     ]
    }
   ],
   "source": [
    "mask = np.array([\n",
    "    [False, False, False, False, False], \n",
    "    [False, False, False, False, False], \n",
    "    [True,  False, True,  False, False], \n",
    "    [True,  True,  False, False, False], \n",
    "    [False, False, False, False, False]])\n",
    "M[mask] = 5\n",
    "print(M) # tukar semua value yg True jadi 5"
   ]
  },
  {
   "cell_type": "markdown",
   "metadata": {},
   "source": [
    "Assigned values are broadcast to the necessary shape as per the broadcasting rules above. This means that for assignment with indices/slices, they are broadcast to the subarray shape"
   ]
  },
  {
   "cell_type": "code",
   "execution_count": 81,
   "metadata": {},
   "outputs": [
    {
     "name": "stdout",
     "output_type": "stream",
     "text": [
      "[[ 1  0  3 -1 -2]\n",
      " [ 2  2  3 -3 -4]\n",
      " [ 5  0  5  0  0]\n",
      " [ 5  5  4  4  4]\n",
      " [ 0  0  4  4  4]]\n"
     ]
    }
   ],
   "source": [
    "M[0:2, 3:5] = np.array([[-1, -2], [-3, -4]])\n",
    "print(M) # gantikan portion tu dgn subarray baru \n",
    "# tapi size kena match"
   ]
  },
  {
   "cell_type": "markdown",
   "metadata": {},
   "source": [
    "For boolean masks, the values must be either a scalar value, i.e. a 0-D array, or a 1-D array. Note that after assignment, the original shape of the array is retained."
   ]
  },
  {
   "cell_type": "code",
   "execution_count": 83,
   "metadata": {},
   "outputs": [
    {
     "data": {
      "text/plain": [
       "(array([0, 0, 0, 1, 1], dtype=int64), array([0, 2, 4, 1, 3], dtype=int64))"
      ]
     },
     "execution_count": 83,
     "metadata": {},
     "output_type": "execute_result"
    }
   ],
   "source": [
    "np.where(mask) # recognize every True in the mask\n",
    "# index utk row, index utk column"
   ]
  },
  {
   "cell_type": "code",
   "execution_count": 82,
   "metadata": {},
   "outputs": [
    {
     "name": "stdout",
     "output_type": "stream",
     "text": [
      "[[10  0 11 -1 12]\n",
      " [ 2 13  3 14 -4]\n",
      " [ 5  0  5  0  0]\n",
      " [ 5  5  4  4  4]\n",
      " [ 0  0  4  4  4]]\n"
     ]
    }
   ],
   "source": [
    "mask = np.array([\n",
    "    [True,  False, True,  False, True ], \n",
    "    [False, True,  False, True,  False], \n",
    "    [False, False, False, False, False], \n",
    "    [False, False, False, False, False], \n",
    "    [False, False, False, False, False]]) # mask ni buat sendiri\n",
    "M[mask] = [10, 11, 12, 13, 14] \n",
    "print(M) # dia isi bahagian True dgn element baru"
   ]
  },
  {
   "cell_type": "markdown",
   "metadata": {},
   "source": [
    "### Exercises\n",
    "Unless otherwise stated, the following exercises are based on the following array. Keep in mind, with regards to the phrasing, that Python begins indexing at 0, i.e. the 'first' element is the element with index 0."
   ]
  },
  {
   "cell_type": "code",
   "execution_count": null,
   "metadata": {},
   "outputs": [],
   "source": [
    "np.random.seed(100)\n",
    "M = np.random.randint(low=-5, high=5, size=(5, 5))\n",
    "print(M)"
   ]
  },
  {
   "cell_type": "markdown",
   "metadata": {},
   "source": [
    "#### Exercise 1\n",
    "Extract the third column of the matrix `M`"
   ]
  },
  {
   "cell_type": "code",
   "execution_count": null,
   "metadata": {},
   "outputs": [],
   "source": [
    "### your code here"
   ]
  },
  {
   "cell_type": "code",
   "execution_count": 85,
   "metadata": {},
   "outputs": [
    {
     "data": {
      "text/plain": [
       "array([11,  3,  5,  4,  4], dtype=int8)"
      ]
     },
     "execution_count": 85,
     "metadata": {},
     "output_type": "execute_result"
    }
   ],
   "source": [
    "# Haseena\n",
    "M[:,2]"
   ]
  },
  {
   "cell_type": "markdown",
   "metadata": {},
   "source": [
    "#### Exercise 2\n",
    "Extract only the odd-indexed rows and columns, i.e. those with indices 1 and 3, of `M`"
   ]
  },
  {
   "cell_type": "code",
   "execution_count": null,
   "metadata": {},
   "outputs": [],
   "source": [
    "### your code here"
   ]
  },
  {
   "cell_type": "code",
   "execution_count": 88,
   "metadata": {},
   "outputs": [
    {
     "data": {
      "text/plain": [
       "array([[10,  0, 11, -1, 12],\n",
       "       [ 2, 13,  3, 14, -4],\n",
       "       [ 5,  0,  5,  0,  0],\n",
       "       [ 5,  5,  4,  4,  4],\n",
       "       [ 0,  0,  4,  4,  4]], dtype=int8)"
      ]
     },
     "execution_count": 88,
     "metadata": {},
     "output_type": "execute_result"
    }
   ],
   "source": [
    "M"
   ]
  },
  {
   "cell_type": "code",
   "execution_count": 97,
   "metadata": {},
   "outputs": [
    {
     "data": {
      "text/plain": [
       "array([[13, 14],\n",
       "       [ 5,  4]], dtype=int8)"
      ]
     },
     "execution_count": 97,
     "metadata": {},
     "output_type": "execute_result"
    }
   ],
   "source": [
    "M[1::2,1::2]"
   ]
  },
  {
   "cell_type": "markdown",
   "metadata": {},
   "source": [
    "#### Exercise 3\n",
    "Extract the positive values of the matrix `M`"
   ]
  },
  {
   "cell_type": "code",
   "execution_count": null,
   "metadata": {},
   "outputs": [],
   "source": [
    "### your code here"
   ]
  },
  {
   "cell_type": "code",
   "execution_count": 98,
   "metadata": {},
   "outputs": [
    {
     "data": {
      "text/plain": [
       "array([10, 11, 12,  2, 13,  3, 14,  5,  5,  5,  5,  4,  4,  4,  4,  4,  4],\n",
       "      dtype=int8)"
      ]
     },
     "execution_count": 98,
     "metadata": {},
     "output_type": "execute_result"
    }
   ],
   "source": [
    "M[M>0]"
   ]
  },
  {
   "cell_type": "markdown",
   "metadata": {},
   "source": [
    "#### Exercise 4\n",
    "Replace all negative values of matrix `M` with 0"
   ]
  },
  {
   "cell_type": "code",
   "execution_count": null,
   "metadata": {},
   "outputs": [],
   "source": [
    "### your code here"
   ]
  },
  {
   "cell_type": "code",
   "execution_count": 99,
   "metadata": {},
   "outputs": [],
   "source": [
    "M[M<0] = 0"
   ]
  },
  {
   "cell_type": "code",
   "execution_count": 100,
   "metadata": {},
   "outputs": [
    {
     "data": {
      "text/plain": [
       "array([[10,  0, 11,  0, 12],\n",
       "       [ 2, 13,  3, 14,  0],\n",
       "       [ 5,  0,  5,  0,  0],\n",
       "       [ 5,  5,  4,  4,  4],\n",
       "       [ 0,  0,  4,  4,  4]], dtype=int8)"
      ]
     },
     "execution_count": 100,
     "metadata": {},
     "output_type": "execute_result"
    }
   ],
   "source": [
    "M"
   ]
  },
  {
   "cell_type": "markdown",
   "metadata": {},
   "source": [
    "--> Cara nak buat boolean mask"
   ]
  },
  {
   "cell_type": "code",
   "execution_count": 102,
   "metadata": {},
   "outputs": [],
   "source": [
    "# convert array with boolean\n",
    "# value 0 akan jadi False\n",
    "mask2 = M==0"
   ]
  },
  {
   "cell_type": "code",
   "execution_count": 103,
   "metadata": {},
   "outputs": [
    {
     "data": {
      "text/plain": [
       "array([[False,  True, False,  True, False],\n",
       "       [False, False, False, False,  True],\n",
       "       [False,  True, False,  True,  True],\n",
       "       [False, False, False, False, False],\n",
       "       [ True,  True, False, False, False]])"
      ]
     },
     "execution_count": 103,
     "metadata": {},
     "output_type": "execute_result"
    }
   ],
   "source": [
    "mask2"
   ]
  },
  {
   "cell_type": "code",
   "execution_count": 104,
   "metadata": {},
   "outputs": [],
   "source": [
    "mask3 = M!=0"
   ]
  },
  {
   "cell_type": "code",
   "execution_count": 105,
   "metadata": {},
   "outputs": [
    {
     "data": {
      "text/plain": [
       "array([[ True, False,  True, False,  True],\n",
       "       [ True,  True,  True,  True, False],\n",
       "       [ True, False,  True, False, False],\n",
       "       [ True,  True,  True,  True,  True],\n",
       "       [False, False,  True,  True,  True]])"
      ]
     },
     "execution_count": 105,
     "metadata": {},
     "output_type": "execute_result"
    }
   ],
   "source": [
    "mask3"
   ]
  },
  {
   "cell_type": "markdown",
   "metadata": {},
   "source": [
    "#### Exercise 5\n",
    "We can use arrays to represent images. The function `create_stick_figure()` returns an array representing a grayscale image. The function `show_image(arr)` displays the array `arr` as an image. Use the array manipulation techniques we've learned so far to perform the following tasks.\n",
    "\n",
    "**a)** Remove unnecessary (black) background pixels on any side of the stick figure. <br/>\n",
    "**b)** Subset the trimmed image into three parts: one containing only the head, one containing the torso and arms, and one containing only the legs.<br/>\n",
    "**c)** Remove the arms in the original image by setting all pixels (array entries) corresponding to arms to black."
   ]
  },
  {
   "cell_type": "code",
   "execution_count": 101,
   "metadata": {},
   "outputs": [
    {
     "ename": "NameError",
     "evalue": "name 'plt' is not defined",
     "output_type": "error",
     "traceback": [
      "\u001b[1;31m---------------------------------------------------------------------------\u001b[0m",
      "\u001b[1;31mNameError\u001b[0m                                 Traceback (most recent call last)",
      "\u001b[1;32m~\\AppData\\Local\\Temp\\ipykernel_9860\\2337542204.py\u001b[0m in \u001b[0;36m<module>\u001b[1;34m\u001b[0m\n\u001b[0;32m     28\u001b[0m \u001b[1;31m# Demo code\u001b[0m\u001b[1;33m\u001b[0m\u001b[1;33m\u001b[0m\u001b[0m\n\u001b[0;32m     29\u001b[0m \u001b[0mimage\u001b[0m \u001b[1;33m=\u001b[0m \u001b[0mcreate_stick_figure\u001b[0m\u001b[1;33m(\u001b[0m\u001b[1;33m)\u001b[0m\u001b[1;33m\u001b[0m\u001b[1;33m\u001b[0m\u001b[0m\n\u001b[1;32m---> 30\u001b[1;33m \u001b[0mshow_image\u001b[0m\u001b[1;33m(\u001b[0m\u001b[0mimage\u001b[0m\u001b[1;33m)\u001b[0m\u001b[1;33m\u001b[0m\u001b[1;33m\u001b[0m\u001b[0m\n\u001b[0m",
      "\u001b[1;32m~\\AppData\\Local\\Temp\\ipykernel_9860\\2337542204.py\u001b[0m in \u001b[0;36mshow_image\u001b[1;34m(arr)\u001b[0m\n\u001b[0;32m     22\u001b[0m \u001b[1;33m\u001b[0m\u001b[0m\n\u001b[0;32m     23\u001b[0m \u001b[1;32mdef\u001b[0m \u001b[0mshow_image\u001b[0m\u001b[1;33m(\u001b[0m\u001b[0marr\u001b[0m\u001b[1;33m)\u001b[0m\u001b[1;33m:\u001b[0m\u001b[1;33m\u001b[0m\u001b[1;33m\u001b[0m\u001b[0m\n\u001b[1;32m---> 24\u001b[1;33m     \u001b[0mplt\u001b[0m\u001b[1;33m.\u001b[0m\u001b[0mimshow\u001b[0m\u001b[1;33m(\u001b[0m\u001b[0marr\u001b[0m\u001b[1;33m,\u001b[0m \u001b[0mcmap\u001b[0m\u001b[1;33m=\u001b[0m\u001b[1;34m'gray'\u001b[0m\u001b[1;33m,\u001b[0m \u001b[0mvmin\u001b[0m\u001b[1;33m=\u001b[0m\u001b[1;36m0\u001b[0m\u001b[1;33m,\u001b[0m \u001b[0mvmax\u001b[0m\u001b[1;33m=\u001b[0m\u001b[1;36m1\u001b[0m\u001b[1;33m)\u001b[0m\u001b[1;33m\u001b[0m\u001b[1;33m\u001b[0m\u001b[0m\n\u001b[0m\u001b[0;32m     25\u001b[0m     \u001b[0mplt\u001b[0m\u001b[1;33m.\u001b[0m\u001b[0mxticks\u001b[0m\u001b[1;33m(\u001b[0m\u001b[0mnp\u001b[0m\u001b[1;33m.\u001b[0m\u001b[0marange\u001b[0m\u001b[1;33m(\u001b[0m\u001b[0marr\u001b[0m\u001b[1;33m.\u001b[0m\u001b[0mshape\u001b[0m\u001b[1;33m[\u001b[0m\u001b[1;36m1\u001b[0m\u001b[1;33m]\u001b[0m\u001b[1;33m,\u001b[0m \u001b[0mstep\u001b[0m\u001b[1;33m=\u001b[0m\u001b[1;36m2\u001b[0m\u001b[1;33m)\u001b[0m\u001b[1;33m)\u001b[0m\u001b[1;33m\u001b[0m\u001b[1;33m\u001b[0m\u001b[0m\n\u001b[0;32m     26\u001b[0m     \u001b[0mplt\u001b[0m\u001b[1;33m.\u001b[0m\u001b[0myticks\u001b[0m\u001b[1;33m(\u001b[0m\u001b[0mnp\u001b[0m\u001b[1;33m.\u001b[0m\u001b[0marange\u001b[0m\u001b[1;33m(\u001b[0m\u001b[0marr\u001b[0m\u001b[1;33m.\u001b[0m\u001b[0mshape\u001b[0m\u001b[1;33m[\u001b[0m\u001b[1;36m0\u001b[0m\u001b[1;33m]\u001b[0m\u001b[1;33m,\u001b[0m \u001b[0mstep\u001b[0m\u001b[1;33m=\u001b[0m\u001b[1;36m2\u001b[0m\u001b[1;33m)\u001b[0m\u001b[1;33m)\u001b[0m\u001b[1;33m\u001b[0m\u001b[1;33m\u001b[0m\u001b[0m\n",
      "\u001b[1;31mNameError\u001b[0m: name 'plt' is not defined"
     ]
    }
   ],
   "source": [
    "def create_stick_figure():\n",
    "    # Set grayscale values. 1 == white and 0 == black\n",
    "    head_val = 1\n",
    "    body_val = 0.25\n",
    "    arms_val = 0.5\n",
    "    legs_val = 0.75\n",
    "    # Create array\n",
    "    arr = np.zeros((21, 21))\n",
    "    # head\n",
    "    arr[(1, 5), 9:12] = head_val\n",
    "    arr[2:5, (8, 12)] = head_val \n",
    "    # body\n",
    "    arr[6:14, 10] = body_val\n",
    "    # arms\n",
    "    arr[7, 9:12] = arms_val\n",
    "    arr[8, (8, 12)] = arms_val\n",
    "    arr[9:12, (7, 13)] = arms_val\n",
    "    # legs\n",
    "    arr[14, (9, 11)] = legs_val\n",
    "    arr[15:20, (8, 12)] = legs_val\n",
    "    return arr\n",
    "\n",
    "def show_image(arr):\n",
    "    plt.imshow(arr, cmap='gray', vmin=0, vmax=1)\n",
    "    plt.xticks(np.arange(arr.shape[1], step=2))\n",
    "    plt.yticks(np.arange(arr.shape[0], step=2))\n",
    "    \n",
    "# Demo code\n",
    "image = create_stick_figure()\n",
    "show_image(image)"
   ]
  },
  {
   "cell_type": "code",
   "execution_count": null,
   "metadata": {},
   "outputs": [],
   "source": [
    "### your code here\n",
    "# a)"
   ]
  },
  {
   "cell_type": "code",
   "execution_count": null,
   "metadata": {},
   "outputs": [],
   "source": [
    "### your code here\n",
    "# b)"
   ]
  },
  {
   "cell_type": "code",
   "execution_count": null,
   "metadata": {},
   "outputs": [],
   "source": [
    "### your code here\n",
    "# c)"
   ]
  },
  {
   "cell_type": "code",
   "execution_count": null,
   "metadata": {},
   "outputs": [],
   "source": []
  },
  {
   "cell_type": "code",
   "execution_count": null,
   "metadata": {},
   "outputs": [],
   "source": []
  },
  {
   "cell_type": "code",
   "execution_count": null,
   "metadata": {},
   "outputs": [],
   "source": []
  },
  {
   "cell_type": "code",
   "execution_count": null,
   "metadata": {},
   "outputs": [],
   "source": []
  },
  {
   "cell_type": "code",
   "execution_count": null,
   "metadata": {},
   "outputs": [],
   "source": []
  },
  {
   "cell_type": "code",
   "execution_count": null,
   "metadata": {},
   "outputs": [],
   "source": []
  },
  {
   "cell_type": "markdown",
   "metadata": {},
   "source": [
    "## Array Operations\n",
    "Apart from just manipulating array contents directly, we can also perform operations on them, such a logical, arithmetical, or aggregative operations."
   ]
  },
  {
   "cell_type": "markdown",
   "metadata": {},
   "source": [
    "### Logical Operations\n",
    "Logical operations on NumPy arrays evaluate a condition on every individual entry and return boolean arrays of the same shape as the original array."
   ]
  },
  {
   "cell_type": "code",
   "execution_count": 106,
   "metadata": {},
   "outputs": [
    {
     "name": "stdout",
     "output_type": "stream",
     "text": [
      "[[ -6  -4   7  -5  -6]\n",
      " [ -2 -10   8 -10  -8]\n",
      " [ -1  -2   3   1   4]\n",
      " [  1   4  -5   6  -2]\n",
      " [ -6  -5  -9  -9  -7]]\n",
      "\n",
      "[[False False  True False False]\n",
      " [False False  True False False]\n",
      " [False False  True  True  True]\n",
      " [ True  True False  True False]\n",
      " [False False False False False]]\n"
     ]
    }
   ],
   "source": [
    "M = np.random.randint(low=-10, high=10, size=(5, 5))\n",
    "print(M)\n",
    "print()\n",
    "print(M >= 0) # value yg positve = True, negative = False"
   ]
  },
  {
   "cell_type": "markdown",
   "metadata": {},
   "source": [
    "We can, of course, use the resulting boolean array as a selection mask"
   ]
  },
  {
   "cell_type": "code",
   "execution_count": 107,
   "metadata": {},
   "outputs": [
    {
     "name": "stdout",
     "output_type": "stream",
     "text": [
      "[7 8 3 1 4 1 4 6]\n"
     ]
    }
   ],
   "source": [
    "print(M[M >= 0]) # result of mask is always 1D array"
   ]
  },
  {
   "cell_type": "markdown",
   "metadata": {},
   "source": [
    "and to assign new values to elements > 0"
   ]
  },
  {
   "cell_type": "code",
   "execution_count": 108,
   "metadata": {},
   "outputs": [
    {
     "name": "stdout",
     "output_type": "stream",
     "text": [
      "[[ -6  -4  20  -5  -6]\n",
      " [ -2 -10  20 -10  -8]\n",
      " [ -1  -2  20  20  20]\n",
      " [ 20  20  -5  20  -2]\n",
      " [ -6  -5  -9  -9  -7]]\n"
     ]
    }
   ],
   "source": [
    "M[M > 0] = 20\n",
    "print(M)"
   ]
  },
  {
   "cell_type": "code",
   "execution_count": 110,
   "metadata": {},
   "outputs": [
    {
     "data": {
      "text/plain": [
       "array([[False, False,  True, False, False],\n",
       "       [False, False,  True, False, False],\n",
       "       [False, False,  True,  True,  True],\n",
       "       [ True,  True, False,  True, False],\n",
       "       [False, False, False, False, False]])"
      ]
     },
     "execution_count": 110,
     "metadata": {},
     "output_type": "execute_result"
    }
   ],
   "source": [
    "M > 0"
   ]
  },
  {
   "cell_type": "code",
   "execution_count": 111,
   "metadata": {},
   "outputs": [
    {
     "data": {
      "text/plain": [
       "True"
      ]
     },
     "execution_count": 111,
     "metadata": {},
     "output_type": "execute_result"
    }
   ],
   "source": [
    "(M>5).any() # is there any value>5? if yes, then true, else false"
   ]
  },
  {
   "cell_type": "code",
   "execution_count": 112,
   "metadata": {},
   "outputs": [
    {
     "data": {
      "text/plain": [
       "False"
      ]
     },
     "execution_count": 112,
     "metadata": {},
     "output_type": "execute_result"
    }
   ],
   "source": [
    "(M>5).all() # is all values >5? If yes, then true, else false"
   ]
  },
  {
   "cell_type": "code",
   "execution_count": 109,
   "metadata": {},
   "outputs": [
    {
     "ename": "ValueError",
     "evalue": "The truth value of an array with more than one element is ambiguous. Use a.any() or a.all()",
     "output_type": "error",
     "traceback": [
      "\u001b[1;31m---------------------------------------------------------------------------\u001b[0m",
      "\u001b[1;31mValueError\u001b[0m                                Traceback (most recent call last)",
      "\u001b[1;32m~\\AppData\\Local\\Temp\\ipykernel_9860\\2620407254.py\u001b[0m in \u001b[0;36m<module>\u001b[1;34m\u001b[0m\n\u001b[1;32m----> 1\u001b[1;33m \u001b[1;32mif\u001b[0m \u001b[0mM\u001b[0m \u001b[1;33m>\u001b[0m\u001b[1;36m5\u001b[0m\u001b[1;33m:\u001b[0m\u001b[1;33m\u001b[0m\u001b[1;33m\u001b[0m\u001b[0m\n\u001b[0m\u001b[0;32m      2\u001b[0m     \u001b[0mprint\u001b[0m\u001b[1;33m(\u001b[0m\u001b[1;34m'yes'\u001b[0m\u001b[1;33m)\u001b[0m\u001b[1;33m\u001b[0m\u001b[1;33m\u001b[0m\u001b[0m\n\u001b[0;32m      3\u001b[0m \u001b[1;32melse\u001b[0m\u001b[1;33m:\u001b[0m\u001b[1;33m\u001b[0m\u001b[1;33m\u001b[0m\u001b[0m\n\u001b[0;32m      4\u001b[0m     \u001b[0mprint\u001b[0m\u001b[1;33m(\u001b[0m\u001b[1;34m'No'\u001b[0m\u001b[1;33m)\u001b[0m\u001b[1;33m\u001b[0m\u001b[1;33m\u001b[0m\u001b[0m\n",
      "\u001b[1;31mValueError\u001b[0m: The truth value of an array with more than one element is ambiguous. Use a.any() or a.all()"
     ]
    }
   ],
   "source": [
    "if M >5:\n",
    "    print('yes')\n",
    "else:\n",
    "    print('No') # x boleh pakai if-else mcm ni, kena pakai any/all"
   ]
  },
  {
   "cell_type": "code",
   "execution_count": 115,
   "metadata": {},
   "outputs": [
    {
     "name": "stdout",
     "output_type": "stream",
     "text": [
      "yes\n"
     ]
    }
   ],
   "source": [
    "if (M >5).any():\n",
    "    print('yes')\n",
    "else:\n",
    "    print('No') # kena tambah any/all"
   ]
  },
  {
   "cell_type": "markdown",
   "metadata": {},
   "source": [
    "When using boolean arrays in conditions, for example `if` statements and other boolean expressions, one needs to use `any` or `all`, which requires that any or all elements in the array evalute to `True`:"
   ]
  },
  {
   "cell_type": "code",
   "execution_count": 116,
   "metadata": {},
   "outputs": [
    {
     "name": "stdout",
     "output_type": "stream",
     "text": [
      "[[ 1  4]\n",
      " [ 9 16]]\n",
      "\n",
      "True\n",
      "\n",
      "False\n"
     ]
    }
   ],
   "source": [
    "M = np.array([[ 1,  4],[ 9, 16]])\n",
    "print(M)\n",
    "print()\n",
    "print((M > 5).any())\n",
    "print()\n",
    "print((M > 5).all())"
   ]
  },
  {
   "cell_type": "markdown",
   "metadata": {},
   "source": [
    "Base Python doesn't play well with boolean arrays consisting of multiple values."
   ]
  },
  {
   "cell_type": "code",
   "execution_count": null,
   "metadata": {},
   "outputs": [],
   "source": [
    "# Uncomment to run and see Exception\n",
    "# if M > 5:\n",
    "#     print(\"Hello World\")"
   ]
  },
  {
   "cell_type": "code",
   "execution_count": 117,
   "metadata": {},
   "outputs": [
    {
     "name": "stdout",
     "output_type": "stream",
     "text": [
      "At least one element in M is larger than 5\n"
     ]
    }
   ],
   "source": [
    "#any\n",
    "if (M > 5).any():\n",
    "    print(\"At least one element in M is larger than 5\")\n",
    "else:\n",
    "    print(\"No element in M is larger than 5\")"
   ]
  },
  {
   "cell_type": "code",
   "execution_count": 118,
   "metadata": {
    "scrolled": true
   },
   "outputs": [
    {
     "name": "stdout",
     "output_type": "stream",
     "text": [
      "Not all elements in M are larger than 5\n"
     ]
    }
   ],
   "source": [
    "#all\n",
    "if (M > 5).all():\n",
    "    print(\"All elements in M are larger than 5\")\n",
    "else:\n",
    "    print(\"Not all elements in M are larger than 5\")"
   ]
  },
  {
   "cell_type": "markdown",
   "metadata": {},
   "source": [
    "### Arithmetic\n",
    "Arithemtical operations on NumPy arrays are performed on an element-by-element basis. We can either perform this arithmetic between an array and a scalar, i.e. a single number, or between two arrays.\n",
    "\n",
    "In the case of a scalar, the identical operation is applied to every single array entry."
   ]
  },
  {
   "cell_type": "code",
   "execution_count": 119,
   "metadata": {},
   "outputs": [
    {
     "data": {
      "text/plain": [
       "array([0, 1, 2, 3, 4])"
      ]
     },
     "execution_count": 119,
     "metadata": {},
     "output_type": "execute_result"
    }
   ],
   "source": [
    "v1 = np.arange(0, 5)\n",
    "v1"
   ]
  },
  {
   "cell_type": "code",
   "execution_count": 120,
   "metadata": {},
   "outputs": [
    {
     "data": {
      "text/plain": [
       "array([0, 2, 4, 6, 8])"
      ]
     },
     "execution_count": 120,
     "metadata": {},
     "output_type": "execute_result"
    }
   ],
   "source": [
    "v1 * 2 # scalar so applied on every element in the array"
   ]
  },
  {
   "cell_type": "code",
   "execution_count": 121,
   "metadata": {},
   "outputs": [
    {
     "data": {
      "text/plain": [
       "array([2, 3, 4, 5, 6])"
      ]
     },
     "execution_count": 121,
     "metadata": {},
     "output_type": "execute_result"
    }
   ],
   "source": [
    "v1 + 2"
   ]
  },
  {
   "cell_type": "code",
   "execution_count": 122,
   "metadata": {},
   "outputs": [
    {
     "name": "stdout",
     "output_type": "stream",
     "text": [
      "[[-2  1 -3]\n",
      " [-2  4 -1]\n",
      " [ 1 -2 -3]]\n",
      "\n",
      "[[-4  2 -6]\n",
      " [-4  8 -2]\n",
      " [ 2 -4 -6]]\n",
      "\n",
      "[[ 4  1  9]\n",
      " [ 4 16  1]\n",
      " [ 1  4  9]]\n"
     ]
    }
   ],
   "source": [
    "A = np.random.randint(low=-5, high=5, size=(3, 3))\n",
    "print(A)\n",
    "print()\n",
    "print(A * 2)\n",
    "print()\n",
    "print(A ** 2)"
   ]
  },
  {
   "cell_type": "markdown",
   "metadata": {},
   "source": [
    "When we add, subtract, multiply and divide arrays with each other, the default behaviour is element-wise operations:"
   ]
  },
  {
   "cell_type": "code",
   "execution_count": 123,
   "metadata": {},
   "outputs": [
    {
     "name": "stdout",
     "output_type": "stream",
     "text": [
      "[5 6 7 8 9]\n",
      "[0 1 2 3 4]\n",
      "[ 5  7  9 11 13]\n",
      "[   1    6   49  512 6561]\n"
     ]
    }
   ],
   "source": [
    "v1 = np.arange(start=5, stop=10)\n",
    "v2 = np.arange(start=0, stop=5)\n",
    "print(v1)\n",
    "print(v2)\n",
    "print(v1 + v2) # applied element by element\n",
    "print(v1 ** v2)"
   ]
  },
  {
   "cell_type": "markdown",
   "metadata": {},
   "source": [
    "### Aggregative Functions -- sum, avg, min, max\n",
    "We can also aggregate over arrays using several built-in functions. For example,"
   ]
  },
  {
   "cell_type": "code",
   "execution_count": 124,
   "metadata": {},
   "outputs": [
    {
     "name": "stdout",
     "output_type": "stream",
     "text": [
      "[[6 0]\n",
      " [3 2]]\n",
      "\n",
      "11\n"
     ]
    }
   ],
   "source": [
    "A = np.random.randint(low=0, high=10, size=(2, 2))\n",
    "print(A)\n",
    "print()\n",
    "print(np.sum(A)) # sum of all elements in the array"
   ]
  },
  {
   "cell_type": "markdown",
   "metadata": {},
   "source": [
    "NumPy provides many aggregation functions, but we won't discuss them in detail here.\n",
    "Additionally, most aggregates have a ``NaN``-safe counterpart that computes the result while ignoring missing values, which are marked by the special IEEE floating-point ``NaN`` value.\n",
    "Some of these ``NaN``-safe functions were not added until NumPy 1.8, so they will not be available in older NumPy versions.\n",
    "\n",
    "The following table provides a list of useful aggregation functions available in NumPy:\n",
    "\n",
    "|Function Name      |   NaN-safe Version  | Description                                   |\n",
    "|-------------------|---------------------|-----------------------------------------------|\n",
    "| ``np.sum``        | ``np.nansum``       | Compute sum of elements                       |\n",
    "| ``np.prod``       | ``np.nanprod``      | Compute product of elements                   |\n",
    "| ``np.mean``       | ``np.nanmean``      | Compute mean of elements                      |\n",
    "| ``np.std``        | ``np.nanstd``       | Compute standard deviation                    |\n",
    "| ``np.var``        | ``np.nanvar``       | Compute variance                              |\n",
    "| ``np.min``        | ``np.nanmin``       | Find minimum value                            |\n",
    "| ``np.max``        | ``np.nanmax``       | Find maximum value                            |\n",
    "| ``np.argmin``     | ``np.nanargmin``    | Find index of minimum value                   |\n",
    "| ``np.argmax``     | ``np.nanargmax``    | Find index of maximum value                   |\n",
    "| ``np.median``     | ``np.nanmedian``    | Compute median of elements                    |\n",
    "| ``np.percentile`` | ``np.nanpercentile``| Compute rank-based statistics of elements     |\n",
    "| ``np.any``        | N/A                 | Evaluate whether any elements are true        |\n",
    "| ``np.all``        | N/A                 | Evaluate whether all elements are true        |"
   ]
  },
  {
   "cell_type": "code",
   "execution_count": 125,
   "metadata": {},
   "outputs": [
    {
     "data": {
      "text/plain": [
       "nan"
      ]
     },
     "execution_count": 125,
     "metadata": {},
     "output_type": "execute_result"
    }
   ],
   "source": [
    "3 + np.nan + 6 # kalau ada nan mmg xkan kluar jawapan"
   ]
  },
  {
   "cell_type": "code",
   "execution_count": 127,
   "metadata": {},
   "outputs": [
    {
     "name": "stdout",
     "output_type": "stream",
     "text": [
      "[[ 1.  2.]\n",
      " [ 3. nan]]\n"
     ]
    }
   ],
   "source": [
    "A = np.array([[1, 2], [3, np.nan]])\n",
    "print(A)"
   ]
  },
  {
   "cell_type": "code",
   "execution_count": 128,
   "metadata": {},
   "outputs": [
    {
     "name": "stdout",
     "output_type": "stream",
     "text": [
      "nan\n"
     ]
    }
   ],
   "source": [
    "print(np.sum(A))  # kalau ada nan mmg xkan kluar jawapan"
   ]
  },
  {
   "cell_type": "markdown",
   "metadata": {},
   "source": [
    "\"`NaN`-safe\" means that the function ignores any missing values, e.g."
   ]
  },
  {
   "cell_type": "code",
   "execution_count": 129,
   "metadata": {},
   "outputs": [
    {
     "name": "stdout",
     "output_type": "stream",
     "text": [
      "6.0\n"
     ]
    }
   ],
   "source": [
    "print(np.nansum(A)) # teruskan operation ignore missing value"
   ]
  },
  {
   "cell_type": "code",
   "execution_count": 139,
   "metadata": {},
   "outputs": [
    {
     "name": "stdout",
     "output_type": "stream",
     "text": [
      "[[5 0]\n",
      " [2 6]]\n",
      "\n",
      "6\n"
     ]
    }
   ],
   "source": [
    "A = np.random.randint(low=0, high=10, size=(2,2))\n",
    "print(A)\n",
    "print()\n",
    "print(np.max(A)) # give maximum value"
   ]
  },
  {
   "cell_type": "markdown",
   "metadata": {},
   "source": [
    "We can apply these functions either to entire arrays or individual axes. To understand how the `axis` parameter works it's best to stop thinking of arrays as rows and columns but as nested lists. `axis=0` performs an operation along the outer-most dimension, e.g. if \n",
    "\n",
    "$$A = \\begin{matrix} [[1 & 5] \\\\ [2 & 2]] \\end{matrix}$$\n",
    "\n",
    "then the two arrays (1, 5) and (2, 2) would be added together elementwise, resulting in (3, 7). For `axis=1`, the individual elements of each array in the next layer would be added together, i.e. (1 + 5, 2 + 2) = (6, 4)."
   ]
  },
  {
   "cell_type": "code",
   "execution_count": 136,
   "metadata": {},
   "outputs": [
    {
     "name": "stdout",
     "output_type": "stream",
     "text": [
      "[[1 5]\n",
      " [2 2]]\n",
      "\n",
      "[3 7]\n",
      "\n",
      "[6 4]\n"
     ]
    }
   ],
   "source": [
    "A = np.array([[1, 5], [2, 2]])\n",
    "print(A)\n",
    "print()\n",
    "print(np.sum(A, axis=0)) # axis=0--> sum of every column\n",
    "print()\n",
    "print(np.sum(A, axis=1)) # axis=1--> sum of every row"
   ]
  },
  {
   "cell_type": "code",
   "execution_count": 138,
   "metadata": {},
   "outputs": [
    {
     "data": {
      "text/plain": [
       "array([3., 2.])"
      ]
     },
     "execution_count": 138,
     "metadata": {},
     "output_type": "execute_result"
    }
   ],
   "source": [
    "np.mean(A, axis = 1) # average of every row"
   ]
  },
  {
   "cell_type": "markdown",
   "metadata": {},
   "source": [
    "### Vectorization\n",
    "\n",
    "Vectorization in NumPy refers to the implementation of mathematical operations in compiled C code rather than interpreted Python code. This provides a substantial performance boost. Furthermore, due to NumPy's more intuitive treatment of array arithmetic, as much of a program's math should be formulated in terms of NumPy operations. Many packages, like Pandas, SciPy, and Scikit-Learn make use of this vectorization."
   ]
  },
  {
   "cell_type": "code",
   "execution_count": 144,
   "metadata": {
    "scrolled": true
   },
   "outputs": [
    {
     "name": "stdout",
     "output_type": "stream",
     "text": [
      "[1, 2, 3, 4, 5, 1, 2, 3, 4, 5]\n",
      "[ 2  4  6  8 10]\n"
     ]
    }
   ],
   "source": [
    "# More intuitive treatment of lists versus arrays\n",
    "lis = [1,2,3,4,5]\n",
    "print(lis + lis) # list just concatenate\n",
    "\n",
    "ary = np.array(lis)\n",
    "print(ary + ary) # array do actual calculation"
   ]
  },
  {
   "cell_type": "markdown",
   "metadata": {},
   "source": [
    "Achieving the same result in base Python requires loops.\n",
    "Kalau nak buat operation dalam list kena pakai for loop."
   ]
  },
  {
   "cell_type": "code",
   "execution_count": 145,
   "metadata": {},
   "outputs": [
    {
     "data": {
      "text/plain": [
       "[1, 2, 3, 4, 5]"
      ]
     },
     "execution_count": 145,
     "metadata": {},
     "output_type": "execute_result"
    }
   ],
   "source": [
    "lis"
   ]
  },
  {
   "cell_type": "code",
   "execution_count": 146,
   "metadata": {},
   "outputs": [
    {
     "data": {
      "text/plain": [
       "[2, 4, 6, 8, 10]"
      ]
     },
     "execution_count": 146,
     "metadata": {},
     "output_type": "execute_result"
    }
   ],
   "source": [
    "[x+x for x in lis]"
   ]
  },
  {
   "cell_type": "markdown",
   "metadata": {},
   "source": [
    "This takes substantially longer. NumPy is faster by a factor of over 100 when adding large lists together."
   ]
  },
  {
   "cell_type": "code",
   "execution_count": 147,
   "metadata": {},
   "outputs": [
    {
     "name": "stdout",
     "output_type": "stream",
     "text": [
      "2.65 ms ± 531 µs per loop (mean ± std. dev. of 7 runs, 100 loops each)\n",
      "29.5 µs ± 5.42 µs per loop (mean ± std. dev. of 7 runs, 10000 loops each)\n"
     ]
    }
   ],
   "source": [
    "lis = range(10000)\n",
    "ary = np.array(lis)\n",
    "# %timeit gives running time of each command\n",
    "%timeit [x+x for x in lis]\n",
    "%timeit ary + ary # vectorization takes shorter time"
   ]
  },
  {
   "cell_type": "markdown",
   "metadata": {},
   "source": [
    "We call operations on numpy arrays **vectorized**. This feature is the reason NumPy sits at the base of so many numerical and scientific Python libraries, e.g. scipy, scikit-learn and Pandas."
   ]
  },
  {
   "cell_type": "markdown",
   "metadata": {},
   "source": [
    "### Broadcasting- how numpy do arithmetic operation between 2 arrays of different size\n",
    "If we can add arrays together element-wise then we also need to make sure we have rules in place for when their shape doesn't match. For example, we want `np.array([1,2,3]) * 2 = np.array([2,4,6])`. That means that the scalar 2 needs to be *broadcast* to the same shape as the array. NumPy defines three rules for broadcasting that determine how binary functions, e.g., addition, subtraction, multiplication, division, or exponentiation, are performed on arrays of different sizes.\n",
    "\n",
    "![Broadcasting](../images/broadcasting.png)\n",
    "\n",
    "- **Rule 1:** If the two arrays differ in their number of dimensions, the shape of the one with fewer dimensions is *padded* with ones on its leading (left) side.\n",
    "- **Rule 2:** If in any dimensions the sizes disagree and one of the arrays has a size of 1 in that dimension then that array is stretched to match the other shape.\n",
    "- **Rule 3:** If in any dimension the sizes disagree and neither is equal to 1, an error is raised."
   ]
  },
  {
   "cell_type": "markdown",
   "metadata": {},
   "source": [
    "#### Rule 1\n",
    "Let's take a moment to highlight a very important distinction between 1D arrays and 2D arrays with a single row. These may look and behave similarly but are, in fact, quite different."
   ]
  },
  {
   "cell_type": "code",
   "execution_count": 148,
   "metadata": {},
   "outputs": [
    {
     "name": "stdout",
     "output_type": "stream",
     "text": [
      "[1. 1. 1. 1. 1.]\n",
      "a1 shape: (5,)\n",
      "\n",
      "[[1. 1. 1. 1. 1.]]\n",
      "a2 shape: (1, 5)\n"
     ]
    }
   ],
   "source": [
    "a1 = np.ones(5)\n",
    "print(a1)\n",
    "print(\"a1 shape: {}\".format(a1.shape)) # 1d array\n",
    "print()\n",
    "a2 = np.ones((1, 5))\n",
    "print(a2)\n",
    "print(\"a2 shape: {}\".format(a2.shape))# 2d array walaupon row 1 je"
   ]
  },
  {
   "cell_type": "code",
   "execution_count": null,
   "metadata": {},
   "outputs": [],
   "source": [
    "# rule 1:\n",
    "# cannot add 2d array and 1d array \n",
    "# convert 1d jadi 2d baru boleh tambah"
   ]
  },
  {
   "cell_type": "code",
   "execution_count": null,
   "metadata": {},
   "outputs": [],
   "source": [
    "# pad 1 into left side\n",
    "(5,) --> (1,5)\n",
    "# eventually sama je rupa dia 2d ngan 1d tu"
   ]
  },
  {
   "cell_type": "markdown",
   "metadata": {},
   "source": [
    "The same applies to higher-dimensional arrays with more \"padded dimensions\", e.g."
   ]
  },
  {
   "cell_type": "code",
   "execution_count": null,
   "metadata": {},
   "outputs": [],
   "source": [
    "a3 = np.ones((1, 1, 1, 5)) # tambah 1 dekat belah kiri\n",
    "print(a3) # value sama je, dimension je berubah\n",
    "print(\"a3 shape: {}\".format(a3.shape))"
   ]
  },
  {
   "cell_type": "markdown",
   "metadata": {},
   "source": [
    "We will see later in this chapter that they behave differently with regards to indexing and stacking. For now, simply keep in mind that they have different dimensions despite containing the same data arranged in the same way, i.e. a single row.\n",
    "\n",
    "With this in mind, the following example highlights rule 1. Array `b` has a single dimension and must first be padded with an empty dimension before being added, element-wise, to array `a`."
   ]
  },
  {
   "cell_type": "code",
   "execution_count": 153,
   "metadata": {},
   "outputs": [
    {
     "name": "stdout",
     "output_type": "stream",
     "text": [
      "[[1 1 1]]\n",
      "\n",
      "[1 2 3]\n",
      "\n",
      "[[2 3 4]]\n"
     ]
    }
   ],
   "source": [
    "a = np.ones((1, 3), dtype=int)\n",
    "b = np.arange(1, 4) # arange-->isi array tu 1 sampai 3\n",
    "# check shape tgk brapa square bracket\n",
    "print(a) # 2d array --> 1 row, 3 column\n",
    "print(\"\")\n",
    "print(b) # 1d array --> 3 element  (3,)-->(1,3) [padding at left]\n",
    "print(\"\")\n",
    "print(a + b) # python automatically buat broadcasting tu"
   ]
  },
  {
   "cell_type": "code",
   "execution_count": 152,
   "metadata": {},
   "outputs": [
    {
     "name": "stdout",
     "output_type": "stream",
     "text": [
      "(1, 3)\n",
      "(3,)\n"
     ]
    }
   ],
   "source": [
    "print(a.shape)\n",
    "print(b.shape)"
   ]
  },
  {
   "cell_type": "markdown",
   "metadata": {},
   "source": [
    "Scalars are a special case in this."
   ]
  },
  {
   "cell_type": "code",
   "execution_count": null,
   "metadata": {},
   "outputs": [],
   "source": [
    "M = np.ones((3, 3))\n",
    "print(M)\n",
    "print()\n",
    "print(M + 5)"
   ]
  },
  {
   "cell_type": "markdown",
   "metadata": {},
   "source": [
    "#### Rule 2\n",
    "Both arrays have the same number of dimensions, but while `a` has 3 rows, `b` has only one. Therefore, `b` is stretched to have 3 rows and the two resulting matrices are added together element-wise."
   ]
  },
  {
   "cell_type": "markdown",
   "metadata": {},
   "source": [
    "kalau shape x sama, then kena 'stretch' bagi sama"
   ]
  },
  {
   "cell_type": "code",
   "execution_count": 155,
   "metadata": {},
   "outputs": [
    {
     "name": "stdout",
     "output_type": "stream",
     "text": [
      "[[0 0 0]\n",
      " [0 0 0]\n",
      " [0 0 0]]\n",
      "a shape: (3, 3)\n",
      "\n",
      "[[1 2 3]]\n",
      "b shape: (1, 3)\n",
      "\n",
      "[[1 2 3]\n",
      " [1 2 3]\n",
      " [1 2 3]]\n"
     ]
    }
   ],
   "source": [
    "a = np.zeros((3, 3), dtype=np.int8)\n",
    "b = np.array([[1, 2, 3]])\n",
    "\n",
    "print(a)\n",
    "print(\"a shape: {}\".format(a.shape))\n",
    "print(\"\")\n",
    "print(b) # stretch (1,3) bagi jadi (3,3) jugak\n",
    "print(\"b shape: {}\".format(b.shape))\n",
    "print(\"\")\n",
    "print(a + b)"
   ]
  },
  {
   "cell_type": "markdown",
   "metadata": {},
   "source": [
    "In this example, `a` and `b` don't match in either dimension, but for each one, at least one of the arrays has a size of 1 so that they can be stretched accordingly. The result is a 3x3 matrix."
   ]
  },
  {
   "cell_type": "code",
   "execution_count": 156,
   "metadata": {},
   "outputs": [
    {
     "name": "stdout",
     "output_type": "stream",
     "text": [
      "[[1]\n",
      " [2]\n",
      " [3]]\n",
      "a shape: (3, 1)\n",
      "\n",
      "[[1 2 3]]\n",
      "b shape: (1, 3)\n",
      "\n",
      "[[2 3 4]\n",
      " [3 4 5]\n",
      " [4 5 6]]\n"
     ]
    }
   ],
   "source": [
    "a = np.array([[1], [2], [3]])\n",
    "b = np.array([[1, 2, 3]])\n",
    "\n",
    "print(a) # stretch by column\n",
    "print(\"a shape: {}\".format(a.shape))\n",
    "print(\"\")\n",
    "print(b) # stretch by row\n",
    "print(\"b shape: {}\".format(b.shape))\n",
    "print(\"\")\n",
    "print(a + b)"
   ]
  },
  {
   "cell_type": "markdown",
   "metadata": {},
   "source": [
    "Internally, NumPy expands this to:\n",
    "\n",
    "    1 1 1     1 2 3     2 3 4\n",
    "    2 2 2  +  1 2 3  =  3 4 5\n",
    "    3 3 3     1 2 3     4 5 6"
   ]
  },
  {
   "cell_type": "markdown",
   "metadata": {},
   "source": [
    "#### Rule 3\n",
    "Here, the second dimension doesn't match but neither of the arrays has a size of 1. NumPy doesn't know how to solve this problem this and throws an exception."
   ]
  },
  {
   "cell_type": "code",
   "execution_count": 158,
   "metadata": {},
   "outputs": [
    {
     "name": "stdout",
     "output_type": "stream",
     "text": [
      "[[1. 1.]\n",
      " [1. 1.]\n",
      " [1. 1.]]\n",
      "a shape: (3, 2)\n",
      "\n",
      "[[7 1 6]\n",
      " [9 3 7]\n",
      " [8 1 2]]\n",
      "b shape: (3, 3)\n",
      "\n"
     ]
    },
    {
     "ename": "ValueError",
     "evalue": "operands could not be broadcast together with shapes (3,2) (3,3) ",
     "output_type": "error",
     "traceback": [
      "\u001b[1;31m---------------------------------------------------------------------------\u001b[0m",
      "\u001b[1;31mValueError\u001b[0m                                Traceback (most recent call last)",
      "\u001b[1;32m~\\AppData\\Local\\Temp\\ipykernel_9860\\2296520865.py\u001b[0m in \u001b[0;36m<module>\u001b[1;34m\u001b[0m\n\u001b[0;32m     10\u001b[0m \u001b[0mprint\u001b[0m\u001b[1;33m(\u001b[0m\u001b[1;34m\"\"\u001b[0m\u001b[1;33m)\u001b[0m\u001b[1;33m\u001b[0m\u001b[1;33m\u001b[0m\u001b[0m\n\u001b[0;32m     11\u001b[0m \u001b[1;31m# Uncomment to see Exception\u001b[0m\u001b[1;33m\u001b[0m\u001b[1;33m\u001b[0m\u001b[0m\n\u001b[1;32m---> 12\u001b[1;33m \u001b[0mprint\u001b[0m\u001b[1;33m(\u001b[0m\u001b[0ma\u001b[0m \u001b[1;33m+\u001b[0m \u001b[0mb\u001b[0m\u001b[1;33m)\u001b[0m\u001b[1;33m\u001b[0m\u001b[1;33m\u001b[0m\u001b[0m\n\u001b[0m",
      "\u001b[1;31mValueError\u001b[0m: operands could not be broadcast together with shapes (3,2) (3,3) "
     ]
    }
   ],
   "source": [
    "# Rule three --> size xde yg 1 so x boleh add\n",
    "a = np.ones((3, 2))\n",
    "b = np.random.randint(low=1, high=10, size=(3, 3))\n",
    "\n",
    "print(a)\n",
    "print(\"a shape: {}\".format(a.shape))\n",
    "print(\"\")\n",
    "print(b)\n",
    "print(\"b shape: {}\".format(b.shape))\n",
    "print(\"\")\n",
    "# Uncomment to see Exception\n",
    "print(a + b)"
   ]
  },
  {
   "cell_type": "markdown",
   "metadata": {},
   "source": [
    "### Further Reading\n",
    "https://docs.scipy.org/doc/numpy-1.13.0/user/basics.broadcasting.html"
   ]
  },
  {
   "cell_type": "markdown",
   "metadata": {},
   "source": [
    "### Excercises"
   ]
  },
  {
   "cell_type": "markdown",
   "metadata": {},
   "source": [
    "#### Exercise 1\n",
    "Create two 8x8 arrays of random integers. The first should have only negative numbers between -10 and -1 (inclusive) and the second should have only positive numbers between 1 and 10 (inclusive). Add them together and save the result as a variable `A`."
   ]
  },
  {
   "cell_type": "code",
   "execution_count": null,
   "metadata": {},
   "outputs": [],
   "source": [
    "### Your code here"
   ]
  },
  {
   "cell_type": "code",
   "execution_count": 167,
   "metadata": {},
   "outputs": [
    {
     "name": "stdout",
     "output_type": "stream",
     "text": [
      "[[ 9 -7  4  8 -4 -4  1  0]\n",
      " [-2  5  1 -1 -2 -4  0 -3]\n",
      " [ 5 -4 -1  2 -4  0  3 -8]\n",
      " [-1  5 -5  3  1 -5  1 -1]\n",
      " [-2  2 -1  7  3  5 -1 -5]\n",
      " [-1  6 -9 -4 -1 -8  5  5]\n",
      " [-7  3  7  0  0  6  3  0]\n",
      " [-8 -4  4  1 -4 -3  3 -9]]\n"
     ]
    }
   ],
   "source": [
    "# Haseena\n",
    "b = np.random.randint(low=-10, high=0, size=(8, 8))\n",
    "c = np.random.randint(low=1, high=11, size=(8, 8))\n",
    "a = b + c\n",
    "print(a)\n",
    "\n"
   ]
  },
  {
   "cell_type": "markdown",
   "metadata": {},
   "source": [
    "#### Exercise 2\n",
    "Calculate the mean of the entire matrix `A`."
   ]
  },
  {
   "cell_type": "code",
   "execution_count": null,
   "metadata": {},
   "outputs": [],
   "source": [
    "### Your code here"
   ]
  },
  {
   "cell_type": "code",
   "execution_count": 169,
   "metadata": {},
   "outputs": [
    {
     "data": {
      "text/plain": [
       "-0.234375"
      ]
     },
     "execution_count": 169,
     "metadata": {},
     "output_type": "execute_result"
    }
   ],
   "source": [
    "# Haseena\n",
    "np.mean(a)"
   ]
  },
  {
   "cell_type": "markdown",
   "metadata": {},
   "source": [
    "#### Exercise 3\n",
    "How many of the entries of the resulting matrix `A` are positive, negative, and zero?"
   ]
  },
  {
   "cell_type": "code",
   "execution_count": 173,
   "metadata": {},
   "outputs": [
    {
     "data": {
      "text/plain": [
       "2"
      ]
     },
     "execution_count": 173,
     "metadata": {},
     "output_type": "execute_result"
    }
   ],
   "source": [
    "np.sum([True,False,True,False,False]) #tolong kira ada berapa True"
   ]
  },
  {
   "cell_type": "code",
   "execution_count": 174,
   "metadata": {},
   "outputs": [
    {
     "data": {
      "text/plain": [
       "27"
      ]
     },
     "execution_count": 174,
     "metadata": {},
     "output_type": "execute_result"
    }
   ],
   "source": [
    "np.sum([a>0]) # ada 27 element > 0"
   ]
  },
  {
   "cell_type": "code",
   "execution_count": 175,
   "metadata": {},
   "outputs": [
    {
     "data": {
      "text/plain": [
       "27"
      ]
     },
     "execution_count": 175,
     "metadata": {},
     "output_type": "execute_result"
    }
   ],
   "source": [
    "len(a[a>0]) # cara lain"
   ]
  },
  {
   "cell_type": "code",
   "execution_count": 178,
   "metadata": {},
   "outputs": [
    {
     "name": "stdout",
     "output_type": "stream",
     "text": [
      "number of positive entries: 27 number of negative entries: 31 number of zero: 6\n"
     ]
    }
   ],
   "source": [
    "# Haseena\n",
    "print('number of positive entries:',np.sum([a>0]),\n",
    "      'number of negative entries:',np.sum([a<0]),\n",
    "      'number of zero:',np.sum([a==0]))"
   ]
  },
  {
   "cell_type": "markdown",
   "metadata": {},
   "source": [
    "#### Exercise 4\n",
    "Calculate the mean of every row and column of the matrix `A`"
   ]
  },
  {
   "cell_type": "code",
   "execution_count": 179,
   "metadata": {},
   "outputs": [
    {
     "data": {
      "text/plain": [
       "array([[ 9, -7,  4,  8, -4, -4,  1,  0],\n",
       "       [-2,  5,  1, -1, -2, -4,  0, -3],\n",
       "       [ 5, -4, -1,  2, -4,  0,  3, -8],\n",
       "       [-1,  5, -5,  3,  1, -5,  1, -1],\n",
       "       [-2,  2, -1,  7,  3,  5, -1, -5],\n",
       "       [-1,  6, -9, -4, -1, -8,  5,  5],\n",
       "       [-7,  3,  7,  0,  0,  6,  3,  0],\n",
       "       [-8, -4,  4,  1, -4, -3,  3, -9]])"
      ]
     },
     "execution_count": 179,
     "metadata": {},
     "output_type": "execute_result"
    }
   ],
   "source": [
    "a"
   ]
  },
  {
   "cell_type": "code",
   "execution_count": 181,
   "metadata": {},
   "outputs": [
    {
     "name": "stdout",
     "output_type": "stream",
     "text": [
      "mean of each column: [-0.875  0.75   0.     2.    -1.375 -1.625  1.875 -2.625]\n",
      "mean of each row: [ 0.875 -0.75  -0.875 -0.25   1.    -0.875  1.5   -2.5  ]\n"
     ]
    }
   ],
   "source": [
    "# Haseena\n",
    "print('mean of each column:',np.mean(a, axis = 0))\n",
    "print('mean of each row:',np.mean(a, axis = 1))"
   ]
  },
  {
   "cell_type": "markdown",
   "metadata": {},
   "source": [
    "#### Exercise 5\n",
    "Make use of broadcasting rules to multiply the first row of the following array by 2, the second row by 3 and the third row by 4."
   ]
  },
  {
   "cell_type": "code",
   "execution_count": null,
   "metadata": {},
   "outputs": [],
   "source": [
    "### Your code here\n",
    "A = np.array([\n",
    "    [1, 2, 3], \n",
    "    [1, 2, 3], \n",
    "    [1, 2, 3]])"
   ]
  },
  {
   "cell_type": "code",
   "execution_count": null,
   "metadata": {},
   "outputs": [],
   "source": []
  },
  {
   "cell_type": "markdown",
   "metadata": {},
   "source": [
    "## Advanced Manipulation "
   ]
  },
  {
   "cell_type": "markdown",
   "metadata": {},
   "source": [
    "### Reshaping and Transposing\n",
    "On disk, NumPy arrays are stored by their values and their shapes separately. That means we can change the shape of an array very quickly, regardless of the actual size. The array dimensions must match, i.e. the new shape must have space for exactly as many elements as the old shape. \n",
    "\n",
    "Elements are reshaped in an \"inside-out\" fashion. That means the inner-most dimensions are filled with values first and then combined in the outer dimensions. In the context of 2D matrices, this means that values are set rows-first."
   ]
  },
  {
   "cell_type": "code",
   "execution_count": 183,
   "metadata": {},
   "outputs": [
    {
     "name": "stdout",
     "output_type": "stream",
     "text": [
      "[ 0  1  2  3  4  5  6  7  8  9 10 11]\n",
      "\n",
      "[[ 0  1  2  3]\n",
      " [ 4  5  6  7]\n",
      " [ 8  9 10 11]]\n",
      "\n",
      "[[ 0  1]\n",
      " [ 2  3]\n",
      " [ 4  5]\n",
      " [ 6  7]\n",
      " [ 8  9]\n",
      " [10 11]]\n"
     ]
    }
   ],
   "source": [
    "a = np.arange(12)\n",
    "print(a)\n",
    "print()\n",
    "print(a.reshape(3, 4)) # dpt 12\n",
    "print()\n",
    "print(a.reshape(6, 2)) # dpt 12"
   ]
  },
  {
   "cell_type": "code",
   "execution_count": 184,
   "metadata": {},
   "outputs": [
    {
     "data": {
      "text/plain": [
       "array([[[ 0,  1,  2],\n",
       "        [ 3,  4,  5]],\n",
       "\n",
       "       [[ 6,  7,  8],\n",
       "        [ 9, 10, 11]]])"
      ]
     },
     "execution_count": 184,
     "metadata": {},
     "output_type": "execute_result"
    }
   ],
   "source": [
    "# bila multiply shape mesti dpt 12 jugak\n",
    "a.reshape(2,2,3) # 2 set, each with 2 rows and 3 column"
   ]
  },
  {
   "cell_type": "markdown",
   "metadata": {},
   "source": [
    "Alternatively, we can also transpose matrices. Transposing means that the order of dimensions become flipped, i.e. the first dimensions becomes the last, the last the first, etc. Consequently, **transposing 1D arrays has no effect**."
   ]
  },
  {
   "cell_type": "code",
   "execution_count": 185,
   "metadata": {},
   "outputs": [
    {
     "name": "stdout",
     "output_type": "stream",
     "text": [
      "[ 0  1  2  3  4  5  6  7  8  9 10 11]\n",
      "[ 0  1  2  3  4  5  6  7  8  9 10 11]\n"
     ]
    }
   ],
   "source": [
    "print(a)\n",
    "print(a.transpose()) # transpose dpt result yg sama"
   ]
  },
  {
   "cell_type": "markdown",
   "metadata": {},
   "source": [
    "Transposing 2D arrays means that rows become columns and columns become rows."
   ]
  },
  {
   "cell_type": "code",
   "execution_count": 188,
   "metadata": {},
   "outputs": [
    {
     "name": "stdout",
     "output_type": "stream",
     "text": [
      "[[ 0  1  2  3  4]\n",
      " [ 5  6  7  8  9]\n",
      " [10 11 12 13 14]]\n",
      "(3, 5)\n",
      "\n",
      "[[ 0  5 10]\n",
      " [ 1  6 11]\n",
      " [ 2  7 12]\n",
      " [ 3  8 13]\n",
      " [ 4  9 14]]\n",
      "(5, 3)\n"
     ]
    }
   ],
   "source": [
    "A = np.arange(15).reshape(3, 5)\n",
    "print(A)\n",
    "print(A.shape)\n",
    "print()\n",
    "print(A.transpose()) # column jadi row\n",
    "print(A.transpose().shape)"
   ]
  },
  {
   "cell_type": "markdown",
   "metadata": {},
   "source": [
    "For higher-dimensional arrays, the order of the dimensions reverses. Within this new shape, values are then set in the same \"inside-out\" fashion."
   ]
  },
  {
   "cell_type": "code",
   "execution_count": 191,
   "metadata": {},
   "outputs": [
    {
     "name": "stdout",
     "output_type": "stream",
     "text": [
      "(2, 3, 4, 5, 6)\n",
      "\n",
      "(6, 5, 4, 3, 2)\n"
     ]
    }
   ],
   "source": [
    "A = np.random.randint(low=-5, high=5, size=(2, 3, 4, 5, 6))\n",
    "print(A.shape)\n",
    "print()\n",
    "print(A.transpose().shape)\n",
    "# transpose reverse order of shape"
   ]
  },
  {
   "cell_type": "markdown",
   "metadata": {},
   "source": [
    "Alternatively, we can also define how we want to reorder the dimensions."
   ]
  },
  {
   "cell_type": "code",
   "execution_count": null,
   "metadata": {},
   "outputs": [],
   "source": [
    "print(A.shape) # utk high dimension array\n",
    "print()\n",
    "print(A.transpose((0, 1, 2, 4, 3)).shape)\n",
    "# transpose ikut order yg kita nak"
   ]
  },
  {
   "cell_type": "markdown",
   "metadata": {},
   "source": [
    "To help you understand what is happening here, it is easiest to picture this as creating an empty array with a specified shape and then filling it with the values of the original array, even though this isn't actually what happens \"under the hood\"."
   ]
  },
  {
   "cell_type": "markdown",
   "metadata": {},
   "source": [
    "### Adding a new dimension with `newaxis`\n",
    "\n",
    "With newaxis, we can insert new dimensions in an array, for example converting a vector to a column or row matrix."
   ]
  },
  {
   "cell_type": "code",
   "execution_count": 193,
   "metadata": {},
   "outputs": [
    {
     "data": {
      "text/plain": [
       "array([[0, 1, 2, 3, 4]])"
      ]
     },
     "execution_count": 193,
     "metadata": {},
     "output_type": "execute_result"
    }
   ],
   "source": [
    "v.reshape(1,5) # kena specify shape yg kita nak"
   ]
  },
  {
   "cell_type": "code",
   "execution_count": 192,
   "metadata": {},
   "outputs": [
    {
     "name": "stdout",
     "output_type": "stream",
     "text": [
      "[0 1 2 3 4]\n",
      "(5,)\n",
      "\n",
      "[[0 1 2 3 4]]\n",
      "(1, 5)\n",
      "\n",
      "[[0]\n",
      " [1]\n",
      " [2]\n",
      " [3]\n",
      " [4]]\n",
      "(5, 1)\n",
      "\n"
     ]
    }
   ],
   "source": [
    "v = np.arange(5)\n",
    "print(v)\n",
    "print(v.shape)\n",
    "print()\n",
    "v2 = v[np.newaxis, :] # add newaxis at row part, column pakai original value\n",
    "print(v2)\n",
    "print(v2.shape)\n",
    "print()\n",
    "v3 = v[:, np.newaxis] # add newaxis at column part\n",
    "print(v3)\n",
    "print(v3.shape)\n",
    "print()"
   ]
  },
  {
   "cell_type": "markdown",
   "metadata": {},
   "source": [
    "This is essentially shorthand for reshaping an array and becomes useful when we don't want to explictly list the old dimensions of the array, e.g."
   ]
  },
  {
   "cell_type": "code",
   "execution_count": 194,
   "metadata": {},
   "outputs": [
    {
     "name": "stdout",
     "output_type": "stream",
     "text": [
      "[[ 3 -2  4 -2]\n",
      " [-5  2  4  4]\n",
      " [ 3 -2 -1  1]]\n",
      "(3, 4)\n",
      "\n",
      "[[[ 3 -2  4 -2]]\n",
      "\n",
      " [[-5  2  4  4]]\n",
      "\n",
      " [[ 3 -2 -1  1]]]\n",
      "(3, 1, 4)\n",
      "\n",
      "[[[ 3 -2  4 -2]]\n",
      "\n",
      " [[-5  2  4  4]]\n",
      "\n",
      " [[ 3 -2 -1  1]]]\n",
      "(3, 1, 4)\n"
     ]
    }
   ],
   "source": [
    "# nak create array shape(3,1,4)\n",
    "A = np.random.randint(low=-5, high=5, size=(3, 4))\n",
    "print(A)\n",
    "print(A.shape)\n",
    "print()\n",
    "A2 = A[:, np.newaxis, :] # x perlu specify shape\n",
    "print(A2)\n",
    "print(A2.shape)\n",
    "print()\n",
    "# We have to explicitly list the old dimensions--> dpt result sama\n",
    "A3 = A.reshape(3, 1, 4)\n",
    "print(A3)\n",
    "print(A3.shape)"
   ]
  },
  {
   "cell_type": "markdown",
   "metadata": {},
   "source": [
    "### Concatenation and Splitting - will not increase dimension of array\n",
    "We can concatenate arrays along given axes. In order to be concatenated, they must have the same number of dimensions and their shapes must match (column-wise or row-wise) "
   ]
  },
  {
   "cell_type": "code",
   "execution_count": 195,
   "metadata": {},
   "outputs": [
    {
     "name": "stdout",
     "output_type": "stream",
     "text": [
      "A\n",
      "[0 1 2 3 4 5 6 7 8 9]\n",
      "(10,)\n",
      "\n",
      "B\n",
      "[[20 21 22 23 24 25 26 27 28 29]\n",
      " [30 31 32 33 34 35 36 37 38 39]]\n",
      "(2, 10)\n",
      "\n"
     ]
    }
   ],
   "source": [
    "\n",
    "A = np.arange(10)\n",
    "B = np.arange(20, 40).reshape((2,10))\n",
    "print('A')\n",
    "print(A)\n",
    "print(A.shape)\n",
    "print()\n",
    "print('B')\n",
    "print(B)\n",
    "print(B.shape)\n",
    "print()"
   ]
  },
  {
   "cell_type": "code",
   "execution_count": 196,
   "metadata": {},
   "outputs": [
    {
     "name": "stdout",
     "output_type": "stream",
     "text": [
      "[0 1 2 3 4 5 6 7 8 9 0 1 2 3 4 5 6 7 8 9]\n",
      "\n",
      "[[20 21 22 23 24 25 26 27 28 29]\n",
      " [30 31 32 33 34 35 36 37 38 39]\n",
      " [20 21 22 23 24 25 26 27 28 29]\n",
      " [30 31 32 33 34 35 36 37 38 39]]\n"
     ]
    }
   ],
   "source": [
    "print(np.concatenate((A, A))) # concatenate side by side\n",
    "print()\n",
    "print(np.concatenate((B, B))) # by default, axis = 0\n"
   ]
  },
  {
   "cell_type": "markdown",
   "metadata": {},
   "source": [
    "By default, `np.concatenate` will combine arrays along `axis=0`. We can specify the axis along which to concatenate, however."
   ]
  },
  {
   "cell_type": "code",
   "execution_count": 197,
   "metadata": {},
   "outputs": [
    {
     "name": "stdout",
     "output_type": "stream",
     "text": [
      "[[20 21 22 23 24 25 26 27 28 29 20 21 22 23 24 25 26 27 28 29]\n",
      " [30 31 32 33 34 35 36 37 38 39 30 31 32 33 34 35 36 37 38 39]]\n"
     ]
    }
   ],
   "source": [
    "print(np.concatenate((B, B), axis=1))\n"
   ]
  },
  {
   "cell_type": "markdown",
   "metadata": {},
   "source": [
    "While `np.concatenate` joins arrays along existing axes, `np.stack` combines them along new axes. `Stack` will increase dimension."
   ]
  },
  {
   "cell_type": "code",
   "execution_count": 198,
   "metadata": {},
   "outputs": [
    {
     "name": "stdout",
     "output_type": "stream",
     "text": [
      "[0 1 2 3 4 5 6 7 8 9]\n",
      "(10,)\n",
      "\n",
      "[[0 1 2 3 4 5 6 7 8 9]\n",
      " [0 1 2 3 4 5 6 7 8 9]]\n",
      "(2, 10)\n",
      "\n",
      "[[0 0]\n",
      " [1 1]\n",
      " [2 2]\n",
      " [3 3]\n",
      " [4 4]\n",
      " [5 5]\n",
      " [6 6]\n",
      " [7 7]\n",
      " [8 8]\n",
      " [9 9]]\n",
      "(10, 2)\n"
     ]
    }
   ],
   "source": [
    "print(A)\n",
    "print(A.shape)\n",
    "print()\n",
    "A2 = np.stack((A, A), axis=0) # stacking based on row (default)\n",
    "print(A2)\n",
    "print(A2.shape)\n",
    "print()\n",
    "A3 = np.stack((A, A), axis=1) # specify utk concatenate by column\n",
    "print(A3)\n",
    "print(A3.shape)"
   ]
  },
  {
   "cell_type": "markdown",
   "metadata": {},
   "source": [
    "We can also split arrays along a certain axis into sections. We can either dictate how many equally sized parts the array should be split into or we can determine specifically where to split the array"
   ]
  },
  {
   "cell_type": "code",
   "execution_count": 201,
   "metadata": {},
   "outputs": [
    {
     "name": "stdout",
     "output_type": "stream",
     "text": [
      "[ 0  1  2  3  4  5  6  7  8  9 10 11]\n",
      "\n",
      "[array([0, 1, 2, 3]), array([4, 5, 6, 7]), array([ 8,  9, 10, 11])]\n",
      "\n",
      "[array([0, 1]), array([2]), array([3, 4, 5, 6, 7]), array([ 8,  9, 10, 11])]\n"
     ]
    },
    {
     "ename": "ValueError",
     "evalue": "array split does not result in an equal division",
     "output_type": "error",
     "traceback": [
      "\u001b[1;31m---------------------------------------------------------------------------\u001b[0m",
      "\u001b[1;31mValueError\u001b[0m                                Traceback (most recent call last)",
      "\u001b[1;32m~\\AppData\\Local\\Temp\\ipykernel_9860\\2275069980.py\u001b[0m in \u001b[0;36m<module>\u001b[1;34m\u001b[0m\n\u001b[0;32m      8\u001b[0m \u001b[0mprint\u001b[0m\u001b[1;33m(\u001b[0m\u001b[0mnp\u001b[0m\u001b[1;33m.\u001b[0m\u001b[0msplit\u001b[0m\u001b[1;33m(\u001b[0m\u001b[0mA\u001b[0m\u001b[1;33m,\u001b[0m \u001b[1;33m(\u001b[0m\u001b[1;36m2\u001b[0m\u001b[1;33m,\u001b[0m \u001b[1;36m3\u001b[0m\u001b[1;33m,\u001b[0m \u001b[1;36m8\u001b[0m\u001b[1;33m)\u001b[0m\u001b[1;33m)\u001b[0m\u001b[1;33m)\u001b[0m\u001b[1;33m\u001b[0m\u001b[1;33m\u001b[0m\u001b[0m\n\u001b[0;32m      9\u001b[0m \u001b[1;31m# Split into 5 equally sized parts -> x boleh sbb not 12 divisible\u001b[0m\u001b[1;33m\u001b[0m\u001b[1;33m\u001b[0m\u001b[0m\n\u001b[1;32m---> 10\u001b[1;33m \u001b[0mprint\u001b[0m\u001b[1;33m(\u001b[0m\u001b[0mnp\u001b[0m\u001b[1;33m.\u001b[0m\u001b[0msplit\u001b[0m\u001b[1;33m(\u001b[0m\u001b[0mA\u001b[0m\u001b[1;33m,\u001b[0m \u001b[1;36m5\u001b[0m\u001b[1;33m)\u001b[0m\u001b[1;33m)\u001b[0m \u001b[1;31m# pecahkan jadi sub array\u001b[0m\u001b[1;33m\u001b[0m\u001b[1;33m\u001b[0m\u001b[0m\n\u001b[0m\u001b[0;32m     11\u001b[0m \u001b[0mprint\u001b[0m\u001b[1;33m(\u001b[0m\u001b[1;33m)\u001b[0m\u001b[1;33m\u001b[0m\u001b[1;33m\u001b[0m\u001b[0m\n",
      "\u001b[1;32m<__array_function__ internals>\u001b[0m in \u001b[0;36msplit\u001b[1;34m(*args, **kwargs)\u001b[0m\n",
      "\u001b[1;32m~\\anaconda3\\lib\\site-packages\\numpy\\lib\\shape_base.py\u001b[0m in \u001b[0;36msplit\u001b[1;34m(ary, indices_or_sections, axis)\u001b[0m\n\u001b[0;32m    870\u001b[0m         \u001b[0mN\u001b[0m \u001b[1;33m=\u001b[0m \u001b[0mary\u001b[0m\u001b[1;33m.\u001b[0m\u001b[0mshape\u001b[0m\u001b[1;33m[\u001b[0m\u001b[0maxis\u001b[0m\u001b[1;33m]\u001b[0m\u001b[1;33m\u001b[0m\u001b[1;33m\u001b[0m\u001b[0m\n\u001b[0;32m    871\u001b[0m         \u001b[1;32mif\u001b[0m \u001b[0mN\u001b[0m \u001b[1;33m%\u001b[0m \u001b[0msections\u001b[0m\u001b[1;33m:\u001b[0m\u001b[1;33m\u001b[0m\u001b[1;33m\u001b[0m\u001b[0m\n\u001b[1;32m--> 872\u001b[1;33m             raise ValueError(\n\u001b[0m\u001b[0;32m    873\u001b[0m                 'array split does not result in an equal division') from None\n\u001b[0;32m    874\u001b[0m     \u001b[1;32mreturn\u001b[0m \u001b[0marray_split\u001b[0m\u001b[1;33m(\u001b[0m\u001b[0mary\u001b[0m\u001b[1;33m,\u001b[0m \u001b[0mindices_or_sections\u001b[0m\u001b[1;33m,\u001b[0m \u001b[0maxis\u001b[0m\u001b[1;33m)\u001b[0m\u001b[1;33m\u001b[0m\u001b[1;33m\u001b[0m\u001b[0m\n",
      "\u001b[1;31mValueError\u001b[0m: array split does not result in an equal division"
     ]
    }
   ],
   "source": [
    "A = np.arange(12)\n",
    "print(A)\n",
    "print()\n",
    "# Split into 3 equally sized parts\n",
    "print(np.split(A, 3)) # pecahkan jadi sub array\n",
    "print()\n",
    "# Split at specific indices\n",
    "# before index 2 split, before index 3 split lagi, before index 8\n",
    "print(np.split(A, (2, 3, 8)))\n",
    "# Split into 5 equally sized parts -> x boleh sbb not 12 divisible\n",
    "print(np.split(A, 5)) # pecahkan jadi sub array\n",
    "print()"
   ]
  },
  {
   "cell_type": "markdown",
   "metadata": {},
   "source": [
    "Note that NumPy will throw an exception if equally sized parts cannot be created, e.g. an array with 10 numbers cannot be split into 4 equally sized parts"
   ]
  },
  {
   "cell_type": "code",
   "execution_count": 202,
   "metadata": {},
   "outputs": [
    {
     "ename": "ValueError",
     "evalue": "array split does not result in an equal division",
     "output_type": "error",
     "traceback": [
      "\u001b[1;31m---------------------------------------------------------------------------\u001b[0m",
      "\u001b[1;31mValueError\u001b[0m                                Traceback (most recent call last)",
      "\u001b[1;32m~\\AppData\\Local\\Temp\\ipykernel_9860\\1651834281.py\u001b[0m in \u001b[0;36m<module>\u001b[1;34m\u001b[0m\n\u001b[0;32m      1\u001b[0m \u001b[1;31m# Uncomment for exception\u001b[0m\u001b[1;33m\u001b[0m\u001b[1;33m\u001b[0m\u001b[0m\n\u001b[1;32m----> 2\u001b[1;33m \u001b[0mnp\u001b[0m\u001b[1;33m.\u001b[0m\u001b[0msplit\u001b[0m\u001b[1;33m(\u001b[0m\u001b[0mnp\u001b[0m\u001b[1;33m.\u001b[0m\u001b[0marange\u001b[0m\u001b[1;33m(\u001b[0m\u001b[1;36m10\u001b[0m\u001b[1;33m)\u001b[0m\u001b[1;33m,\u001b[0m \u001b[1;36m4\u001b[0m\u001b[1;33m)\u001b[0m\u001b[1;33m\u001b[0m\u001b[1;33m\u001b[0m\u001b[0m\n\u001b[0m",
      "\u001b[1;32m<__array_function__ internals>\u001b[0m in \u001b[0;36msplit\u001b[1;34m(*args, **kwargs)\u001b[0m\n",
      "\u001b[1;32m~\\anaconda3\\lib\\site-packages\\numpy\\lib\\shape_base.py\u001b[0m in \u001b[0;36msplit\u001b[1;34m(ary, indices_or_sections, axis)\u001b[0m\n\u001b[0;32m    870\u001b[0m         \u001b[0mN\u001b[0m \u001b[1;33m=\u001b[0m \u001b[0mary\u001b[0m\u001b[1;33m.\u001b[0m\u001b[0mshape\u001b[0m\u001b[1;33m[\u001b[0m\u001b[0maxis\u001b[0m\u001b[1;33m]\u001b[0m\u001b[1;33m\u001b[0m\u001b[1;33m\u001b[0m\u001b[0m\n\u001b[0;32m    871\u001b[0m         \u001b[1;32mif\u001b[0m \u001b[0mN\u001b[0m \u001b[1;33m%\u001b[0m \u001b[0msections\u001b[0m\u001b[1;33m:\u001b[0m\u001b[1;33m\u001b[0m\u001b[1;33m\u001b[0m\u001b[0m\n\u001b[1;32m--> 872\u001b[1;33m             raise ValueError(\n\u001b[0m\u001b[0;32m    873\u001b[0m                 'array split does not result in an equal division') from None\n\u001b[0;32m    874\u001b[0m     \u001b[1;32mreturn\u001b[0m \u001b[0marray_split\u001b[0m\u001b[1;33m(\u001b[0m\u001b[0mary\u001b[0m\u001b[1;33m,\u001b[0m \u001b[0mindices_or_sections\u001b[0m\u001b[1;33m,\u001b[0m \u001b[0maxis\u001b[0m\u001b[1;33m)\u001b[0m\u001b[1;33m\u001b[0m\u001b[1;33m\u001b[0m\u001b[0m\n",
      "\u001b[1;31mValueError\u001b[0m: array split does not result in an equal division"
     ]
    }
   ],
   "source": [
    "# Uncomment for exception\n",
    "np.split(np.arange(10), 4) # 10 not divisible by 4"
   ]
  },
  {
   "cell_type": "markdown",
   "metadata": {},
   "source": [
    "The `axis` argument allows us to determine along which axis to split the array"
   ]
  },
  {
   "cell_type": "code",
   "execution_count": 204,
   "metadata": {},
   "outputs": [
    {
     "name": "stdout",
     "output_type": "stream",
     "text": [
      "[[20 21 22 23 24 25 26 27 28 29]\n",
      " [30 31 32 33 34 35 36 37 38 39]]\n",
      "\n",
      "axis=0 [array([[20, 21, 22, 23, 24, 25, 26, 27, 28, 29]]), array([[30, 31, 32, 33, 34, 35, 36, 37, 38, 39]])]\n",
      "\n",
      "axis=1 [array([[20, 21, 22, 23, 24],\n",
      "       [30, 31, 32, 33, 34]]), array([[25, 26, 27, 28, 29],\n",
      "       [35, 36, 37, 38, 39]])]\n"
     ]
    }
   ],
   "source": [
    "print(B)\n",
    "print()\n",
    "# divide array B by 2 equal part\n",
    "print('axis=0',np.split(B, 2, axis=0)) \n",
    "print() # split into sub array by row\n",
    "print('axis=1',np.split(B, 2, axis=1))\n",
    "# split into sub array by column"
   ]
  },
  {
   "cell_type": "markdown",
   "metadata": {},
   "source": [
    "### Exercises"
   ]
  },
  {
   "cell_type": "markdown",
   "metadata": {},
   "source": [
    "#### Exercise 1\n",
    "Let x be array\n",
    "    \n",
    "    [[1, 2, 3], \n",
    "     [4, 5, 6]].\n",
    "\n",
    "Convert it to \n",
    "    \n",
    "    [[1 4 2 5 3 6]]"
   ]
  },
  {
   "cell_type": "code",
   "execution_count": 208,
   "metadata": {},
   "outputs": [
    {
     "data": {
      "text/plain": [
       "(2, 3)"
      ]
     },
     "execution_count": 208,
     "metadata": {},
     "output_type": "execute_result"
    }
   ],
   "source": [
    "x = np.array([[1,2,3],[4,5,6]])\n",
    "x.shape"
   ]
  },
  {
   "cell_type": "code",
   "execution_count": 209,
   "metadata": {},
   "outputs": [
    {
     "data": {
      "text/plain": [
       "array([[1, 2, 3, 4, 5, 6]])"
      ]
     },
     "execution_count": 209,
     "metadata": {},
     "output_type": "execute_result"
    }
   ],
   "source": [
    "x.reshape(1,6)"
   ]
  },
  {
   "cell_type": "markdown",
   "metadata": {},
   "source": [
    "#### Exercise 2\n",
    "Let x be an array\n",
    "\n",
    "    [[1, 2, 3]\n",
    "     [4, 5, 6]]\n",
    "\n",
    "and y be an array\n",
    "\n",
    "    [[ 7,  8,  9]\n",
    "     [10, 11, 12]]\n",
    "\n",
    "Concatenate x and y so that a new array looks like\n",
    "\n",
    "    [[1, 2, 3,  7,  8,  9]\n",
    "     [4, 5, 6, 10, 11, 12]]"
   ]
  },
  {
   "cell_type": "code",
   "execution_count": 210,
   "metadata": {},
   "outputs": [
    {
     "data": {
      "text/plain": [
       "array([[ 7,  8,  9],\n",
       "       [10, 11, 12]])"
      ]
     },
     "execution_count": 210,
     "metadata": {},
     "output_type": "execute_result"
    }
   ],
   "source": [
    "y = np.array([[7,8,9],[10,11,12]])\n",
    "y"
   ]
  },
  {
   "cell_type": "code",
   "execution_count": 212,
   "metadata": {},
   "outputs": [
    {
     "data": {
      "text/plain": [
       "array([[ 1,  2,  3,  7,  8,  9],\n",
       "       [ 4,  5,  6, 10, 11, 12]])"
      ]
     },
     "execution_count": 212,
     "metadata": {},
     "output_type": "execute_result"
    }
   ],
   "source": [
    "np.concatenate((x, y), axis=1)"
   ]
  },
  {
   "cell_type": "markdown",
   "metadata": {},
   "source": [
    "#### Exercise 3\n",
    "Let x be an array [1, 2, 3, ..., 9]. Split x into 3 arrays, each of which has 4, 2, and 3 elements in the original order."
   ]
  },
  {
   "cell_type": "code",
   "execution_count": 213,
   "metadata": {},
   "outputs": [
    {
     "data": {
      "text/plain": [
       "array([1, 2, 3, 4, 5, 6, 7, 8, 9])"
      ]
     },
     "execution_count": 213,
     "metadata": {},
     "output_type": "execute_result"
    }
   ],
   "source": [
    "x = np.arange(1,10)\n",
    "x"
   ]
  },
  {
   "cell_type": "code",
   "execution_count": 215,
   "metadata": {},
   "outputs": [
    {
     "name": "stdout",
     "output_type": "stream",
     "text": [
      "[array([1, 2, 3, 4]), array([5, 6]), array([7, 8, 9]), array([], dtype=int32)]\n"
     ]
    }
   ],
   "source": [
    "print(np.split(x, (4, 6, 9)))"
   ]
  },
  {
   "cell_type": "markdown",
   "metadata": {},
   "source": [
    "#### Exercise 4\n",
    "Let x be an array [0, 1, 2]. Convert it to\n",
    "\n",
    "    [[0, 1, 2, 0, 1, 2]\n",
    "     [0, 1, 2, 0, 1, 2]]"
   ]
  },
  {
   "cell_type": "code",
   "execution_count": null,
   "metadata": {},
   "outputs": [],
   "source": [
    "### Your code here"
   ]
  },
  {
   "cell_type": "code",
   "execution_count": 216,
   "metadata": {},
   "outputs": [
    {
     "data": {
      "text/plain": [
       "array([0, 1, 2])"
      ]
     },
     "execution_count": 216,
     "metadata": {},
     "output_type": "execute_result"
    }
   ],
   "source": [
    "x = np.array([0,1,2])\n",
    "x"
   ]
  },
  {
   "cell_type": "code",
   "execution_count": 218,
   "metadata": {},
   "outputs": [
    {
     "data": {
      "text/plain": [
       "array([0, 1, 2, 0, 1, 2])"
      ]
     },
     "execution_count": 218,
     "metadata": {},
     "output_type": "execute_result"
    }
   ],
   "source": [
    "np.concatenate((x, x))"
   ]
  },
  {
   "cell_type": "markdown",
   "metadata": {},
   "source": [
    "## Additional Resources:  \n",
    "- [numpy Quickstart Guide](https://docs.scipy.org/doc/numpy-dev/user/quickstart.html)  \n",
    "- [Rahul Dave's CS109 lab1 content at Harvard](https://github.com/cs109/2015lab1)  \n",
    "- [The Data Incubator](https://www.thedataincubator.com)  \n",
    "- [Python Data Science Handbook](https://github.com/jakevdp/PythonDataScienceHandbook)"
   ]
  }
 ],
 "metadata": {
  "anaconda-cloud": {},
  "kernelspec": {
   "display_name": "Python 3 (ipykernel)",
   "language": "python",
   "name": "python3"
  },
  "language_info": {
   "codemirror_mode": {
    "name": "ipython",
    "version": 3
   },
   "file_extension": ".py",
   "mimetype": "text/x-python",
   "name": "python",
   "nbconvert_exporter": "python",
   "pygments_lexer": "ipython3",
   "version": "3.9.12"
  }
 },
 "nbformat": 4,
 "nbformat_minor": 2
}
