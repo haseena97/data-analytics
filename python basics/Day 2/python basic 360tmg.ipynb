{
 "cells": [
  {
   "cell_type": "code",
   "execution_count": null,
   "id": "3fc59243",
   "metadata": {},
   "outputs": [],
   "source": [
    "text = input('give a name')\n",
    "print(text[::-1])"
   ]
  },
  {
   "cell_type": "code",
   "execution_count": null,
   "id": "e7645d5b",
   "metadata": {},
   "outputs": [],
   "source": [
    "numbers = [1,2,3,5,8,13]\n",
    "numbers"
   ]
  },
  {
   "cell_type": "code",
   "execution_count": null,
   "id": "641a210c",
   "metadata": {},
   "outputs": [],
   "source": [
    "count_even = 0\n",
    "count_uneven = 0\n",
    "odd_num = []\n",
    "even_num = []\n",
    "# loop run for every number in the list\n",
    "for number in numbers:\n",
    "    if number % 2 == 0:\n",
    "        even_num.append(number) # nak listkan nombor yg even tu\n",
    "        count_even = count_even + 1\n",
    "    else:\n",
    "        odd_num.append(number)\n",
    "        count_uneven = count_uneven + 1  \n",
    "        \n",
    "    print(\"current number=\", number, \"count_even=\", \n",
    "          count_even, \"count_uneven=\", count_uneven)\n",
    "# print out of loop, give latest value\n",
    "print() \n",
    "print(\"total_even=\", count_even)\n",
    "print(even_num)\n",
    "print(\"total_uneven=\", count_uneven)\n",
    "print(odd_num)"
   ]
  },
  {
   "cell_type": "code",
   "execution_count": null,
   "id": "77d69124",
   "metadata": {},
   "outputs": [],
   "source": [
    "n = list(eval(input('enter the number')))\n",
    "print(n)"
   ]
  },
  {
   "cell_type": "code",
   "execution_count": null,
   "id": "76a86972",
   "metadata": {},
   "outputs": [],
   "source": [
    "\n",
    "############################### define function ##############################\n",
    "\n",
    "#Example for advantage of functions \n",
    "    \n",
    "#Imagine there are 1000 of code is created based on requirement \n",
    "# without using functions \n",
    "# If same requirement is repeated in the same code as given below \n",
    "# with reference of line numbers\n",
    "print(\"Hello Function.Sharat?\") #10\n",
    "print(\"Hello Function.Sharat?\")#14\n",
    "print(\"Hello Function.Sharat?\")#40\n",
    "print(\"Hello Function.Sharat?\")#67\n",
    "\n",
    "#how to create function? \n",
    "def hello_func():\n",
    "    i=4\n",
    "    while i>0:\n",
    "        print(\"Hello Function.Sharat\")\n",
    "        i=i-1\n",
    "\n",
    "#call the function as and when required than writing whole code again \n",
    "hello_func()#10\n",
    "\n",
    "\n",
    "#Advantages about functions - \n",
    "#optimize code, good performance, fast, easy to access etc \n",
    "  \n",
    "#simple function \n",
    "def hello(name,age,sal):                 \n",
    "    print(\"hi\",name,\"your age:\",age,\"your salary:\",sal)\n",
    "\n",
    "hello(\"Sharat\",'',50000)\n",
    " \n",
    "#add two numbers using return value \n",
    "def add(x,y):                   \n",
    "    return (x-y)\n",
    "\n",
    "def add(x):                   \n",
    "    return (x**3)\n",
    "Var = (1,2,3,4)\n",
    "list(map(add,Var))\n",
    "\n",
    "\n",
    "#cube of n value \n",
    "def cube(num):                  \n",
    "    return (num*num*num)\n",
    "\n",
    "cube(3) \n",
    "\n",
    "def even_check(number):\n",
    "    if(number%2 == 0):\n",
    "        print('given number is even')\n",
    "    else:\n",
    "        print(\"given number is odd\")\n",
    "   \n",
    "even_check(5)\n",
    "\n",
    "# not defined any value but just defined function \n",
    "\n",
    "def odd(list1):\n",
    "    for num in list1:\n",
    "        if num%2==0:\n",
    "            pass\n",
    " \n",
    "        else:\n",
    "            print(num)\n",
    "    \n",
    "numbers=[1,2,3,4,5,6]\n",
    "odd(numbers)\n",
    "\n",
    "########\n",
    "def myfunc(a,b,c =0,d =0, e = 0):\n",
    "    # returns 5% of the sum of a and b\n",
    "    return sum((a,b,c,d,e))*0.05\n",
    "\n",
    "myfunc(10,20,30,40,50)\n",
    "myfunc(40,60)\n",
    "\n",
    "\n",
    "\n",
    "# Defining the lambda function , map \n",
    "# lambda arguments: expressions\n",
    "\n",
    "s = lambda x: x * x\n",
    "s\n",
    "s(12)\n",
    "\n",
    "# Functional Programming Packages\n",
    "val = [1, 2, 3, 4, 5, 6]\n",
    "\n",
    "list(map(lambda x: x * 2, (3,5,6,7)))\n",
    "map(lambda x: x * 2, (3,5,6,7))\n",
    "Rukesh = [324,56]\n",
    "tuple(map(lambda x:x*2, Rukesh))\n",
    "tuple(map(lambda x:x*2,(32434,5657)))\n",
    "list(map(lambda x:x*2,{8,4}))\n",
    "\n",
    "c = lambda x,y,u,i,p: (x**2+y*p)/u-i\n",
    "'''x=2\n",
    "y=3\n",
    "u=5\n",
    "i=9\n",
    "p=8'''\n",
    "print(c(2,3,4,5,6))"
   ]
  },
  {
   "cell_type": "code",
   "execution_count": null,
   "id": "0478f0e6",
   "metadata": {},
   "outputs": [],
   "source": [
    "#Imagine there are 1000 of code is created based on requirement \n",
    "# without using functions \n",
    "# If same requirement is repeated in the same code as given below \n",
    "# with reference of line numbers\n",
    "#print(\"Hello Function.Sharat?\") #10\n",
    "#print(\"Hello Function.Sharat?\")#14\n",
    "#print(\"Hello Function.Sharat?\")#40\n",
    "#print(\"Hello Function.Sharat?\")#67\n",
    "\n",
    "#how to create function? \n",
    "def hello_func():\n",
    "    i=4\n",
    "    while i>0:\n",
    "        print(\"Hello Function.Sharat\")\n",
    "        i=i-1"
   ]
  },
  {
   "cell_type": "code",
   "execution_count": null,
   "id": "b5878187",
   "metadata": {},
   "outputs": [],
   "source": [
    "#how to create function? \n",
    "def hello_func(): # bracket kosong xde argument kat dalam\n",
    "    for i in range (1,10): # pakai for loop print 9 kali\n",
    "        print(\"Hello Function.Sharat\")\n",
    "        "
   ]
  },
  {
   "cell_type": "code",
   "execution_count": null,
   "id": "3a458ba9",
   "metadata": {},
   "outputs": [],
   "source": [
    "#call the function as and when required than writing whole code again \n",
    "hello_func()#10"
   ]
  },
  {
   "cell_type": "code",
   "execution_count": null,
   "id": "f39acc3d",
   "metadata": {},
   "outputs": [],
   "source": [
    "#simple function \n",
    "def hello(name,age,sal):  # i will need 3 parameters               \n",
    "    print(\"hi\",name,\"your age:\",age,\"your salary:\",sal)"
   ]
  },
  {
   "cell_type": "code",
   "execution_count": null,
   "id": "6ebdab79",
   "metadata": {},
   "outputs": [],
   "source": [
    "hello(\"Sharat\",'',50000) # call function tu balik, bagi 3 parameter"
   ]
  },
  {
   "cell_type": "code",
   "execution_count": null,
   "id": "233c3616",
   "metadata": {},
   "outputs": [],
   "source": [
    "hello(age=34,name='sharat',sal=50000) # define variable, so xyah letak in order"
   ]
  },
  {
   "cell_type": "code",
   "execution_count": null,
   "id": "47a86f98",
   "metadata": {},
   "outputs": [],
   "source": [
    "hello(age=34,name='sharat') # kena cukup 3 argument"
   ]
  },
  {
   "cell_type": "code",
   "execution_count": null,
   "id": "ae005184",
   "metadata": {},
   "outputs": [],
   "source": [
    "hello(age=34,name='haseena',sal=50000) # define variable, so xyah letak in order"
   ]
  },
  {
   "cell_type": "code",
   "execution_count": null,
   "id": "b515a4bf",
   "metadata": {},
   "outputs": [],
   "source": [
    "#add two numbers using return value \n",
    "def add(x,y):                   \n",
    "    return (x-y) \n",
    "\n",
    "def add(x):                   \n",
    "    return (x**3)\n"
   ]
  },
  {
   "cell_type": "code",
   "execution_count": null,
   "id": "8f44f707",
   "metadata": {},
   "outputs": [],
   "source": [
    "#add two numbers using return value \n",
    "def add(x,y):                   \n",
    "    return (x+y)\n"
   ]
  },
  {
   "cell_type": "code",
   "execution_count": null,
   "id": "bed64a1a",
   "metadata": {},
   "outputs": [],
   "source": [
    "add(5,6)"
   ]
  },
  {
   "cell_type": "code",
   "execution_count": null,
   "id": "6f9ddd21",
   "metadata": {},
   "outputs": [],
   "source": [
    "def add(x):                   \n",
    "    return (x**2) # function sama tapi argument lain2"
   ]
  },
  {
   "cell_type": "code",
   "execution_count": null,
   "id": "56159fb3",
   "metadata": {},
   "outputs": [],
   "source": [
    "add(2,3) #dia amik recently defined"
   ]
  },
  {
   "cell_type": "code",
   "execution_count": null,
   "id": "ea815725",
   "metadata": {},
   "outputs": [],
   "source": [
    "def add(x):                   \n",
    "    return (x**2)\n",
    "\n",
    "Values = (1,2,3,4)\n",
    "list(map(add,Values)) # map the particular function we defined earlier\n",
    "# map(function,values)"
   ]
  },
  {
   "cell_type": "code",
   "execution_count": null,
   "id": "6eb7e78f",
   "metadata": {},
   "outputs": [],
   "source": [
    "#add two numbers using return value \n",
    "def add1(x,y):                   \n",
    "    return (x+y)\n",
    "var_x = (1,2,3,4)\n",
    "var_y = (1,2,3,4)\n",
    "list(map(add1,var_x,var_y)) # map the particular function we defined earlier\n",
    "# map(function,values)"
   ]
  },
  {
   "cell_type": "code",
   "execution_count": null,
   "id": "70c63fb6",
   "metadata": {},
   "outputs": [],
   "source": [
    "#add two numbers using return value \n",
    "def add1(x,y):                   \n",
    "    return (x+y)\n",
    "var_x = (1,2,3,4)\n",
    "var_y = (1,2,3,4)\n",
    "list(map(add1,var_x,var_y)) # map the particular function we defined earlier\n",
    "# map(function,values)"
   ]
  },
  {
   "cell_type": "code",
   "execution_count": null,
   "id": "bd8cd620",
   "metadata": {},
   "outputs": [],
   "source": [
    "var = [1,2,3,4]\n",
    "s = sum(var)\n",
    "print(s)"
   ]
  },
  {
   "cell_type": "code",
   "execution_count": null,
   "id": "e2039275",
   "metadata": {},
   "outputs": [],
   "source": [
    "def total(x):\n",
    "    total = 0\n",
    "    for x in var:\n",
    "        total = total + x\n",
    "    return total\n",
    "   "
   ]
  },
  {
   "cell_type": "code",
   "execution_count": null,
   "id": "482abf41",
   "metadata": {},
   "outputs": [],
   "source": [
    "var = [1,2,3,4]\n",
    "total(var)"
   ]
  },
  {
   "cell_type": "code",
   "execution_count": null,
   "id": "289f677e",
   "metadata": {},
   "outputs": [],
   "source": [
    "l = lambda x:x+10\n",
    "print(l(4))"
   ]
  },
  {
   "cell_type": "code",
   "execution_count": null,
   "id": "a016d308",
   "metadata": {},
   "outputs": [],
   "source": [
    "l = lambda x,y:x+y\n",
    "print(l(4,5))"
   ]
  },
  {
   "cell_type": "code",
   "execution_count": null,
   "id": "724e68ca",
   "metadata": {},
   "outputs": [],
   "source": [
    "l = lambda x,y,z:x+y+z\n",
    "print(l(4,5,1))"
   ]
  },
  {
   "cell_type": "code",
   "execution_count": null,
   "id": "661a4a8d",
   "metadata": {},
   "outputs": [],
   "source": [
    "var = [1,2,3,4]\n",
    "from functools import reduce\n",
    "sum_var = reduce(lambda x,y:x+y,var) # keep on adding 2 numbers sampai habis\n",
    "sum_var"
   ]
  },
  {
   "cell_type": "code",
   "execution_count": 3,
   "id": "ea042a08",
   "metadata": {},
   "outputs": [
    {
     "name": "stdout",
     "output_type": "stream",
     "text": [
      "78.33333333333333\n"
     ]
    }
   ],
   "source": [
    "score = [10,8,7,7,9,6]\n",
    "percentage = (sum(score)/len(score))*10\n",
    "\n",
    "\n",
    "print(percentage)"
   ]
  },
  {
   "cell_type": "code",
   "execution_count": 5,
   "id": "e42476a6",
   "metadata": {},
   "outputs": [
    {
     "data": {
      "text/plain": [
       "78.33333333333333"
      ]
     },
     "execution_count": 5,
     "metadata": {},
     "output_type": "execute_result"
    }
   ],
   "source": [
    "from functools import reduce\n",
    "\n",
    "total = reduce(lambda x,y:x+y,score) # keep on adding 2 numbers sampai habis\n",
    "(total/6)*10"
   ]
  },
  {
   "cell_type": "code",
   "execution_count": 8,
   "id": "3857db7d",
   "metadata": {},
   "outputs": [
    {
     "data": {
      "text/plain": [
       "'given number is odd'"
      ]
     },
     "execution_count": 8,
     "metadata": {},
     "output_type": "execute_result"
    }
   ],
   "source": [
    "def even_check(number):\n",
    "    if(number%2 == 0):\n",
    "        return('given number is even')\n",
    "    else:\n",
    "        return(\"given number is odd\")\n",
    "   \n",
    "even_check(188237)"
   ]
  },
  {
   "cell_type": "code",
   "execution_count": 9,
   "id": "06d58b92",
   "metadata": {},
   "outputs": [
    {
     "name": "stdout",
     "output_type": "stream",
     "text": [
      "1\n",
      "3\n",
      "5\n"
     ]
    }
   ],
   "source": [
    "def odd(list1):\n",
    "    for num in list1:\n",
    "        if num%2==0:\n",
    "            pass # continue je, ignore even number\n",
    " \n",
    "        else:\n",
    "            print(num)\n",
    "    \n",
    "numbers=[1,2,3,4,5,6]\n",
    "odd(numbers)"
   ]
  },
  {
   "cell_type": "code",
   "execution_count": 10,
   "id": "13a32314",
   "metadata": {},
   "outputs": [
    {
     "data": {
      "text/plain": [
       "5.0"
      ]
     },
     "execution_count": 10,
     "metadata": {},
     "output_type": "execute_result"
    }
   ],
   "source": [
    "########\n",
    "def myfunc(a,b,c =0,d =0, e = 0): # by default kalau x bagi value jadi zero\n",
    "    # returns 5% of the sum of a and b\n",
    "    return sum((a,b,c,d,e))*0.05\n",
    "\n",
    "myfunc(10,20,30,40,50) # boleh overwrite kat c,d,e\n",
    "myfunc(40,60)\n"
   ]
  },
  {
   "cell_type": "code",
   "execution_count": null,
   "id": "839e5d5f",
   "metadata": {},
   "outputs": [],
   "source": [
    "\n",
    "\n",
    "\n",
    "\n",
    "c = lambda x,y,u,i,p: (x**2+y*p)/u-i\n",
    "'''x=2\n",
    "y=3\n",
    "u=5\n",
    "i=9\n",
    "p=8'''\n",
    "print(c(2,3,4,5,6))"
   ]
  },
  {
   "cell_type": "code",
   "execution_count": 13,
   "id": "13e5d347",
   "metadata": {},
   "outputs": [
    {
     "data": {
      "text/plain": [
       "60"
      ]
     },
     "execution_count": 13,
     "metadata": {},
     "output_type": "execute_result"
    }
   ],
   "source": [
    "# Defining the lambda function , map \n",
    "# lambda arguments: expressions\n",
    "\n",
    "s = lambda x,y: x * y\n",
    "s\n",
    "s(12,5)"
   ]
  },
  {
   "cell_type": "code",
   "execution_count": 15,
   "id": "13fbda5a",
   "metadata": {},
   "outputs": [
    {
     "data": {
      "text/plain": [
       "[6, 10, 12, 14]"
      ]
     },
     "execution_count": 15,
     "metadata": {},
     "output_type": "execute_result"
    }
   ],
   "source": [
    "# Functional Programming Packages\n",
    "list(map(lambda x: x * 2, (3,5,6,7))) #kena letak list/tuple kat depan\n"
   ]
  },
  {
   "cell_type": "code",
   "execution_count": 16,
   "id": "10672954",
   "metadata": {},
   "outputs": [
    {
     "data": {
      "text/plain": [
       "(648, 112)"
      ]
     },
     "execution_count": 16,
     "metadata": {},
     "output_type": "execute_result"
    }
   ],
   "source": [
    "Rukesh = [324,56]\n",
    "tuple(map(lambda x:x*2, Rukesh))\n",
    "#tuple(map(lambda x:x*2,(32434,5657)))\n",
    "#list(map(lambda x:x*2,{8,4}))"
   ]
  },
  {
   "cell_type": "code",
   "execution_count": 18,
   "id": "c6b5352c",
   "metadata": {},
   "outputs": [
    {
     "data": {
      "text/plain": [
       "0"
      ]
     },
     "execution_count": 18,
     "metadata": {},
     "output_type": "execute_result"
    }
   ],
   "source": [
    "a = lambda t,f: (t*f+f)*f\n",
    "a(True,False)"
   ]
  },
  {
   "cell_type": "code",
   "execution_count": null,
   "id": "c94a91c7",
   "metadata": {},
   "outputs": [],
   "source": [
    "# module = package\n",
    "#how to create own module? \n",
    "# create a new python file with different fuctions as given below\n",
    "#\n",
    "def cal_area_triangle(length,hight):\n",
    "    return 1/2*length*hight\n",
    "\n",
    "def cal_area_sqr(length):\n",
    "    return length*length\n",
    "\n",
    "\n",
    "def cal_area_rec(leng,bth):\n",
    "    return leng*bth\n",
    "\n",
    "def cal_area_cir(r):\n",
    "    return 3.14*r*r\n",
    "\n",
    "#Please find above code in different python file  \n",
    "\n",
    "#to give path for the module\n",
    "import sys\n",
    "sys.path.append(\"D:\\Python Classes\")"
   ]
  },
  {
   "cell_type": "code",
   "execution_count": null,
   "id": "caefd7b1",
   "metadata": {},
   "outputs": [],
   "source": [
    "\n",
    "#########################################################\n",
    "\n",
    "\n",
    "#object oreiented programmin allows users to create their own\n",
    "#objects that have methods and attributes\n",
    "# .append(), .extend()\n",
    "# these methods act as funcion that uses the informatio about the object as well as\n",
    "# the object itself to return results or change the current object\n",
    "# for example this includes appending an element to the list getting the length of a list or tuple\n",
    "# syntax\n",
    "\n",
    "class NameOfClass():\n",
    "# init method, self keyword, parameters\n",
    "    def __init__(self,param1,param2):\n",
    "        self.param1 = param1\n",
    "        self.param2 = param2\n",
    "# this method is connected to the class\n",
    "    def some_method(self):\n",
    "        # perform some action\n",
    "        print(self.param1)\n",
    "        print(self.param2)\n",
    "        pass\n",
    "    \n",
    "# user defined objects using class\n",
    "\n",
    "#class is a blue print that defines the nature of the object\n",
    "# from class we can then define the instance of the object and\n",
    "# instance is a specific object created form specific class\n",
    "# for class we use CamelCasing\n",
    "\n",
    "\n",
    "class Circle():\n",
    "    # class object attribute\n",
    "    pi = 3.14\n",
    "\n",
    "    def __init__(self, radius =1 ):\n",
    "        self.radius = radius\n",
    "        self.area = radius*radius*Circle.pi\n",
    "        self.getcr = radius*Circle.pi*2\n",
    "    # method\n",
    "    def get_circumference(self):\n",
    "        return self.radius*Circle.pi*2\n",
    "# change radius\n",
    "n_circle  = Circle(8)\n",
    "\n",
    "n_circle.pi\n",
    "n_circle.radius\n",
    "n_circle.get_circumference()\n",
    "n_circle.area\n",
    "n_circle.getcr\n",
    "\n",
    "############################################################### Inheritence and Polymorphism ################################################################################################################\n",
    "\n",
    "# inheritence is basically used to form new classess using classess already defined\n",
    "# base class\n",
    "\n",
    "class Animal():\n",
    "    def __init__(self):\n",
    "        print(\"Animal Created\")\n",
    "    def who_am_i(self):\n",
    "        print(\"I am an animal\")        \n",
    "    def eat(self):\n",
    "        print(\"I am eating\")\n",
    "\n",
    "\n",
    "#Polymorphism\n",
    "#polyorphism refers to the way in which different object\n",
    "#classess share same method name\n",
    "\n",
    "def add(x,y,z=0):\n",
    "    return x+y+z\n",
    "#driver code\n",
    "print(add(2,3))\n",
    "print(add(2,3,4))\n",
    "\n",
    "class Dog():\n",
    "    def __init__(self,name):\n",
    "        self.name = name\n",
    "    def speak(self):\n",
    "        return self.name + ' Says woof!'\n",
    "    \n",
    "class Cat():\n",
    "\n",
    "    def __init__(self,name):\n",
    "        self.name = name\n",
    "    def speak(self):\n",
    "        return self.name + \" Says meow!\"\n",
    "\n",
    "nia = Dog(\"nia\")\n",
    "\n",
    "felix = Cat(\"felix\")\n",
    "\n",
    "print(nia.speak())\n",
    "\n",
    "print(felix.speak())\n",
    "\n",
    "for pet in [nia, felix]:\n",
    "    print(type(pet))\n",
    "    print(\"\\n\",pet.speak())\n",
    "\n",
    "# speak is same methos used in different class which is called polymorphism\n",
    "def pet_speak(pet):\n",
    "    print(pet.speak())\n",
    "pet_speak(nia)\n",
    "\n",
    "pet_speak(felix)\n",
    "\n",
    "\n",
    "class Book():\n",
    "\n",
    "    def __init__(self, title, author, pages):\n",
    "\n",
    "        self.title = title\n",
    "        self.author = author\n",
    "        self.pages = pages\n",
    "\n",
    "    # return string representation of user defined objects\n",
    "    def __str__(self):\n",
    "        return f'{self.title} by {self.author} with pages {self.pages}'\n",
    "    # to get of method\n",
    "    def __len__(self):\n",
    "        return self.pages\n",
    "    # to delete the variabe\n",
    "    def __del__(self):\n",
    "        print(\"A book has been deleted\")\n",
    "        \n",
    "b = Book('Python course','jamees',200)\n",
    "print(b)\n",
    "len(b)\n",
    "# gets string information\n",
    "str(b)\n",
    "# delete the book variable its different form del in built function\n",
    "del(b)\n",
    "b\n",
    "\n",
    "#\n",
    "\n",
    "\n",
    "# task\n",
    "# create a line class method to accept coordinates (coord1, coord2)as a pair of \n",
    "#tuples and return the slope and distance of the line\n",
    "\n",
    "# slope= y2-y1/x2-x1\n",
    "\n",
    "class Line:\n",
    "\n",
    "    def __init__(self,coor1,coor2):\n",
    "\n",
    "        self.coor1 = coor1\n",
    "        self.coor2 = coor2\n",
    "\n",
    "    def distance(self):\n",
    "        x1,y1 = self.coor1\n",
    "        x2,y2 = self.coor2\n",
    "\n",
    "\n",
    "        return ((x2-x1)**2 + (y2-y1)**2)**0.5\n",
    "    def slope(self):\n",
    "        x1,y1 = self.coor1\n",
    "        x2,y2 = self.coor2\n",
    "\n",
    "        return (y2-y1)/(x2-x1)\n",
    "   \n",
    "\n",
    "c1 = (3,2)\n",
    "c2 = (8,10)\n",
    "\n",
    "myline = Line(c1,c2)#Line((3,2),(8,10))\n",
    "myline.distance()\n",
    "myline.slope()\n",
    "\n",
    "# create a cylinder class and then find out voulume and surface area of it\n",
    "#task 2\n",
    "class Cylinder:\n",
    "\n",
    "    def __init__(self,height = 1, radius = 1):\n",
    "\n",
    "        self.height = height\n",
    "        self.radius = radius\n",
    "\n",
    "    def volume(self):\n",
    "\n",
    "        return self.height *3.14 * (self.radius)**2\n",
    "\n",
    "    def surface_area(self):\n",
    "\n",
    "        top =  3.14 * (self.radius**2)\n",
    "\n",
    "        return (2*top)+ (2*3.14 *self.radius*self.height)\n",
    "\n",
    "mycyl = Cylinder(2,3)\n",
    "\n",
    "mycyl.volume()\n",
    "mycyl.surface_area()\n",
    "\n",
    "\n",
    "\n",
    "\n",
    "\n",
    "\n",
    "class Myclass:\n",
    "    x = 5\n",
    "    \n",
    "#create object\n",
    "p1 = Myclass()\n",
    "print(p1.x)   \n",
    "p1.x \n",
    "\n",
    "#The __init__() function is a constructor \n",
    "\n",
    "class Deeksha:\n",
    "    def __init__(self, Name, Age):\n",
    "        self.NNNName = Name\n",
    "        self.AAAAAge = float(Age) \n",
    "        \n",
    "P1 = Deeksha(\"DDM\",22)\n",
    "\n",
    "print(P1.NNNName)\n",
    "print(P1.AAAAAge)\n",
    "\n",
    "P1.AAAAAge = 23\n",
    "# The init function is called automatically every time \n",
    "# the class is being used to create an object\n",
    "  \n",
    "class Deeksha:\n",
    "    def __init__(hh, Name, Age):\n",
    "        hh.NNNName = Name\n",
    "        hh.AAAAAge = Age \n",
    "    \n",
    "    def myfunc(abc):\n",
    "        print(\"Hello \"+ abc.NNNName)\n",
    "        \n",
    "P1 = Deeksha(\"DDM\",23)\n",
    "P1.myfunc()\n"
   ]
  },
  {
   "cell_type": "code",
   "execution_count": null,
   "id": "7a7d8edb",
   "metadata": {},
   "outputs": [],
   "source": [
    "# for example this includes appending an element to the list getting the length of a list or tuple\n",
    "# syntax\n",
    "# __init__ initialize(variables related to specific class, so kena letak self)\n",
    "class NameOfClass():# initilize one time only\n",
    "# init method, self keyword, parameters\n",
    "    def __init__(self,param1,param2):\n",
    "        self.param1 = param1\n",
    "        self.param2 = param2\n",
    "# this method is connected to the class\n",
    "    def some_method(self): # panggil balik class tu pakai self je\n",
    "        # perform some action\n",
    "        print(self.param1)\n",
    "        print(self.param2)\n",
    "        pass\n",
    "# initialize object\n",
    "obj_class = NameofClass(3,2)\n",
    "print(obj_class.param1)\n",
    "obj_class.some_method()"
   ]
  },
  {
   "cell_type": "code",
   "execution_count": null,
   "id": "ff39d71c",
   "metadata": {},
   "outputs": [],
   "source": [
    "class Sample():\n",
    "    pass #Pass statement to pass by\n",
    "    \n",
    "# we have just created a simple class\n",
    "# instance of the class\n",
    "my_sample = Sample()\n",
    "type(my_sample)\n",
    "\n",
    "#mylits = [2,3,4,5]\n",
    "#mylits\n",
    "class Dog():\n",
    "    # class object attributes\n",
    "    # same for any instance of a class\n",
    "    # we donot use self keyword here\n",
    "    species = 'mammal'\n",
    "#__init__ method acts as a constructor\n",
    "    def __init__(self,mybreed, name, spots):\n",
    "#self.attribute\n",
    "        self.breed = mybreed\n",
    "        self.name = name\n",
    "        # expect booleab True/false\n",
    "        self.spots = spots\n",
    "\n",
    "    # operations/Actions -> methods\n",
    "    # user should define numnber\n",
    "    def bark(self,number):\n",
    "        print('Woof! My name is {} and the number is {}'.format(self.name,number))\n",
    "\n",
    "my_dog = Dog(mybreed = 'Lab',name = 'Sammy', spots = False)\n",
    "\n",
    "type(my_dog)\n",
    "\n",
    "my_dog.breed\n",
    "my_dog.name\n",
    "my_dog.spots\n",
    "my_dog.species\n",
    "\n",
    "my_dog.bark(2)\n"
   ]
  }
 ],
 "metadata": {
  "kernelspec": {
   "display_name": "Python 3 (ipykernel)",
   "language": "python",
   "name": "python3"
  },
  "language_info": {
   "codemirror_mode": {
    "name": "ipython",
    "version": 3
   },
   "file_extension": ".py",
   "mimetype": "text/x-python",
   "name": "python",
   "nbconvert_exporter": "python",
   "pygments_lexer": "ipython3",
   "version": "3.9.12"
  }
 },
 "nbformat": 4,
 "nbformat_minor": 5
}
