{
 "cells": [
  {
   "cell_type": "markdown",
   "metadata": {},
   "source": [
    "<img src=\"../images/cads-logo.png\" style=\"height: 100px;\" align=left> <img src=\"../images/python-logo.png\" style=\"height: 100px;\" align=right>"
   ]
  },
  {
   "cell_type": "markdown",
   "metadata": {},
   "source": [
    "# Python Fundamentals Day 2\n",
    "\n",
    "Welcome to Python Fundamentals Day 2.\n",
    "\n",
    "So what is on the menu for today? \n",
    "\n",
    "We start with the While loop and provide you some additional useful tricks to apply in the For loop. We spend a bit of time on casting objects from one type to the other and explain you what these \\_\\_double\\_\\_ underscores are about.\n",
    "\n",
    "Then we go through the overviews of list and dictionary operations. There is quite a lot you can do with these 2 powerfull and common used objects. \n",
    "\n",
    "Then list comprehension. This is a very powerful construct that allows you to create a new list from another while applying a filter and an expression to each item. It is a for loop inside a list.\n",
    "\n",
    "And finally the nameless lambda function, which comes in very handy in numerous applications."
   ]
  },
  {
   "cell_type": "markdown",
   "metadata": {},
   "source": [
    "## Table of Contents\n",
    "\n",
    "- [More on loops](#More-on-loops)\n",
    "    - [While loop](#While-loop)\n",
    "    - [Range](#Range)\n",
    "    - [Enumerate](#Enumerate)\n",
    "    - [Casting](#Casting)\n",
    "    - [Dunder methods](#Dunder-methods)\n",
    "    - [Summary - More on loops](#Summary---More-on-loops)\n",
    "        - [while](#while)\n",
    "        - [range](#range)\n",
    "        - [enumerate](#enumerate)\n",
    "        - [casting](#casting)\n",
    "        - [dunder methods](#dunder-methods)\n",
    "- [List operations](#List-operations)\n",
    "    - [Summary - List operations](#Summary---List-operations)\n",
    "        - [list operations](#list-operations)\n",
    "    - [RUN ME](#RUN-ME)\n",
    "    - [Exercises - List operations](#Exercises---List-operations)\n",
    "        - [Exercise 1 - Month days](#Exercise-1---Month-days)\n",
    "        - [Exercise 2 - Get unevens](#Exercise-2---Get-unevens)\n",
    "        - [Exercise 3 - Sum top](#Exercise-3---Sum-top)\n",
    "        - [Exercise 4 - Match ends](#Exercise-4---Match-ends)\n",
    "- [Dictionary operations](#Dictionary-operations)\n",
    "    - [Summary - Dictionary operations](#Summary---Dictionary-operations)\n",
    "        - [dictionary operations](#dictionary-operations)\n",
    "    - [RUN ME](#RUN-ME)\n",
    "    - [Exercises - Dictionary operations](#Exercises---Dictionary-operations)\n",
    "        - [Exercise 1 - Numbers info](#Exercise-1---Numbers-info)\n",
    "        - [Exercice 2 - Cart checkout](#Exercice-2---Cart-checkout)\n",
    "        - [Exercise 3 - Grade students](#Exercise-3---Grade-students)\n",
    "- [List comprehension and lambda](#List-comprehension-and-lambda)\n",
    "    - [List Comprehensions](#List-Comprehensions)\n",
    "    - [Lambda](#Lambda)\n",
    "    - [Summary - List comprehension and lambda](#Summary---List-comprehension-and-lambda)\n",
    "        - [list comprehension](#list-comprehension)\n",
    "        - [lambda](#lambda)\n",
    "    - [RUN ME](#RUN-ME)\n",
    "    - [Exercises - List comprehension and lambda](#Exercises---List-comprehension-and-lambda)\n",
    "        - [Exercise 1 - Negative ints](#Exercise-1---Negative-ints)\n",
    "        - [Exercise 2 - Power odds](#Exercise-2---Power-odds)\n",
    "        - [Exercise 3 - Word lengths](#Exercise-3---Word-lengths)\n",
    "        - [Exercise 4 - Celsius to Fahrenheit](#Exercise-4---Celsius-to-Fahrenheit)\n",
    "        - [Exercise 5 - Square odds lambda](#Exercise-5---Square-odds-lambda)\n",
    "        - [Exercise 6 - Square odds lc](#-Exercise-6---Square-odds-lc)\n",
    "        - [Exercise 7 - Extract A names lambda](#Exercise-7---Extract-A-names-lambda)\n",
    "        - [Exercise 8 - Extract B names lc](#Exercise-8---Extract-B-names-lc)\n",
    "        - [Exercise 9 - Sort last](#Exercise-9---Sort-last)\n",
    "        - [Exercise 10 - Coordinates](#Exercise-10---Coordinates)\n",
    "        - [Exercise 11 - Ball Cake](#Exercise-11---Ball-Cake)\n",
    "        - [Exercise 12 - Front x](#Exercise-12---Front-x)"
   ]
  },
  {
   "cell_type": "markdown",
   "metadata": {
    "toc-hr-collapsed": false
   },
   "source": [
    "## More on loops"
   ]
  },
  {
   "cell_type": "markdown",
   "metadata": {},
   "source": [
    "### While loop"
   ]
  },
  {
   "cell_type": "markdown",
   "metadata": {},
   "source": [
    "Besides the for loop there is also the while loop.\n",
    "\n",
    "The while loop continues iterating until it's condition stops being True.\n",
    "\n",
    "Let's see it."
   ]
  },
  {
   "cell_type": "code",
   "execution_count": null,
   "metadata": {},
   "outputs": [],
   "source": [
    "i = 0\n",
    "\n",
    "while i < 10:\n",
    "    i += 1\n",
    "    print(i)\n"
   ]
  },
  {
   "cell_type": "markdown",
   "metadata": {},
   "source": [
    "Let's write a code that asks the user for integer numbers until the total is 50."
   ]
  },
  {
   "cell_type": "code",
   "execution_count": 2,
   "metadata": {},
   "outputs": [
    {
     "name": "stdout",
     "output_type": "stream",
     "text": [
      "50\n",
      "50\n"
     ]
    }
   ],
   "source": [
    "\n",
    "total = 0\n",
    "while total < 50:\n",
    "    total = total + int(input())\n",
    "    print (total)"
   ]
  },
  {
   "cell_type": "code",
   "execution_count": 6,
   "metadata": {},
   "outputs": [
    {
     "name": "stdout",
     "output_type": "stream",
     "text": [
      "40.6\n"
     ]
    },
    {
     "ename": "ValueError",
     "evalue": "invalid literal for int() with base 10: '40.6'",
     "output_type": "error",
     "traceback": [
      "\u001b[1;31m---------------------------------------------------------------------------\u001b[0m",
      "\u001b[1;31mValueError\u001b[0m                                Traceback (most recent call last)",
      "Input \u001b[1;32mIn [6]\u001b[0m, in \u001b[0;36m<cell line: 3>\u001b[1;34m()\u001b[0m\n\u001b[0;32m      1\u001b[0m total \u001b[38;5;241m=\u001b[39m \u001b[38;5;241m0\u001b[39m\n\u001b[0;32m      3\u001b[0m \u001b[38;5;28;01mwhile\u001b[39;00m total \u001b[38;5;241m<\u001b[39m \u001b[38;5;241m50\u001b[39m: \u001b[38;5;66;03m# keep asking for input until total > 50\u001b[39;00m\n\u001b[1;32m----> 4\u001b[0m     x \u001b[38;5;241m=\u001b[39m \u001b[38;5;28;43mint\u001b[39;49m\u001b[43m(\u001b[49m\u001b[38;5;28;43minput\u001b[39;49m\u001b[43m(\u001b[49m\u001b[43m)\u001b[49m\u001b[43m)\u001b[49m  \u001b[38;5;66;03m# casting = convert input(str) into integer\u001b[39;00m\n\u001b[0;32m      5\u001b[0m     total \u001b[38;5;241m+\u001b[39m\u001b[38;5;241m=\u001b[39m x      \u001b[38;5;66;03m# loop keep running as condition still TRUE\u001b[39;00m\n\u001b[0;32m      6\u001b[0m     \u001b[38;5;28mprint\u001b[39m(\u001b[38;5;124m\"\u001b[39m\u001b[38;5;124mtotal:\u001b[39m\u001b[38;5;124m\"\u001b[39m, total,\u001b[38;5;124m'\u001b[39m\u001b[38;5;124m,\u001b[39m\u001b[38;5;124m'\u001b[39m \u001b[38;5;124m\"\u001b[39m\u001b[38;5;124mx:\u001b[39m\u001b[38;5;124m\"\u001b[39m, x)\n",
      "\u001b[1;31mValueError\u001b[0m: invalid literal for int() with base 10: '40.6'"
     ]
    }
   ],
   "source": [
    "total = 0\n",
    "\n",
    "while total < 50: # keep asking for input until total > 50\n",
    "    x = int(input())  # casting = convert input(str) into integer\n",
    "    total += x      # loop keep running as condition still TRUE\n",
    "    print(\"total:\", total,',' \"x:\", x)\n",
    "# loops terminate when total > 50"
   ]
  },
  {
   "cell_type": "markdown",
   "metadata": {},
   "source": [
    "What did we do here?\n",
    "\n",
    "Notice the condition \"total < 50\". The loop keeps iterating until that condition stops being True. The input() function asks the user for input. The int() function casts a string to a float. This is called casting, we cast an object of one type to be of another type. Then we add the resulting number x to the total. We repeat until the total is 50 or higher.\n",
    "\n",
    "Now we want to check if the input string is convertible to an integer. Let's use dir(str) to see which method we could use for that."
   ]
  },
  {
   "cell_type": "code",
   "execution_count": null,
   "metadata": {},
   "outputs": [],
   "source": []
  },
  {
   "cell_type": "markdown",
   "metadata": {},
   "source": [
    "**Question:** Which string function can we use to check can cast a string to an int?\n",
    "<br><br><br><br><br><br>\n",
    "**Answer:**"
   ]
  },
  {
   "cell_type": "markdown",
   "metadata": {},
   "source": [
    "str.isnumeric\n",
    "str.isdigit\n",
    "str.isdecimal\n",
    "all work"
   ]
  },
  {
   "cell_type": "code",
   "execution_count": null,
   "metadata": {},
   "outputs": [],
   "source": [
    "help(str.isnumeric)"
   ]
  },
  {
   "cell_type": "markdown",
   "metadata": {},
   "source": [
    "We can now add this if-else statement to make it more robust."
   ]
  },
  {
   "cell_type": "code",
   "execution_count": null,
   "metadata": {},
   "outputs": [],
   "source": [
    "total = 0\n",
    "\n",
    "while total < 50:\n",
    "    x = input()\n",
    "    if x.isnumeric(): # check whether numeric or not (check 0-9 digit)\n",
    "        total += int(x) # convert to integer\n",
    "    else:\n",
    "        print(\"{} is not a valid round number!\".format(x))\n",
    "    print(\"total:\", total, ',' \"x:\", x)\n",
    "# kalau bagi 5.67, then bukan numeric 0-9, pakai else condition\n",
    "# mintak lagi input sampai dapat total > 50 (while loop)\n",
    "# increment for total only considered for numeric input"
   ]
  },
  {
   "cell_type": "markdown",
   "metadata": {},
   "source": [
    "What did we do here?\n",
    "\n",
    "Variable x is a string. If that string is numeric it can be casted to an int. Else we print that it is not a valid round number. "
   ]
  },
  {
   "cell_type": "markdown",
   "metadata": {},
   "source": [
    "### Range\n",
    "\n",
    "The for loop is used often in combination with range(). Let's have a look."
   ]
  },
  {
   "cell_type": "code",
   "execution_count": null,
   "metadata": {},
   "outputs": [],
   "source": [
    "range(10) # range start from 0-10"
   ]
  },
  {
   "cell_type": "code",
   "execution_count": null,
   "metadata": {},
   "outputs": [],
   "source": [
    "for i in range(10):\n",
    "    print(i, end=' ')"
   ]
  },
  {
   "cell_type": "code",
   "execution_count": null,
   "metadata": {},
   "outputs": [],
   "source": [
    "# boleh create list with number 1-1000\n",
    "for i in range(0,1000,50):\n",
    "    print(i, end=' ')"
   ]
  },
  {
   "cell_type": "code",
   "execution_count": null,
   "metadata": {},
   "outputs": [],
   "source": [
    "numbers = []\n",
    "for i in range(0,1000,50): # give 0-1000, skip 50\n",
    "    numbers.append(i)\n",
    "  \n",
    "print(numbers)"
   ]
  },
  {
   "cell_type": "markdown",
   "metadata": {},
   "source": [
    "### Enumerate\n",
    "\n",
    "Sometimes you want to loop over a list of items and also use the index numbers. For this we can use the numerate function."
   ]
  },
  {
   "cell_type": "code",
   "execution_count": 3,
   "metadata": {},
   "outputs": [],
   "source": [
    "items= ['banana','orange','apple']"
   ]
  },
  {
   "cell_type": "code",
   "execution_count": 4,
   "metadata": {},
   "outputs": [
    {
     "data": {
      "text/plain": [
       "[(0, 'banana'), (1, 'orange'), (2, 'apple')]"
      ]
     },
     "execution_count": 4,
     "metadata": {},
     "output_type": "execute_result"
    }
   ],
   "source": [
    "list(enumerate(items)) # nak tau index list tu"
   ]
  },
  {
   "cell_type": "code",
   "execution_count": 5,
   "metadata": {},
   "outputs": [
    {
     "data": {
      "text/plain": [
       "[(1, 'banana'), (2, 'orange'), (3, 'apple')]"
      ]
     },
     "execution_count": 5,
     "metadata": {},
     "output_type": "execute_result"
    }
   ],
   "source": [
    "list(enumerate(items, start = 1)) # nak reassign index start dari 1"
   ]
  },
  {
   "cell_type": "code",
   "execution_count": null,
   "metadata": {},
   "outputs": [],
   "source": [
    "for i, item in enumerate(items, start=101):\n",
    "    print(i, item)\n"
   ]
  },
  {
   "cell_type": "code",
   "execution_count": null,
   "metadata": {},
   "outputs": [],
   "source": [
    "games = ['badminton','swimming','bowling','racing']\n",
    "#for i, games in enumerate(games, start=1001):\n",
    "    #print(i, games)\n",
    "    \n",
    "list(enumerate(games, start = 1001))"
   ]
  },
  {
   "cell_type": "markdown",
   "metadata": {},
   "source": [
    "### Casting"
   ]
  },
  {
   "cell_type": "markdown",
   "metadata": {},
   "source": [
    "We casted a str to an int. We can do this for any of types. If the obj is not castable then we will get an Exception.\n",
    "\n",
    "***Question:*** Which of these conversions will work?"
   ]
  },
  {
   "cell_type": "code",
   "execution_count": null,
   "metadata": {},
   "outputs": [],
   "source": [
    "str(True)"
   ]
  },
  {
   "cell_type": "code",
   "execution_count": null,
   "metadata": {},
   "outputs": [],
   "source": [
    "int('10.1') # cannot cast string value of float into integer"
   ]
  },
  {
   "cell_type": "code",
   "execution_count": null,
   "metadata": {},
   "outputs": [],
   "source": [
    "int('10') # boleh tukar string integer jadi integer"
   ]
  },
  {
   "cell_type": "code",
   "execution_count": null,
   "metadata": {},
   "outputs": [],
   "source": [
    "float('10.98') # boleh tukar string float jadi float"
   ]
  },
  {
   "cell_type": "code",
   "execution_count": 7,
   "metadata": {},
   "outputs": [
    {
     "data": {
      "text/plain": [
       "(1, 2, 3)"
      ]
     },
     "execution_count": 7,
     "metadata": {},
     "output_type": "execute_result"
    }
   ],
   "source": [
    "tuple([1,2,3]) # boleh tukar list jadi tuple"
   ]
  },
  {
   "cell_type": "code",
   "execution_count": 8,
   "metadata": {},
   "outputs": [
    {
     "data": {
      "text/plain": [
       "list[1, 2, 3]"
      ]
     },
     "execution_count": 8,
     "metadata": {},
     "output_type": "execute_result"
    }
   ],
   "source": [
    "list[(1,2,3)] # kalau output yg kita dapat tu tuple, boleh tukar jadi list\n",
    "# tuple x boleh alter apa2 kat dalam, tapi boleh tukar form jadi list"
   ]
  },
  {
   "cell_type": "code",
   "execution_count": null,
   "metadata": {},
   "outputs": [],
   "source": [
    "dict([1,2,3]) # dict perlukan key dgn value"
   ]
  },
  {
   "cell_type": "code",
   "execution_count": 9,
   "metadata": {},
   "outputs": [
    {
     "data": {
      "text/plain": [
       "{'a': 1, 'b': 2}"
      ]
     },
     "execution_count": 9,
     "metadata": {},
     "output_type": "execute_result"
    }
   ],
   "source": [
    "dict([('a',1),('b',2)]) # kalau list tu ada key and value mcm dict then boleh tukar"
   ]
  },
  {
   "cell_type": "markdown",
   "metadata": {},
   "source": [
    "### Dunder methods\n",
    "\n",
    "So what's with all the '\\_\\_blah\\_\\_'?\n",
    "\n",
    "Object methods with two underscores are called \"dunder methods\". This stands for double underscore. These tell Python what to do in certain operations, for example \\_\\_eq\\_\\_ is a function to compare with another object and \\_\\_add\\_\\_ handles the + operation under the hood."
   ]
  },
  {
   "cell_type": "code",
   "execution_count": 10,
   "metadata": {},
   "outputs": [
    {
     "data": {
      "text/plain": [
       "['__add__',\n",
       " '__class__',\n",
       " '__class_getitem__',\n",
       " '__contains__',\n",
       " '__delattr__',\n",
       " '__delitem__',\n",
       " '__dir__',\n",
       " '__doc__',\n",
       " '__eq__',\n",
       " '__format__',\n",
       " '__ge__',\n",
       " '__getattribute__',\n",
       " '__getitem__',\n",
       " '__gt__',\n",
       " '__hash__',\n",
       " '__iadd__',\n",
       " '__imul__',\n",
       " '__init__',\n",
       " '__init_subclass__',\n",
       " '__iter__',\n",
       " '__le__',\n",
       " '__len__',\n",
       " '__lt__',\n",
       " '__mul__',\n",
       " '__ne__',\n",
       " '__new__',\n",
       " '__reduce__',\n",
       " '__reduce_ex__',\n",
       " '__repr__',\n",
       " '__reversed__',\n",
       " '__rmul__',\n",
       " '__setattr__',\n",
       " '__setitem__',\n",
       " '__sizeof__',\n",
       " '__str__',\n",
       " '__subclasshook__',\n",
       " 'append',\n",
       " 'clear',\n",
       " 'copy',\n",
       " 'count',\n",
       " 'extend',\n",
       " 'index',\n",
       " 'insert',\n",
       " 'pop',\n",
       " 'remove',\n",
       " 'reverse',\n",
       " 'sort']"
      ]
     },
     "execution_count": 10,
     "metadata": {},
     "output_type": "execute_result"
    }
   ],
   "source": [
    "dir(list) # nak tgk list dunder fucntion"
   ]
  },
  {
   "cell_type": "markdown",
   "metadata": {},
   "source": [
    "We can get help on these methods as well."
   ]
  },
  {
   "cell_type": "code",
   "execution_count": 11,
   "metadata": {},
   "outputs": [
    {
     "name": "stdout",
     "output_type": "stream",
     "text": [
      "Help on wrapper_descriptor:\n",
      "\n",
      "__add__(self, value, /)\n",
      "    Return self+value.\n",
      "\n"
     ]
    }
   ],
   "source": [
    "help(list.__add__)"
   ]
  },
  {
   "cell_type": "code",
   "execution_count": 12,
   "metadata": {},
   "outputs": [
    {
     "data": {
      "text/plain": [
       "[1, 2, 3, 4, 5, 6]"
      ]
     },
     "execution_count": 12,
     "metadata": {},
     "output_type": "execute_result"
    }
   ],
   "source": [
    "list_1 = [1,2,3]\n",
    "list_2 = [4,5,6]\n",
    "list_1 + list_2\n",
    "#list_3 = list_1 + list_2\n",
    "#list_3 # kena buat variable baru"
   ]
  },
  {
   "cell_type": "code",
   "execution_count": 13,
   "metadata": {},
   "outputs": [
    {
     "data": {
      "text/plain": [
       "[1, 2, 3, 4, 5, 6]"
      ]
     },
     "execution_count": 13,
     "metadata": {},
     "output_type": "execute_result"
    }
   ],
   "source": [
    "list_1.__add__(list_2)"
   ]
  },
  {
   "cell_type": "markdown",
   "metadata": {},
   "source": [
    "So dunder method \\_\\_add\\_\\_ implements what happens when the + operator is applied."
   ]
  },
  {
   "cell_type": "markdown",
   "metadata": {},
   "source": [
    "### Summary - More on loops"
   ]
  },
  {
   "cell_type": "markdown",
   "metadata": {},
   "source": [
    "> #### while\n",
    "A while loop statement in Python programming language repeatedly executes a target statement as long as a given condition is true.\n",
    "```python\n",
    "while i < 5:\n",
    "    i+=1\n",
    "    print(i)\n",
    "```"
   ]
  },
  {
   "cell_type": "markdown",
   "metadata": {},
   "source": [
    "> #### range\n",
    "A sequence of integers from start (inclusive) to stop (exclusive) by step.\n",
    "```python\n",
    "range(5)\n",
    "range(1,6)\n",
    "range(0,11,2)\n",
    "for i in range(5):\n",
    "    print(i)\n",
    "```\n"
   ]
  },
  {
   "cell_type": "markdown",
   "metadata": {},
   "source": [
    "> #### enumerate\n",
    "Returns a tuple containing a count (default starts with 0) and the values obtained from iterating over iterable.\n",
    "```python\n",
    "items = ['orange','apple','mango']\n",
    "enumerate(items)\n",
    "for i,item in enumerate(items):\n",
    "    print(i,item)\n",
    "```"
   ]
  },
  {
   "cell_type": "markdown",
   "metadata": {},
   "source": [
    "> #### casting\n",
    "Specify a type on to a variable.\n",
    "```python\n",
    "int(\"10\")\n",
    "float(\"10.2\")\n",
    "dict([('a',1), ('b', 2)])\n",
    "```"
   ]
  },
  {
   "cell_type": "markdown",
   "metadata": {},
   "source": [
    "> #### dunder methods\n",
    "Double underscore methods. This is how Python operations as + and == or implemented for the object.\n",
    "```python\n",
    "str.__add__\n",
    "str.__eq__\n",
    "```"
   ]
  },
  {
   "cell_type": "markdown",
   "metadata": {
    "toc-hr-collapsed": false
   },
   "source": [
    "## List operations\n",
    "\n",
    "The list is a very power object with many functionalities. \n",
    "\n",
    "Here is an overview of the most important functionality.\n",
    "\n",
    "- len(list) -- Gives the total length of the list. This would be equal to the number of items in the list.\n",
    "- list.clear() -- Removes all elements of the list\n",
    "- list.copy() -- Returns a shallow copy of the list\n",
    "- list.append(elem) -- adds a single element to the end of the list. Common error: does not return the new list, just modifies the original.\n",
    "- list.insert(index, elem) -- inserts the element at the given index, shifting elements to the right.\n",
    "- list.extend(list2) adds the elements in list2 to the end of the list. Using + or += on a list is similar to using extend().\n",
    "- list.index(elem) -- searches for the given element from the start of the list and returns its index. Throws a ValueError if the element does not appear (use \"in\" to check without a ValueError).\n",
    "- item in list -- check if the item is in the list\n",
    "- list.remove(elem) -- searches for the first instance of the given element and removes it (throws ValueError if not present)\n",
    "- list.sort() -- sorts the list in place (does not return it).\n",
    "- sorted(list) -- return sorted list but keeps the original order of the list\n",
    "- list.reverse() -- reverses the list in place (does not return it)\n",
    "- list.pop(index) -- removes and returns the element at the given index. Returns the rightmost element if index is omitted (roughly the opposite of append()).\n",
    "\n",
    "This is to give a overview, so that you know of the existence of these functionalities. Do you need to learn these by heart? No. Because you can always look it up using help() or dir() or the online python documentation."
   ]
  },
  {
   "cell_type": "markdown",
   "metadata": {},
   "source": [
    "Let's go through these functionalities. \n",
    "\n",
    "Create a list, show the size, clear it"
   ]
  },
  {
   "cell_type": "code",
   "execution_count": null,
   "metadata": {},
   "outputs": [],
   "source": [
    "numbers = [1,2,3,4]\n",
    "numbers"
   ]
  },
  {
   "cell_type": "code",
   "execution_count": null,
   "metadata": {},
   "outputs": [],
   "source": [
    "type(numbers)"
   ]
  },
  {
   "cell_type": "code",
   "execution_count": null,
   "metadata": {},
   "outputs": [],
   "source": [
    "len(numbers) # give number of element in the list"
   ]
  },
  {
   "cell_type": "markdown",
   "metadata": {},
   "source": [
    "You can use the list.copy() method when you want to copy the list and make a new object out of it."
   ]
  },
  {
   "cell_type": "code",
   "execution_count": null,
   "metadata": {},
   "outputs": [],
   "source": [
    "# nak buang semua element dalam list\n",
    "numbers.clear()\n",
    "numbers"
   ]
  },
  {
   "cell_type": "code",
   "execution_count": 15,
   "metadata": {},
   "outputs": [
    {
     "data": {
      "text/plain": [
       "[1, 2, 3, 4]"
      ]
     },
     "execution_count": 15,
     "metadata": {},
     "output_type": "execute_result"
    }
   ],
   "source": [
    "numbers = [1,2,3,4]\n",
    "numbers"
   ]
  },
  {
   "cell_type": "markdown",
   "metadata": {},
   "source": [
    "use list.copy() method when you want to copy the list and make a new object"
   ]
  },
  {
   "cell_type": "code",
   "execution_count": null,
   "metadata": {},
   "outputs": [],
   "source": [
    "numbers_2 = numbers # buat variable utk list numbers\n",
    "numbers_3 = numbers.copy()  # alternative: copy the exact list into numbers_3"
   ]
  },
  {
   "cell_type": "code",
   "execution_count": null,
   "metadata": {},
   "outputs": [],
   "source": [
    "numbers_3"
   ]
  },
  {
   "cell_type": "code",
   "execution_count": null,
   "metadata": {},
   "outputs": [],
   "source": [
    "numbers_2"
   ]
  },
  {
   "cell_type": "code",
   "execution_count": null,
   "metadata": {},
   "outputs": [],
   "source": [
    "print(id(numbers)) # numbers_2 tunjuk dekat 'numbers' sbb tu id sama\n",
    "print(id(numbers_2))\n",
    "print(id(numbers_3)) # numbers_3 copied version of 'numbers' so id lain"
   ]
  },
  {
   "cell_type": "markdown",
   "metadata": {},
   "source": [
    "Append an item at the end."
   ]
  },
  {
   "cell_type": "code",
   "execution_count": 16,
   "metadata": {},
   "outputs": [
    {
     "data": {
      "text/plain": [
       "[1, 2, 3, 4, 5]"
      ]
     },
     "execution_count": 16,
     "metadata": {},
     "output_type": "execute_result"
    }
   ],
   "source": [
    "numbers.append(5) # tambah kat hujung list\n",
    "numbers # everytime ko run akan tambah nombor 5 kat blakang"
   ]
  },
  {
   "cell_type": "markdown",
   "metadata": {},
   "source": [
    "Notice this doesn't return a object. This is an in-place operation. The original object is changed. Now 5 is added to the list. Let's see what happened to variable's numbers_2 and numbers_3."
   ]
  },
  {
   "cell_type": "code",
   "execution_count": null,
   "metadata": {},
   "outputs": [],
   "source": [
    "print(numbers)\n",
    "print(numbers_2)\n",
    "print(numbers_3)"
   ]
  },
  {
   "cell_type": "markdown",
   "metadata": {},
   "source": [
    "Be careful not to assign an in-place operation to a variable."
   ]
  },
  {
   "cell_type": "code",
   "execution_count": 17,
   "metadata": {},
   "outputs": [
    {
     "name": "stdout",
     "output_type": "stream",
     "text": [
      "numbers [1, 2, 3, 4, 5, 6]\n",
      "new numbers None\n"
     ]
    }
   ],
   "source": [
    "# wrong way\n",
    "new_numbers = numbers.append(6) #append tu mmg dah modify dalam list asal\n",
    "\n",
    "print('numbers',numbers)\n",
    "print('new numbers',new_numbers)"
   ]
  },
  {
   "cell_type": "code",
   "execution_count": 18,
   "metadata": {},
   "outputs": [
    {
     "name": "stdout",
     "output_type": "stream",
     "text": [
      "numbers [1, 2, 3, 4, 5, 6, 6]\n",
      "new numbers [1, 2, 3, 4, 5, 6, 6]\n"
     ]
    }
   ],
   "source": [
    "# correct way\n",
    "\n",
    "numbers.append(6)\n",
    "new_numbers = numbers\n",
    "\n",
    "print('numbers',numbers)\n",
    "print('new numbers',new_numbers)"
   ]
  },
  {
   "cell_type": "markdown",
   "metadata": {},
   "source": [
    "Notice that the value of new_numbers is None. This is what happens when you assign an in-place operation to a variable.\n",
    "\n",
    "We can also insert an item anywhere in the list. This is also an inplace operation."
   ]
  },
  {
   "cell_type": "code",
   "execution_count": null,
   "metadata": {},
   "outputs": [],
   "source": [
    "numbers"
   ]
  },
  {
   "cell_type": "code",
   "execution_count": 20,
   "metadata": {},
   "outputs": [
    {
     "data": {
      "text/plain": [
       "[1, 2, 100, 3, 4, 5, 6, 6, 10, 20, 30]"
      ]
     },
     "execution_count": 20,
     "metadata": {},
     "output_type": "execute_result"
    }
   ],
   "source": [
    "numbers.insert(2,100) # insert dekat index 2, value = 100\n",
    "numbers"
   ]
  },
  {
   "cell_type": "markdown",
   "metadata": {},
   "source": [
    "We can also extend a list with another list. Notice this in an in-place operation."
   ]
  },
  {
   "cell_type": "code",
   "execution_count": 19,
   "metadata": {},
   "outputs": [
    {
     "data": {
      "text/plain": [
       "[1, 2, 3, 4, 5, 6, 6, 10, 20, 30]"
      ]
     },
     "execution_count": 19,
     "metadata": {},
     "output_type": "execute_result"
    }
   ],
   "source": [
    "# extend function\n",
    "# subset become part of the main list\n",
    "numbers.extend([10,20,30])\n",
    "numbers"
   ]
  },
  {
   "cell_type": "markdown",
   "metadata": {},
   "source": [
    "We can add two lists with the + operator."
   ]
  },
  {
   "cell_type": "code",
   "execution_count": 21,
   "metadata": {},
   "outputs": [
    {
     "data": {
      "text/plain": [
       "[1, 2, 3, 4, 5, 6]"
      ]
     },
     "execution_count": 21,
     "metadata": {},
     "output_type": "execute_result"
    }
   ],
   "source": [
    "# concatenate function\n",
    "[1,2,3]+[4,5,6]"
   ]
  },
  {
   "cell_type": "code",
   "execution_count": 23,
   "metadata": {},
   "outputs": [
    {
     "data": {
      "text/plain": [
       "[1, 2, 100, 3, 4, 5, 6, 6, 10, 20, 30, [10, 20, 30], [10, 20, 30]]"
      ]
     },
     "execution_count": 23,
     "metadata": {},
     "output_type": "execute_result"
    }
   ],
   "source": [
    "numbers.append([10,20,30]) # tambah sub-list dalam list\n",
    "numbers\n",
    "#numbers[13] # dia consider sub-list tu as satu item\n",
    "# better pakai extend function"
   ]
  },
  {
   "cell_type": "markdown",
   "metadata": {},
   "source": [
    "We can get the index of the first occurence of an item."
   ]
  },
  {
   "cell_type": "code",
   "execution_count": null,
   "metadata": {},
   "outputs": [],
   "source": [
    "# nak tau nombor 10 tu index ke-berapa\n",
    "numbers.index(10)"
   ]
  },
  {
   "cell_type": "markdown",
   "metadata": {},
   "source": [
    "And then get the list until the 10 value."
   ]
  },
  {
   "cell_type": "code",
   "execution_count": 24,
   "metadata": {},
   "outputs": [
    {
     "name": "stdout",
     "output_type": "stream",
     "text": [
      "[1, 2, 100, 3, 4, 5, 6, 6, 10, 20, 30, [10, 20, 30], [10, 20, 30]]\n",
      "[1, 2, 100]\n",
      "[1, 2, 100, 3, 4, 5, 6, 6]\n"
     ]
    }
   ],
   "source": [
    "# slicing\n",
    "print(numbers)\n",
    "print(numbers[0:3])\n",
    "print(numbers[0:numbers.index(10)])\n",
    "# slice from start of list until index yg nombor 10\n",
    "# so x payah kira nombor 10 tu kat index yang mana"
   ]
  },
  {
   "cell_type": "markdown",
   "metadata": {},
   "source": [
    "Check if the list numbers holds 200."
   ]
  },
  {
   "cell_type": "code",
   "execution_count": null,
   "metadata": {},
   "outputs": [],
   "source": [
    "200 in numbers # check ada ke nombor 200 dalam list tu"
   ]
  },
  {
   "cell_type": "markdown",
   "metadata": {},
   "source": [
    "We can remove an item. It will remove the first occurence of that item."
   ]
  },
  {
   "cell_type": "code",
   "execution_count": null,
   "metadata": {},
   "outputs": [],
   "source": [
    "# nak remove a specific value\n",
    "print(numbers)\n",
    "numbers.remove(6)\n",
    "print(numbers) # buang first occurence of number 6"
   ]
  },
  {
   "cell_type": "markdown",
   "metadata": {},
   "source": [
    "We can sort the list in-place."
   ]
  },
  {
   "cell_type": "code",
   "execution_count": 25,
   "metadata": {},
   "outputs": [
    {
     "name": "stdout",
     "output_type": "stream",
     "text": [
      "[1, 2, 200, 5]\n",
      "[1, 2, 5, 200]\n"
     ]
    }
   ],
   "source": [
    "numbers = [1,2,200,5]\n",
    "print(numbers)\n",
    "numbers.sort() # call sort function\n",
    "print(numbers) # default sort ascending order"
   ]
  },
  {
   "cell_type": "markdown",
   "metadata": {},
   "source": [
    "We can also sort reversed by adding keyword argument reverse=True. The sorted() built-in function returns a sorted list but it does not affect the original."
   ]
  },
  {
   "cell_type": "code",
   "execution_count": 26,
   "metadata": {},
   "outputs": [
    {
     "name": "stdout",
     "output_type": "stream",
     "text": [
      "[200, 5, 2, 1]\n",
      "[1, 2, 5, 200]\n"
     ]
    },
    {
     "data": {
      "text/plain": [
       "[1, 2, 5, 200]"
      ]
     },
     "execution_count": 26,
     "metadata": {},
     "output_type": "execute_result"
    }
   ],
   "source": [
    "# sorted = in-built function, so perlukan attribue kat dlm bracket \n",
    "# temporarily\n",
    "print(sorted(numbers,reverse = True)) # default descending\n",
    "\n",
    "print(sorted(numbers,reverse = False)) # set false utk dpt ascending \n",
    "numbers # numbers.sort dah save permanently ascnding order"
   ]
  },
  {
   "cell_type": "markdown",
   "metadata": {},
   "source": [
    "We can reverse a list in place."
   ]
  },
  {
   "cell_type": "code",
   "execution_count": 27,
   "metadata": {},
   "outputs": [
    {
     "data": {
      "text/plain": [
       "[50, 60, 500, 20, 10]"
      ]
     },
     "execution_count": 27,
     "metadata": {},
     "output_type": "execute_result"
    }
   ],
   "source": [
    "numbers = [10,20,500,60,50]\n",
    "numbers.reverse() # reverse turutan item je, tapi x sort value pon\n",
    "numbers "
   ]
  },
  {
   "cell_type": "markdown",
   "metadata": {},
   "source": [
    "The pop function returns the last items and removes it from the list."
   ]
  },
  {
   "cell_type": "code",
   "execution_count": 30,
   "metadata": {},
   "outputs": [
    {
     "name": "stdout",
     "output_type": "stream",
     "text": [
      "[10, 20, 500, 60]\n"
     ]
    }
   ],
   "source": [
    "numbers = [10,20,500,60,50]\n",
    "numbers.pop()\n",
    "print(numbers)"
   ]
  },
  {
   "cell_type": "code",
   "execution_count": 28,
   "metadata": {},
   "outputs": [
    {
     "name": "stdout",
     "output_type": "stream",
     "text": [
      "[10, 20, 500, 60, 50]\n",
      "\n",
      "[10, 20, 500, 60] 50\n",
      "[10, 20, 500] 60\n",
      "[10, 20] 500\n",
      "[10] 20\n",
      "[] 10\n"
     ]
    }
   ],
   "source": [
    "# pop fucntion -->pop-out (kluarkan) last element in the list\n",
    "numbers = [10,20,500,60,50]\n",
    "print(numbers)\n",
    "print()\n",
    "while numbers:\n",
    "    print(numbers, numbers.pop())"
   ]
  },
  {
   "cell_type": "markdown",
   "metadata": {},
   "source": [
    "A list can be casted to a bool, which happens if a list is evaluated like here in the while statement."
   ]
  },
  {
   "cell_type": "code",
   "execution_count": 31,
   "metadata": {},
   "outputs": [
    {
     "data": {
      "text/plain": [
       "True"
      ]
     },
     "execution_count": 31,
     "metadata": {},
     "output_type": "execute_result"
    }
   ],
   "source": [
    "bool([1,2,3]) # treat mcm while loop, so kena ada value dlm tu"
   ]
  },
  {
   "cell_type": "code",
   "execution_count": 33,
   "metadata": {},
   "outputs": [
    {
     "data": {
      "text/plain": [
       "False"
      ]
     },
     "execution_count": 33,
     "metadata": {},
     "output_type": "execute_result"
    }
   ],
   "source": [
    "bool([])"
   ]
  },
  {
   "cell_type": "code",
   "execution_count": 32,
   "metadata": {},
   "outputs": [
    {
     "name": "stdout",
     "output_type": "stream",
     "text": [
      "kit: ['medic', 'hotdog', 'soup', 555]\n",
      "\n",
      "I consumed 555\n",
      "I consumed soup\n",
      "I consumed hotdog\n",
      "I consumed medic\n",
      "\n",
      "kit: []\n"
     ]
    }
   ],
   "source": [
    "kit = ['medic','hotdog','soup',555]\n",
    "print('kit:', kit, end = '\\n\\n')\n",
    "\n",
    "while kit: # bool([kit]) bool true selagi ada element\n",
    "    print('I consumed', kit.pop()) # pop-out dlm while loop\n",
    "print('\\nkit:',kit) # semua element dah kluar, so tinggal container kosong\n",
    "# loop kosong = bool([]) = false --> kluar loop"
   ]
  },
  {
   "cell_type": "markdown",
   "metadata": {
    "toc-hr-collapsed": false
   },
   "source": [
    "### Summary - List operations"
   ]
  },
  {
   "cell_type": "markdown",
   "metadata": {},
   "source": [
    "> #### list operations\n",
    "The list is a powerful object with many functionalities. The list is a mutable object.\n",
    "```python\n",
    "numbers = []\n",
    "numbers = [1,2,3,4]\n",
    "numbers[0]\n",
    "numbers[0] == 100\n",
    "numbers.append(0)\n",
    "numbers.insert(1, 100) # insert at index 1\n",
    "numbers.extend([5,6,7])\n",
    "numbers.remove(5)\n",
    "numbers.copy()\n",
    "numbers.clear()\n",
    "numbers.index(5)\n",
    "numbers.sort()\n",
    "numbers.sort(reverse=True)\n",
    "item = numbers.pop()\n",
    "sorted(numbers, reverse=True)\n",
    "5 in numbers\n",
    "len(numbers)\n",
    "```"
   ]
  },
  {
   "cell_type": "markdown",
   "metadata": {
    "toc-hr-collapsed": false
   },
   "source": [
    "### RUN ME\n",
    "\n",
    "Please run the below code snippet. It is required for running tests for your solution."
   ]
  },
  {
   "cell_type": "code",
   "execution_count": 34,
   "metadata": {},
   "outputs": [],
   "source": [
    "def test(got, expected):\n",
    "    if got == expected:\n",
    "        prefix = ' OK '\n",
    "    else:\n",
    "        prefix = '  FAIL '\n",
    "    print((f' {prefix} got: {got} expected: {expected}'))"
   ]
  },
  {
   "cell_type": "code",
   "execution_count": 35,
   "metadata": {},
   "outputs": [],
   "source": [
    "def test(got, expected):\n",
    "    max_width_print = min([int(79/3), \n",
    "                           len(repr(got)) + 10, \n",
    "                           len(repr(expected)) + 10])\n",
    "    \n",
    "    if got == expected:\n",
    "        prefix = ' OK '.center(max_width_print, '=')\n",
    "    else:\n",
    "        prefix = ' FAIL '.center(max_width_print, '=')\n",
    "    print(('%s\\n     got: %s \\nexpected: %s' % (prefix, repr(got), repr(expected))), \n",
    "          end = '\\n\\n')"
   ]
  },
  {
   "cell_type": "code",
   "execution_count": null,
   "metadata": {},
   "outputs": [],
   "source": [
    "test('a', 'ab')\n",
    "test('a', 'a')"
   ]
  },
  {
   "cell_type": "markdown",
   "metadata": {},
   "source": [
    "### Exercises - List operations"
   ]
  },
  {
   "cell_type": "markdown",
   "metadata": {},
   "source": [
    "#### Exercise 1 - Month days\n",
    "\n",
    "Define a function that inputs a string and returns the numbers of days in that month.\n",
    "\n",
    "Hints: help(str.index)"
   ]
  },
  {
   "cell_type": "code",
   "execution_count": 42,
   "metadata": {},
   "outputs": [
    {
     "name": "stdout",
     "output_type": "stream",
     "text": [
      "January\n",
      "31 0\n"
     ]
    }
   ],
   "source": [
    "months = [\"January\", \"February\", \"March\", \"April\", \"May\", \"June\", \"July\",\\\n",
    "          \"August\", \"September\", \"October\", \"November\", \"December\"]\n",
    "days = [31,28,31,30,31,30,31,31,30,31,30,31] # ada berapa hari dalam each months tu\n",
    "x = input()\n",
    "if x in months:\n",
    "        i = months.index(x)\n",
    "        print(days[i])"
   ]
  },
  {
   "cell_type": "code",
   "execution_count": null,
   "metadata": {},
   "outputs": [],
   "source": [
    "# Haseena\n",
    "def month_days(month):\n",
    "    months = [\"January\", \"February\", \"March\", \"April\", \"May\", \"June\", \"July\",\\\n",
    "          \"August\", \"September\", \"October\", \"November\", \"December\"]\n",
    "    days = [31,28,31,30,31,30,31,31,30,31,30,31]\n",
    "    \n",
    "    i = months.index(month)\n",
    "    return days[i]\n",
    "\n",
    "print(\"month_days\")\n",
    "test(month_days(\"January\"), 31)\n",
    "test(month_days(\"February\"), 28)\n",
    "test(month_days(\"September\"), 30)\n",
    "test(month_days(\"December\"), 31)"
   ]
  },
  {
   "cell_type": "code",
   "execution_count": null,
   "metadata": {},
   "outputs": [],
   "source": [
    "# Cara lain\n",
    "def month_days(month):\n",
    "    months = [\"January\", \"February\", \"March\", \"April\", \"May\", \"June\", \"July\",\\\n",
    "          \"August\", \"September\", \"October\", \"November\", \"December\"]\n",
    "    days = [31,28,31,30,31,30,31,31,30,31,30,31]\n",
    "    monthsdays = {}\n",
    "    for month in months:\n",
    "        for day in days:\n",
    "            monthsdays[month] = day\n",
    "            days.remove(day)\n",
    "            break\n",
    "\n",
    "x = input('Enter month:')\n",
    "print(monthsdays[x])"
   ]
  },
  {
   "cell_type": "markdown",
   "metadata": {},
   "source": [
    "#### Exercise 2 - Get unevens\n",
    "\n",
    "Define a function called remove_even that returns a list after removing the even numbers from it.\n",
    "\n",
    "Hints: define a new list, help(str.append)"
   ]
  },
  {
   "cell_type": "code",
   "execution_count": 50,
   "metadata": {},
   "outputs": [
    {
     "name": "stdout",
     "output_type": "stream",
     "text": [
      "get_unevens\n",
      "========= OK ========\n",
      "     got: [7, 25, 27] \n",
      "expected: [7, 25, 27]\n",
      "\n"
     ]
    }
   ],
   "source": [
    "def remove_even(num):\n",
    "    uneven = []\n",
    "    num = [7,8, 120, 25, 44, 20, 27]\n",
    "    for n in num:\n",
    "        if n %2 == 0:\n",
    "            continue\n",
    "        else:\n",
    "            uneven.append(n)\n",
    "    return (uneven)\n",
    "\n",
    "print(\"get_unevens\")\n",
    "test(remove_even(num), [7,25,27])"
   ]
  },
  {
   "cell_type": "code",
   "execution_count": null,
   "metadata": {},
   "outputs": [],
   "source": [
    "# Haseena\n",
    "#num = [7,8, 120, 25, 44, 20, 27]\n",
    "def remove_even(numbers_list):\n",
    "    new_numbers = []\n",
    "    for n in numbers_list:\n",
    "        if n % 2:\n",
    "            new_numbers.append(n)\n",
    "    return new_numbers\n",
    "\n",
    "\n",
    "## your code here\n",
    "## define function remove_even\n",
    "\n",
    "print(\"get_unevens\")\n",
    "test(remove_even(num), [7,25,27])"
   ]
  },
  {
   "cell_type": "code",
   "execution_count": null,
   "metadata": {},
   "outputs": [],
   "source": []
  },
  {
   "cell_type": "markdown",
   "metadata": {},
   "source": [
    "#### Exercise 3 - Sum top\n",
    "\n",
    "What is the total of the 3 highest numbers in this list?\n",
    "\n",
    "Hints: sorted()[:3]"
   ]
  },
  {
   "cell_type": "code",
   "execution_count": 57,
   "metadata": {},
   "outputs": [
    {
     "name": "stdout",
     "output_type": "stream",
     "text": [
      "sum_top\n",
      "===== OK ====\n",
      "     got: 505 \n",
      "expected: 505\n",
      "\n"
     ]
    }
   ],
   "source": [
    "numbers = [50, 23, 1, -50, 4, 400, 55, 32]\n",
    "def sum_top(numbers):\n",
    "    numbers.sort(reverse=True) # permanently sort\n",
    "    return sum(numbers[:3])\n",
    "print(\"sum_top\")\n",
    "test(sum_top(numbers), 505)"
   ]
  },
  {
   "cell_type": "code",
   "execution_count": 59,
   "metadata": {},
   "outputs": [
    {
     "name": "stdout",
     "output_type": "stream",
     "text": [
      "sum_top\n",
      "===== OK ====\n",
      "     got: 505 \n",
      "expected: 505\n",
      "\n"
     ]
    }
   ],
   "source": [
    "numbers = [50, 23, 1, -50, 4, 400, 55, 32]\n",
    "def sum_top(numbers):\n",
    "    return sum (sorted(numbers,reverse = True)[:3]) # temporarily sort\n",
    " \n",
    "print(\"sum_top\")\n",
    "test(sum_top(numbers), 505)"
   ]
  },
  {
   "cell_type": "code",
   "execution_count": null,
   "metadata": {},
   "outputs": [],
   "source": [
    "# Haseena\n",
    "numbers = [50, 23, 1, -50, 4, 400, 55, 32]\n",
    "\n",
    "def sum_top(numbers):\n",
    "    return sum(sorted(numbers, reverse = True)[:3])\n",
    "\n",
    "print(\"sum_top\")\n",
    "test(sum_top(numbers), 505)"
   ]
  },
  {
   "cell_type": "code",
   "execution_count": null,
   "metadata": {},
   "outputs": [],
   "source": []
  },
  {
   "cell_type": "markdown",
   "metadata": {},
   "source": [
    "#### Exercise 4 - Match ends \n",
    "\n",
    "Given a list of strings, return the count of the number of\n",
    "strings where the string length is 2 or more and the first\n",
    "and last chars of the string are the same. <br/>"
   ]
  },
  {
   "cell_type": "code",
   "execution_count": 60,
   "metadata": {},
   "outputs": [
    {
     "data": {
      "text/plain": [
       "5"
      ]
     },
     "execution_count": 60,
     "metadata": {},
     "output_type": "execute_result"
    }
   ],
   "source": [
    "text1 = (['aba', 'xyz', 'aa', 'x', 'bbb']) #3\n",
    "text2 = (['', 'x', 'xy', 'xyx', 'xx']) #2\n",
    "text3 = (['aaa', 'be', 'abc', 'hello']) #1\n",
    "def \n",
    "count = 0\n",
    "for word in words:\n",
    "    if len(word) > 2 and word[0]==word[-1]:\n",
    "        count = count + 1\n",
    "        "
   ]
  },
  {
   "cell_type": "code",
   "execution_count": 1,
   "metadata": {},
   "outputs": [
    {
     "ename": "NameError",
     "evalue": "name 'test' is not defined",
     "output_type": "error",
     "traceback": [
      "\u001b[1;31m---------------------------------------------------------------------------\u001b[0m",
      "\u001b[1;31mNameError\u001b[0m                                 Traceback (most recent call last)",
      "\u001b[1;32m~\\AppData\\Local\\Temp\\ipykernel_7384\\3531599400.py\u001b[0m in \u001b[0;36m<module>\u001b[1;34m\u001b[0m\n\u001b[0;32m     12\u001b[0m \u001b[1;33m\u001b[0m\u001b[0m\n\u001b[0;32m     13\u001b[0m \u001b[1;31m# TEST\u001b[0m\u001b[1;33m\u001b[0m\u001b[1;33m\u001b[0m\u001b[0m\n\u001b[1;32m---> 14\u001b[1;33m \u001b[0mtest\u001b[0m\u001b[1;33m(\u001b[0m\u001b[0mmatch_ends\u001b[0m\u001b[1;33m(\u001b[0m\u001b[0mtext1\u001b[0m\u001b[1;33m)\u001b[0m\u001b[1;33m,\u001b[0m \u001b[1;36m3\u001b[0m\u001b[1;33m)\u001b[0m\u001b[1;33m\u001b[0m\u001b[1;33m\u001b[0m\u001b[0m\n\u001b[0m\u001b[0;32m     15\u001b[0m \u001b[0mtest\u001b[0m\u001b[1;33m(\u001b[0m\u001b[0mmatch_ends\u001b[0m\u001b[1;33m(\u001b[0m\u001b[0mtext2\u001b[0m\u001b[1;33m)\u001b[0m\u001b[1;33m,\u001b[0m \u001b[1;36m2\u001b[0m\u001b[1;33m)\u001b[0m\u001b[1;33m\u001b[0m\u001b[1;33m\u001b[0m\u001b[0m\n\u001b[0;32m     16\u001b[0m \u001b[0mtest\u001b[0m\u001b[1;33m(\u001b[0m\u001b[0mmatch_ends\u001b[0m\u001b[1;33m(\u001b[0m\u001b[0mtext3\u001b[0m\u001b[1;33m)\u001b[0m\u001b[1;33m,\u001b[0m \u001b[1;36m1\u001b[0m\u001b[1;33m)\u001b[0m\u001b[1;33m\u001b[0m\u001b[1;33m\u001b[0m\u001b[0m\n",
      "\u001b[1;31mNameError\u001b[0m: name 'test' is not defined"
     ]
    }
   ],
   "source": [
    "# Haseena\n",
    "text1 = (['aba', 'xyz', 'aa', 'x', 'bbb']) #3\n",
    "text2 = (['', 'x', 'xy', 'xyx', 'xx']) #2\n",
    "text3 = (['aaa', 'be', 'abc', 'hello']) #1\n",
    "\n",
    "def match_ends(words):\n",
    "    counter = 0\n",
    "    for word in words:\n",
    "        if len(word)>=2 and word[0] == word[-1]:\n",
    "            counter = counter + 1\n",
    "    return counter\n",
    "\n",
    "# TEST\n",
    "test(match_ends(text1), 3)\n",
    "test(match_ends(text2), 2)\n",
    "test(match_ends(text3), 1)"
   ]
  },
  {
   "cell_type": "code",
   "execution_count": 62,
   "metadata": {},
   "outputs": [
    {
     "name": "stdout",
     "output_type": "stream",
     "text": [
      "[0, 24, 63, 3]\n"
     ]
    }
   ],
   "source": [
    "L = [1,5,8,2]\n",
    "M = [item**2-1 for item in L]\n",
    "print(M)"
   ]
  },
  {
   "cell_type": "code",
   "execution_count": 63,
   "metadata": {},
   "outputs": [
    {
     "name": "stdout",
     "output_type": "stream",
     "text": [
      "35\n"
     ]
    }
   ],
   "source": [
    "def add(a,b,c=10):\n",
    "    print(a+b+c)\n",
    "answer = add(10,15)"
   ]
  },
  {
   "cell_type": "code",
   "execution_count": 64,
   "metadata": {},
   "outputs": [
    {
     "data": {
      "text/plain": [
       "3"
      ]
     },
     "execution_count": 64,
     "metadata": {},
     "output_type": "execute_result"
    }
   ],
   "source": [
    "f = open('file.text', 'w')\n",
    "f.write('hey')"
   ]
  },
  {
   "cell_type": "code",
   "execution_count": 65,
   "metadata": {},
   "outputs": [
    {
     "data": {
      "text/plain": [
       "['Jeremy', 'Akmal', 'Jan', 'Tan']"
      ]
     },
     "execution_count": 65,
     "metadata": {},
     "output_type": "execute_result"
    }
   ],
   "source": [
    "names = ['Jeremy','Akmal','Jan','Tan']\n",
    "sorted(names, key = lambda x: len(x), reverse = True)"
   ]
  },
  {
   "cell_type": "markdown",
   "metadata": {
    "toc-hr-collapsed": false
   },
   "source": [
    "## Dictionary operations\n",
    "\n",
    "A dictionary is a collection of key-value pairs. It is used to look up things and a very common used type. Notice the { } curly brackets and the \"key\": \"value\" notation. Notice the squared bracket for looking up.\n",
    "\n",
    "- len(dict) -- Gives the total length of the dictionary. This would be equal to the number of items in the dictionary.\n",
    "- dict.clear() -- Removes all elements of dictionary dict\n",
    "- dict.copy() -- Returns a shallow copy of dictionary dict\n",
    "- dict.update(dict2) -- Adds dictionary dict2's key-values pairs to dict\n",
    "- dict.fromkeys() -- Create a new dictionary with keys from seq and values set to value.\n",
    "- dict.get(key, default=None) -- For key, returns value or default if key not in dictionary\n",
    "- dict.setdefault(key, default=None) -- Similar to get(), but will set dict[key]=default if key is not already in dict\n",
    "- dict.items() -- Returns a iterator of dict's (key, value) tuple pairs\n",
    "- dict.keys() -- Returns iterator of dictionary dict's keys\n",
    "- dict.values() -- Returns list of dictionary dict's values\n"
   ]
  },
  {
   "cell_type": "markdown",
   "metadata": {},
   "source": [
    "Let's create a dictionary to go try out these functionalities."
   ]
  },
  {
   "cell_type": "code",
   "execution_count": 1,
   "metadata": {},
   "outputs": [
    {
     "name": "stdout",
     "output_type": "stream",
     "text": [
      "1.5\n"
     ]
    },
    {
     "data": {
      "text/plain": [
       "3.25"
      ]
     },
     "execution_count": 1,
     "metadata": {},
     "output_type": "execute_result"
    }
   ],
   "source": [
    "# keys and values\n",
    "# keys boleh jadi string,int,float\n",
    "prices = {566:1.5, 'orange':3.25}\n",
    "print(prices[566])\n",
    "prices['orange']\n"
   ]
  },
  {
   "cell_type": "markdown",
   "metadata": {},
   "source": [
    "The dictionary has now 2 items."
   ]
  },
  {
   "cell_type": "code",
   "execution_count": null,
   "metadata": {},
   "outputs": [],
   "source": [
    "len(prices) # 2 keys"
   ]
  },
  {
   "cell_type": "markdown",
   "metadata": {},
   "source": [
    "We can copy and clear similar as a list."
   ]
  },
  {
   "cell_type": "code",
   "execution_count": null,
   "metadata": {},
   "outputs": [],
   "source": [
    "prices_2 = prices\n",
    "prices_3 = prices.copy()\n",
    "\n",
    "print('before dict.clear()')\n",
    "print(prices)\n",
    "print(prices_2)\n",
    "print(prices_3)"
   ]
  },
  {
   "cell_type": "code",
   "execution_count": null,
   "metadata": {},
   "outputs": [],
   "source": [
    "prices.clear() # only clear prices variable, not the copied version\n",
    "\n",
    "print('before dict.clear()')\n",
    "print(prices)\n",
    "print(prices_2)\n",
    "print(prices_3)"
   ]
  },
  {
   "cell_type": "code",
   "execution_count": null,
   "metadata": {},
   "outputs": [],
   "source": [
    "# reassign prices --> point to prices_3\n",
    "prices = prices_3\n",
    "print(prices)"
   ]
  },
  {
   "cell_type": "markdown",
   "metadata": {},
   "source": [
    "The dictionary is  mutable like a list. This is how we can update the dictionary item with a new value."
   ]
  },
  {
   "cell_type": "code",
   "execution_count": null,
   "metadata": {},
   "outputs": [],
   "source": [
    "prices = {'apple':1.25, 'orange':3.25}\n",
    "# boleh tambah key baru\n",
    "prices['banana'] = 2.30\n",
    "prices\n"
   ]
  },
  {
   "cell_type": "code",
   "execution_count": null,
   "metadata": {},
   "outputs": [],
   "source": [
    "fruit = {'apple':1.234, 'durian':87.2}\n",
    "fruit\n",
    "fruit['berries']=3.45 # satu value je boleh tambah\n",
    "fruit"
   ]
  },
  {
   "cell_type": "markdown",
   "metadata": {},
   "source": [
    "To update one dictionary with the another dictionary we can use update method. Notice this is an in-place operation."
   ]
  },
  {
   "cell_type": "code",
   "execution_count": null,
   "metadata": {},
   "outputs": [],
   "source": [
    "prices.update({'mango':1.22, 'durian':5.6})\n",
    "prices # boleh tambah byk2"
   ]
  },
  {
   "cell_type": "code",
   "execution_count": null,
   "metadata": {},
   "outputs": [],
   "source": [
    "fruit.update({'grape':5.664, 'avocado':4.5})\n",
    "fruit"
   ]
  },
  {
   "cell_type": "markdown",
   "metadata": {},
   "source": [
    "You can initiate a dictionary with a list of keys."
   ]
  },
  {
   "cell_type": "code",
   "execution_count": null,
   "metadata": {},
   "outputs": [],
   "source": [
    "help(dict.fromkeys)"
   ]
  },
  {
   "cell_type": "code",
   "execution_count": null,
   "metadata": {},
   "outputs": [],
   "source": [
    "keys = ['Jermy','Narjes','Amin'] # created a list of keys\n",
    "dict.fromkeys(keys,[])\n",
    "# akan convert items dalam list ni jadi keys dalam dictionary\n",
    "# dictionary mesti ada keys, tapi value xde pon xpe (Null)"
   ]
  },
  {
   "cell_type": "markdown",
   "metadata": {},
   "source": [
    "We can get values out of the dictionary in these 3 ways.\n",
    "\n",
    "1. prices[\"orange\"] -- simple. throws error when \"orange\" is not in the dict.\n",
    "2. prices.get(\"orange\") -- returns None or a default when \"orange\" is not in the dict.\n",
    "3. prices.setdefault(\"orange\", 1) -- returns None or a default when \"orange\" is not in the dict and updates the dictionary with the default."
   ]
  },
  {
   "cell_type": "code",
   "execution_count": null,
   "metadata": {},
   "outputs": [],
   "source": [
    "# nak dpt value dalam specific key\n",
    "prices = {'apple':1.5, 'orange':3.45}\n",
    "prices['orange']"
   ]
  },
  {
   "cell_type": "markdown",
   "metadata": {},
   "source": [
    "Stay calm."
   ]
  },
  {
   "cell_type": "code",
   "execution_count": null,
   "metadata": {},
   "outputs": [],
   "source": [
    "prices['pineapple'] # sbb xde dalam dictionary"
   ]
  },
  {
   "cell_type": "markdown",
   "metadata": {},
   "source": [
    "Since 'pineapple' is not in the dictionary this throws a KeyError."
   ]
  },
  {
   "cell_type": "code",
   "execution_count": null,
   "metadata": {},
   "outputs": [],
   "source": [
    "# add pineapple key\n",
    "prices.get('pineapple')"
   ]
  },
  {
   "cell_type": "code",
   "execution_count": null,
   "metadata": {},
   "outputs": [],
   "source": [
    "# add pineapple key and value temporarily\n",
    "prices.get('pineapple',1.0)"
   ]
  },
  {
   "cell_type": "code",
   "execution_count": null,
   "metadata": {},
   "outputs": [],
   "source": [
    "prices"
   ]
  },
  {
   "cell_type": "code",
   "execution_count": null,
   "metadata": {},
   "outputs": [],
   "source": [
    "print(prices.setdefault('pineapple',1.0)) # utk add permanently\n",
    "print(prices) # x boleh bagi multiple keys"
   ]
  },
  {
   "cell_type": "markdown",
   "metadata": {},
   "source": [
    "Let's say we have a dictionary of lists. We can use setdefault and append in one go."
   ]
  },
  {
   "cell_type": "code",
   "execution_count": null,
   "metadata": {},
   "outputs": [],
   "source": [
    "fruity = {}\n",
    "\n",
    "fruity.setdefault('pineapple',[]).append(10)\n",
    "fruity"
   ]
  },
  {
   "cell_type": "markdown",
   "metadata": {},
   "source": [
    "Back to the fruit prices.\n",
    "\n",
    "These 3 methods can be used for looping over dictionaries.\n",
    "\n",
    "1. prices.keys() -- the keys\n",
    "2. prices.values() -- the values\n",
    "3. prices.items() -- the key-value pairs"
   ]
  },
  {
   "cell_type": "code",
   "execution_count": 2,
   "metadata": {},
   "outputs": [
    {
     "data": {
      "text/plain": [
       "dict_keys([566, 'orange'])"
      ]
     },
     "execution_count": 2,
     "metadata": {},
     "output_type": "execute_result"
    }
   ],
   "source": [
    "prices.keys()"
   ]
  },
  {
   "cell_type": "code",
   "execution_count": 3,
   "metadata": {},
   "outputs": [
    {
     "data": {
      "text/plain": [
       "dict_values([1.5, 3.25])"
      ]
     },
     "execution_count": 3,
     "metadata": {},
     "output_type": "execute_result"
    }
   ],
   "source": [
    "prices.values()"
   ]
  },
  {
   "cell_type": "code",
   "execution_count": null,
   "metadata": {},
   "outputs": [],
   "source": [
    "prices.items() # bagi complete with items"
   ]
  },
  {
   "cell_type": "markdown",
   "metadata": {},
   "source": [
    "By default looping over a dictionary gives you the keys."
   ]
  },
  {
   "cell_type": "code",
   "execution_count": 4,
   "metadata": {},
   "outputs": [
    {
     "name": "stdout",
     "output_type": "stream",
     "text": [
      "566 1.5\n",
      "orange 3.25\n"
     ]
    }
   ],
   "source": [
    "for fruit in prices: # loop over the keys\n",
    "    print(fruit, prices[fruit]) # point to each items (keys+value)"
   ]
  },
  {
   "cell_type": "markdown",
   "metadata": {},
   "source": [
    "The best way to loop over the key-value pairs is using prices.items()"
   ]
  },
  {
   "cell_type": "code",
   "execution_count": 5,
   "metadata": {},
   "outputs": [
    {
     "name": "stdout",
     "output_type": "stream",
     "text": [
      "566\n",
      "566 1.5\n",
      "orange\n",
      "orange 3.25\n"
     ]
    }
   ],
   "source": [
    "for k, v in prices.items(): # call item, pointing exactly to key and value\n",
    "    print(k)\n",
    "    print(k,v)"
   ]
  },
  {
   "cell_type": "code",
   "execution_count": null,
   "metadata": {},
   "outputs": [],
   "source": [
    "for y in prices.items():\n",
    "    print(y)"
   ]
  },
  {
   "cell_type": "markdown",
   "metadata": {},
   "source": [
    "### Summary - Dictionary operations"
   ]
  },
  {
   "cell_type": "markdown",
   "metadata": {},
   "source": [
    "> #### dictionary operations\n",
    "Dictionary. A collection of key-value pairs. Used to look up things. The dict class provides many functionalities. The dict is a mutable object.\n",
    "```python\n",
    "prices = {}\n",
    "prices = {\"apple\": 1.5, \"orange\":3.5, \"banana\":2.5}\n",
    "prices[\"mango\"] = 2.0\n",
    "prices.update({\"strawberry\":4.0, \"melon\":10.0})\n",
    "prices[\"orange\"]\n",
    "prices.get(\"pineapple\", 1.0)\n",
    "prices.setdefault(\"pineapple\", 1.0)\n",
    "prices.keys()\n",
    "prices.values()\n",
    "prices.items()\n",
    "for k in price:\n",
    "    print(k)\n",
    "for k,v in prices.items():\n",
    "    print(k,v)\n",
    "prices.clear()\n",
    "prices.copy()\n",
    "prices.fromkeys([\"apple\", \"orange\", \"banana\"], 1.0)\n",
    "len(prices)\n",
    "```"
   ]
  },
  {
   "cell_type": "markdown",
   "metadata": {
    "toc-hr-collapsed": false
   },
   "source": [
    "### RUN ME\n",
    "\n",
    "Please run the below code snippet. It is required for running tests for your solution."
   ]
  },
  {
   "cell_type": "code",
   "execution_count": null,
   "metadata": {},
   "outputs": [],
   "source": [
    "def test(got, expected):\n",
    "    if got == expected:\n",
    "        prefix = ' OK '\n",
    "    else:\n",
    "        prefix = '  FAIL '\n",
    "    print((f' {prefix} got: {got} expected: {expected}'))"
   ]
  },
  {
   "cell_type": "code",
   "execution_count": null,
   "metadata": {},
   "outputs": [],
   "source": [
    "def test(got, expected):\n",
    "    max_width_print = min([int(79/3), \n",
    "                           len(repr(got)) + 10, \n",
    "                           len(repr(expected)) + 10])\n",
    "    \n",
    "    if got == expected:\n",
    "        prefix = ' OK '.center(max_width_print, '=')\n",
    "    else:\n",
    "        prefix = ' FAIL '.center(max_width_print, '=')\n",
    "    print(('%s\\n     got: %s \\nexpected: %s' % (prefix, repr(got), repr(expected))), \n",
    "          end = '\\n\\n')"
   ]
  },
  {
   "cell_type": "code",
   "execution_count": null,
   "metadata": {},
   "outputs": [],
   "source": [
    "test('a', 'ab')\n",
    "test('a', 'a')"
   ]
  },
  {
   "cell_type": "markdown",
   "metadata": {},
   "source": [
    "### Exercises - Dictionary operations"
   ]
  },
  {
   "cell_type": "markdown",
   "metadata": {},
   "source": [
    "#### Exercise 1 - Numbers info\n",
    "\n",
    "Given a list of numbers return a dictionary with info about the numbers. The dictionary should contain keys \"len\", \"max\", \"min\", \"sum\", \"avg\" with those measures as the respective values. Round avg to 2 decimals.\n",
    "\n",
    "Hints: sum()/len()"
   ]
  },
  {
   "cell_type": "code",
   "execution_count": null,
   "metadata": {},
   "outputs": [],
   "source": [
    "numbers = [1, 4, 9, 16, 25]\n",
    "\n",
    "def info(numbers):\n",
    "    info = {'len':len(numbers),'max':max(numbers),'min':min(numbers),'sum':sum(numbers),'avg':sum(numbers)/len(numbers)}\n",
    "    return info\n",
    "    \n",
    "       \n",
    "    \n",
    "        \n",
    "\n",
    "print(\"numbers_info\",info(numbers))\n",
    "test(info(numbers), {'avg': 11.0, 'len': 5, 'max': 25, 'min': 1, 'sum': 55})"
   ]
  },
  {
   "cell_type": "code",
   "execution_count": null,
   "metadata": {},
   "outputs": [],
   "source": [
    "numbers = [1, 4, 9, 16, 25]\n",
    "\n",
    "#len(numbers)\n",
    "#sum(numbers)\n",
    "#avg = sum(numbers)/len(numbers)\n",
    "#print(avg)\n",
    "max(numbers)\n",
    "min(numbers)\n",
    "        \n",
    "\n"
   ]
  },
  {
   "cell_type": "code",
   "execution_count": null,
   "metadata": {},
   "outputs": [],
   "source": []
  },
  {
   "cell_type": "markdown",
   "metadata": {},
   "source": [
    "#### Exercice 2 - Cart checkout\n",
    "Compute the total price of this cart. By default everything cost RM 1, except when prices are written.\n",
    "\n",
    "Hints: dict.get(), dict.items()"
   ]
  },
  {
   "cell_type": "code",
   "execution_count": 2,
   "metadata": {},
   "outputs": [
    {
     "name": "stdout",
     "output_type": "stream",
     "text": [
      "{'apple': 12, 'banana': 1, 'orange': 2, 'pear': 10} {'mango': 12, 'apple': 2.5, 'orange': 5.5, 'banana': 3}\n"
     ]
    }
   ],
   "source": [
    "cart = {'apple':12, \n",
    "       'banana': 1,\n",
    "       'orange': 2,\n",
    "       'pear':10}\n",
    "\n",
    "prices = {'mango':12,\n",
    "         'apple':2.5,\n",
    "         'orange':5.5,\n",
    "         'banana':3}\n",
    "\n",
    "print(cart, prices)"
   ]
  },
  {
   "cell_type": "code",
   "execution_count": 6,
   "metadata": {},
   "outputs": [
    {
     "name": "stdout",
     "output_type": "stream",
     "text": [
      "apple 12\n",
      "banana 1\n",
      "orange 2\n",
      "pear 10\n",
      "54.0\n"
     ]
    }
   ],
   "source": [
    "for k in cart:\n",
    "    if k not in prices.keys():\n",
    "        print(k)\n",
    "        \n",
    "total = 0\n",
    "for k,v in cart.items():\n",
    "    print(k,v)\n",
    "    total = total + v * prices.get(k,1)\n",
    "print(total)"
   ]
  },
  {
   "cell_type": "code",
   "execution_count": 13,
   "metadata": {},
   "outputs": [
    {
     "name": "stdout",
     "output_type": "stream",
     "text": [
      "{'mango': 12, 'apple': 2.5, 'orange': 5.5, 'banana': 3, 'pear': 1.0}\n"
     ]
    },
    {
     "ename": "TypeError",
     "evalue": "unsupported operand type(s) for *: 'int' and 'dict'",
     "output_type": "error",
     "traceback": [
      "\u001b[1;31m---------------------------------------------------------------------------\u001b[0m",
      "\u001b[1;31mTypeError\u001b[0m                                 Traceback (most recent call last)",
      "Input \u001b[1;32mIn [13]\u001b[0m, in \u001b[0;36m<cell line: 7>\u001b[1;34m()\u001b[0m\n\u001b[0;32m      6\u001b[0m total\u001b[38;5;241m=\u001b[39m\u001b[38;5;241m0\u001b[39m \u001b[38;5;66;03m# kena repair\u001b[39;00m\n\u001b[0;32m      7\u001b[0m \u001b[38;5;28;01mfor\u001b[39;00m v \u001b[38;5;129;01min\u001b[39;00m cart\u001b[38;5;241m.\u001b[39mvalues():\n\u001b[1;32m----> 8\u001b[0m     total \u001b[38;5;241m=\u001b[39m total \u001b[38;5;241m+\u001b[39m \u001b[43mv\u001b[49m\u001b[43m \u001b[49m\u001b[38;5;241;43m*\u001b[39;49m\u001b[43m \u001b[49m\u001b[43mprices\u001b[49m\n\u001b[0;32m     10\u001b[0m \u001b[38;5;66;03m## your code\u001b[39;00m\n\u001b[0;32m     11\u001b[0m \u001b[38;5;28mprint\u001b[39m(total)\n",
      "\u001b[1;31mTypeError\u001b[0m: unsupported operand type(s) for *: 'int' and 'dict'"
     ]
    }
   ],
   "source": [
    "\n",
    "for fruit in cart:\n",
    "    if fruit not in prices.keys():\n",
    "        print(fruit)\n",
    "        prices.update({fruit:1.0})\n",
    "print(prices)\n",
    "total=0 # kena repair\n",
    "for v in cart.values():\n",
    "    total = total + v * prices\n",
    "    \n",
    "## your code\n",
    "print(total)\n",
    "#print(\"cart_checkout\")\n",
    "#test(total, 54.0)"
   ]
  },
  {
   "cell_type": "code",
   "execution_count": null,
   "metadata": {},
   "outputs": [],
   "source": []
  },
  {
   "cell_type": "markdown",
   "metadata": {},
   "source": [
    "#### Exercise 3 - Grade students\n",
    "1. Write a function that add a grade to a student. Make sure the function can handle new students!\n",
    "1. Add 20 to Narjes, add 11 to Jeremy and add 5 to Darren\n",
    "1. Compute the average grade of Jeremy. Round it to 2 decimals\n",
    "\n",
    "Hints: dict.setdefault, sum()/len()"
   ]
  },
  {
   "cell_type": "code",
   "execution_count": 7,
   "metadata": {},
   "outputs": [
    {
     "ename": "SyntaxError",
     "evalue": "expression cannot contain assignment, perhaps you meant \"==\"? (2034013218.py, line 20)",
     "output_type": "error",
     "traceback": [
      "\u001b[1;36m  Input \u001b[1;32mIn [7]\u001b[1;36m\u001b[0m\n\u001b[1;33m    average_jeremy = round(sum(gj)/len=(gj),2)\u001b[0m\n\u001b[1;37m                           ^\u001b[0m\n\u001b[1;31mSyntaxError\u001b[0m\u001b[1;31m:\u001b[0m expression cannot contain assignment, perhaps you meant \"==\"?\n"
     ]
    }
   ],
   "source": [
    "grades = {\n",
    "    'Amin':[12, 14, 20],\n",
    "    'Jeremy':[5, 12],\n",
    "    'Narjes':[10]\n",
    "}\n",
    "\n",
    "# 1. Write a function that adds a grade to a student.\n",
    "\n",
    "def add_grade(student_name, grade):\n",
    "    grades.setdefault(student_name,[]).append(grade)\n",
    "    \n",
    "# 2. Add 20 to Narjes, add 11 to Jeremy and add 5 to Darren\n",
    "add_grade('Narjes',20)\n",
    "add_grade('Jeremy',11)\n",
    "add_grade('Darren',5)\n",
    "## your code here\n",
    "\n",
    "# 3. Compute the average grade of Jeremy\n",
    "gj = grades('Jeremy')\n",
    "average_jeremy = round(sum(gj)/len=(gj),2)\n",
    "\n",
    "# TEST\n",
    "print(\"grade_students\")\n",
    "test(grades, {'Amin': [12, 14, 20], 'Jeremy': [5, 12, 11], 'Narjes': [10, 20], 'Darren': [5]})\n",
    "test(average_jeremy, 9.33)"
   ]
  },
  {
   "cell_type": "code",
   "execution_count": null,
   "metadata": {},
   "outputs": [],
   "source": []
  },
  {
   "cell_type": "markdown",
   "metadata": {
    "toc-hr-collapsed": false
   },
   "source": [
    "## List comprehension and lambda"
   ]
  },
  {
   "cell_type": "markdown",
   "metadata": {},
   "source": [
    "### List Comprehensions\n",
    "\n",
    "A list comprehension is a compact expression to create a new list out of another list while applying filters and expressions. All in one line!\n",
    "\n",
    "We have a list of numbers: 1, 2, 3, 4, 5, 6, 7, 8, 9, 10\n",
    "\n",
    "We want to create a new list with these numbers, but we only want the uneven numbers and we want to square those.\n",
    "\n",
    "This will give us: 1, 9, 25, 49, 81\n",
    "\n",
    "Let's try."
   ]
  },
  {
   "cell_type": "code",
   "execution_count": 15,
   "metadata": {},
   "outputs": [],
   "source": [
    "numbers = [1,2,3,4,5,6,7,8,9,10]"
   ]
  },
  {
   "cell_type": "markdown",
   "metadata": {},
   "source": [
    "Now we have a new list with the same items.\n",
    "\n",
    "Let's filter so that we keep the **odd** numbers."
   ]
  },
  {
   "cell_type": "code",
   "execution_count": 16,
   "metadata": {},
   "outputs": [
    {
     "data": {
      "text/plain": [
       "[1, 2, 3, 4, 5, 6, 7, 8, 9, 10]"
      ]
     },
     "execution_count": 16,
     "metadata": {},
     "output_type": "execute_result"
    }
   ],
   "source": [
    "# Using for loop \n",
    "# Create new list which contains the elements of numbers \n",
    "newlist = [n for n in numbers]\n",
    "newlist # buat list baru sbb x nak kacau list asal"
   ]
  },
  {
   "cell_type": "code",
   "execution_count": 19,
   "metadata": {},
   "outputs": [
    {
     "data": {
      "text/plain": [
       "[1, 3, 5, 7, 9]"
      ]
     },
     "execution_count": 19,
     "metadata": {},
     "output_type": "execute_result"
    }
   ],
   "source": [
    "numbers = [1,2,3,4,5,6,7,8,9,10]\n",
    "ans= []\n",
    "\n",
    "for n in numbers:\n",
    "    if n%2 != 0: # nak buang yg sama ngan 0\n",
    "        ans.append(n)\n",
    "ans"
   ]
  },
  {
   "cell_type": "code",
   "execution_count": 20,
   "metadata": {},
   "outputs": [
    {
     "data": {
      "text/plain": [
       "[1, 3, 5, 7, 9]"
      ]
     },
     "execution_count": 20,
     "metadata": {},
     "output_type": "execute_result"
    }
   ],
   "source": [
    "newlist = [n for n in numbers if n%2!=0]  # (n dlm list baru) dpt dari for loop\n",
    "newlist # filter"
   ]
  },
  {
   "cell_type": "markdown",
   "metadata": {},
   "source": [
    "Now let's **square** those uneven numbers."
   ]
  },
  {
   "cell_type": "code",
   "execution_count": 21,
   "metadata": {},
   "outputs": [
    {
     "data": {
      "text/plain": [
       "[1, 9, 25, 49, 81]"
      ]
     },
     "execution_count": 21,
     "metadata": {},
     "output_type": "execute_result"
    }
   ],
   "source": [
    "newlist = [n**2 for n in numbers if n%2!=0]\n",
    "newlist # filter with if condition"
   ]
  },
  {
   "cell_type": "markdown",
   "metadata": {},
   "source": [
    "Done! All in one line.\n",
    "\n",
    "So what did we do here?\n",
    "\n",
    "We looped over the numbers, applied a filter and applied an expression on each item n.\n",
    "- iterable: numbers\n",
    "- element: n\n",
    "- condition: n%2!=0\n",
    "- expression: n**2\n",
    "\n",
    "```python\n",
    "[ expression(element) for element in iterable if condition(element) ]\n",
    "```"
   ]
  },
  {
   "cell_type": "markdown",
   "metadata": {},
   "source": [
    "### Lambda\n",
    "\n",
    "The lambda is a nameless function. \n",
    "\n",
    "Sometimes your want to define a function for a single time usage. In that case a lambda function is more elegant than predefining a whole named function, that you will only use once.\n",
    "\n",
    "Lambda functions are mainly used in combination with the functions sort(), filter() and map()."
   ]
  },
  {
   "cell_type": "code",
   "execution_count": 23,
   "metadata": {},
   "outputs": [],
   "source": [
    "tuples = [(40,1,1), (1,2,3,4), (1000,2), (-1,5,5,5,5,55,5,5)]"
   ]
  },
  {
   "cell_type": "markdown",
   "metadata": {},
   "source": [
    "Let's say we want to sort this list of tuples based in the total value of the tuple."
   ]
  },
  {
   "cell_type": "code",
   "execution_count": 24,
   "metadata": {},
   "outputs": [
    {
     "data": {
      "text/plain": [
       "[(-1, 5, 5, 5, 5, 55, 5, 5), (1, 2, 3, 4), (40, 1, 1), (1000, 2)]"
      ]
     },
     "execution_count": 24,
     "metadata": {},
     "output_type": "execute_result"
    }
   ],
   "source": [
    "sorted(tuples)"
   ]
  },
  {
   "cell_type": "code",
   "execution_count": 31,
   "metadata": {},
   "outputs": [
    {
     "name": "stdout",
     "output_type": "stream",
     "text": [
      "Help on built-in function sorted in module builtins:\n",
      "\n",
      "sorted(iterable, /, *, key=None, reverse=False)\n",
      "    Return a new list containing all items from the iterable in ascending order.\n",
      "    \n",
      "    A custom key function can be supplied to customize the sort order, and the\n",
      "    reverse flag can be set to request the result in descending order.\n",
      "\n"
     ]
    }
   ],
   "source": [
    "help(sorted) # iterable = the elements yang nak iterate"
   ]
  },
  {
   "cell_type": "markdown",
   "metadata": {},
   "source": [
    "By default it is sorted based on the first value."
   ]
  },
  {
   "cell_type": "code",
   "execution_count": 25,
   "metadata": {},
   "outputs": [
    {
     "data": {
      "text/plain": [
       "[(1, 2, 3, 4), (40, 1, 1), (-1, 5, 5, 5, 5, 55, 5, 5), (1000, 2)]"
      ]
     },
     "execution_count": 25,
     "metadata": {},
     "output_type": "execute_result"
    }
   ],
   "source": [
    "def total(item): # sort total of each tuple then sort ascending order\n",
    "    return sum(item)\n",
    "\n",
    "sorted(tuples, key=total) # key utk customize sort order"
   ]
  },
  {
   "cell_type": "markdown",
   "metadata": {},
   "source": [
    "The nameless lambda function enables us to do this in a more clean way."
   ]
  },
  {
   "cell_type": "code",
   "execution_count": 28,
   "metadata": {},
   "outputs": [
    {
     "data": {
      "text/plain": [
       "[(1, 2, 3, 4), (40, 1, 1), (-1, 5, 5, 5, 5, 55, 5, 5), (1000, 2)]"
      ]
     },
     "execution_count": 28,
     "metadata": {},
     "output_type": "execute_result"
    }
   ],
   "source": [
    "sorted(tuples, key = lambda x: sum(x)) # tempoarily sort bila call lambda ni"
   ]
  },
  {
   "cell_type": "markdown",
   "metadata": {},
   "source": [
    "We can also filter based on the last item."
   ]
  },
  {
   "cell_type": "code",
   "execution_count": 29,
   "metadata": {},
   "outputs": [
    {
     "data": {
      "text/plain": [
       "[(40, 1, 1), (1000, 2), (1, 2, 3, 4), (-1, 5, 5, 5, 5, 55, 5, 5)]"
      ]
     },
     "execution_count": 29,
     "metadata": {},
     "output_type": "execute_result"
    }
   ],
   "source": [
    "sorted(tuples, key = lambda x: x[-1]) # susun ikut nombor paling blakang\n",
    "# key utk customize sort order"
   ]
  },
  {
   "cell_type": "markdown",
   "metadata": {},
   "source": [
    "The filter() function applies a filter function on a iterable data structue. The outcome of the filter function is an iterator were the items are filtered through a function. \n",
    "\n",
    "Let's filter out the even numbers."
   ]
  },
  {
   "cell_type": "code",
   "execution_count": 1,
   "metadata": {},
   "outputs": [
    {
     "data": {
      "text/plain": [
       "<filter at 0x21b36d999a0>"
      ]
     },
     "execution_count": 1,
     "metadata": {},
     "output_type": "execute_result"
    }
   ],
   "source": [
    "numbers = [1,2,3,4,5]\n",
    "filter(lambda x: x%2==0, numbers)"
   ]
  },
  {
   "cell_type": "markdown",
   "metadata": {},
   "source": [
    "We got a filter object. To see the result we need to cast it to list."
   ]
  },
  {
   "cell_type": "code",
   "execution_count": 2,
   "metadata": {},
   "outputs": [
    {
     "data": {
      "text/plain": [
       "[2, 4]"
      ]
     },
     "execution_count": 2,
     "metadata": {},
     "output_type": "execute_result"
    }
   ],
   "source": [
    "list(filter(lambda x: x%2==0, numbers))"
   ]
  },
  {
   "cell_type": "code",
   "execution_count": null,
   "metadata": {},
   "outputs": [],
   "source": []
  },
  {
   "cell_type": "markdown",
   "metadata": {},
   "source": [
    "And now apply a mapping using map() to take the power of 3"
   ]
  },
  {
   "cell_type": "code",
   "execution_count": 3,
   "metadata": {},
   "outputs": [
    {
     "data": {
      "text/plain": [
       "[1, 4, 9, 16, 25]"
      ]
     },
     "execution_count": 3,
     "metadata": {},
     "output_type": "execute_result"
    }
   ],
   "source": [
    "def power_2(x):\n",
    "    return x**2\n",
    "# convert all x into x^2 (map only)\n",
    "list(map(lambda x: x**2, numbers))"
   ]
  },
  {
   "cell_type": "code",
   "execution_count": 4,
   "metadata": {},
   "outputs": [
    {
     "data": {
      "text/plain": [
       "[4, 16]"
      ]
     },
     "execution_count": 4,
     "metadata": {},
     "output_type": "execute_result"
    }
   ],
   "source": [
    "list(map(lambda x: x**2, filter(lambda x: x%2==0, numbers))) # extract then map"
   ]
  },
  {
   "cell_type": "markdown",
   "metadata": {},
   "source": [
    "### Summary - List comprehension and lambda"
   ]
  },
  {
   "cell_type": "markdown",
   "metadata": {},
   "source": [
    "> #### list comprehension\n",
    "A compact way to process all or part of the elements in a sequence and return a list with the results.\n",
    "```python\n",
    "numbers = [1,2,3,4,5]\n",
    "newlist = [n for n in numbers]\n",
    "newlist = [n for n in numbers if n%2==0]\n",
    "newlist = [n**2 for n in numbers if n%2==0]\n",
    "```"
   ]
  },
  {
   "cell_type": "markdown",
   "metadata": {},
   "source": [
    "> #### lambda\n",
    "An anonymous inline function consisting of a single expression which is evaluated when the function is called. The syntax to create a lambda function is lambda [parameters]: expression\n",
    "```python\n",
    "sorted(numbers, key=lambda x: sum(x))\n",
    "filter(lambda x: x%2==0, numbers)\n",
    "map(lambda x: x**2, numbers)\n",
    "```"
   ]
  },
  {
   "cell_type": "markdown",
   "metadata": {
    "toc-hr-collapsed": false
   },
   "source": [
    "### RUN ME\n",
    "\n",
    "Please run the below code snippet. It is required for running tests for your solution."
   ]
  },
  {
   "cell_type": "code",
   "execution_count": null,
   "metadata": {},
   "outputs": [],
   "source": [
    "def test(got, expected):\n",
    "    if got == expected:\n",
    "        prefix = ' OK '\n",
    "    else:\n",
    "        prefix = '  FAIL '\n",
    "    print((f' {prefix} got: {got} expected: {expected}'))"
   ]
  },
  {
   "cell_type": "code",
   "execution_count": null,
   "metadata": {},
   "outputs": [],
   "source": [
    "test('a', 'ab')\n",
    "test('a', 'a')"
   ]
  },
  {
   "cell_type": "markdown",
   "metadata": {
    "toc-hr-collapsed": false
   },
   "source": [
    "### Exercises - List comprehension and lambda"
   ]
  },
  {
   "cell_type": "markdown",
   "metadata": {},
   "source": [
    "#### Exercise 1 - Negative ints\n",
    "\n",
    "Write a list comprehension to create a new list that contains only the negative numbers as integers and store it as newlist."
   ]
  },
  {
   "cell_type": "code",
   "execution_count": null,
   "metadata": {},
   "outputs": [],
   "source": [
    "numbers = [34.6, -203.4, 44.9, -68.3, -12.2, 44.6, 12.7]\n",
    "\n",
    "newlist = ## your code\n",
    "\n",
    "# TEST\n",
    "print(\"negative_ints\")\n",
    "test(newlist, [-203, -68, -12])"
   ]
  },
  {
   "cell_type": "code",
   "execution_count": null,
   "metadata": {},
   "outputs": [],
   "source": []
  },
  {
   "cell_type": "markdown",
   "metadata": {},
   "source": [
    "#### Exercise 2 - Power odds\n",
    "\n",
    "Write one line of Python that takes this list and makes a new list that only has the odd elements and power it with 3.\n",
    "\n",
    "Hints: x**3"
   ]
  },
  {
   "cell_type": "code",
   "execution_count": null,
   "metadata": {},
   "outputs": [],
   "source": [
    "numbers = [1, 4, 9, 16, 25, 36, 49, 64, 81, 100]\n",
    "\n",
    "result = ##\n",
    "\n",
    "print(\"power_odds\")\n",
    "test(result, [1, 729, 15625, 117649, 531441])"
   ]
  },
  {
   "cell_type": "code",
   "execution_count": null,
   "metadata": {},
   "outputs": [],
   "source": []
  },
  {
   "cell_type": "markdown",
   "metadata": {},
   "source": [
    "#### Exercise 3 - Word lengths\n",
    "\n",
    "Write a list comprehsion to determine the length of each word except 'the' and store as word_lengths"
   ]
  },
  {
   "cell_type": "code",
   "execution_count": null,
   "metadata": {},
   "outputs": [],
   "source": [
    "sentence = \"the quick brown fox jumps over the lazy dog\"\n",
    "\n",
    "## your code\n",
    "word_lengths = ## your code\n",
    "\n",
    "# TEST\n",
    "print()\n",
    "test(word_lengths, [5, 5, 3, 5, 4, 4, 3])"
   ]
  },
  {
   "cell_type": "code",
   "execution_count": null,
   "metadata": {},
   "outputs": [],
   "source": []
  },
  {
   "cell_type": "markdown",
   "metadata": {},
   "source": [
    "#### Exercise 4 - Celsius to Fahrenheit\n",
    "\n",
    "Convert the following list of temperatures in Celsius to Fahrenheit. Round the results to 2 decimals.\n",
    "\n",
    "Fahrenheit = 9/5*Celsius + 32"
   ]
  },
  {
   "cell_type": "code",
   "execution_count": null,
   "metadata": {},
   "outputs": [],
   "source": [
    "celsius = [43.6, 67.3, 43.6, 56.4]\n",
    "fahrenheit = ## your code here\n",
    "\n",
    "# TEST\n",
    "print(\"celsius_to_fahrenheit\")\n",
    "test(fahrenheit, [110.48, 153.14, 110.48, 133.52])"
   ]
  },
  {
   "cell_type": "code",
   "execution_count": null,
   "metadata": {},
   "outputs": [],
   "source": []
  },
  {
   "cell_type": "markdown",
   "metadata": {},
   "source": [
    "#### Exercise 5 - Square odds lambda\n",
    "\n",
    "Write a lambda function that squares number for all odd numbers from 1 to 100\n",
    "\n",
    "Hints: filter(), map(), list()"
   ]
  },
  {
   "cell_type": "code",
   "execution_count": null,
   "metadata": {},
   "outputs": [],
   "source": [
    "numbers = list(range(1,100+1))\n",
    "\n",
    "answer = ## your code\n",
    "\n",
    "\n",
    "# TEST\n",
    "print(\"square_odds_lambda\")\n",
    "test_answer = [1, 9, 25, 49, 81, 121, 169, 225, 289, 361, 441, 529, 625, 729, 841, 961, 1089, 1225, 1369, 1521, 1681, 1849, 2025, 2209, 2401, 2601, 2809, 3025, 3249, 3481, 3721, 3969, 4225, 4489, 4761, 5041, 5329, 5625, 5929, 6241, 6561, 6889, 7225, 7569, 7921, 8281, 8649, 9025, 9409, 9801]\n",
    "test(answer, test_answer)"
   ]
  },
  {
   "cell_type": "code",
   "execution_count": null,
   "metadata": {},
   "outputs": [],
   "source": []
  },
  {
   "cell_type": "markdown",
   "metadata": {},
   "source": [
    "####  Exercise 6 - Square odds lc\n",
    "\n",
    "Write a list comprehension that square number for all odd numbers from 1 to 100\n",
    "\n",
    "Hints: range(1,100)"
   ]
  },
  {
   "cell_type": "code",
   "execution_count": null,
   "metadata": {},
   "outputs": [],
   "source": [
    "answer = ## your code here\n",
    "\n",
    "# TEST\n",
    "test(answer, [1, 9, 25, 49, 81, 121, 169, 225, 289, 361, 441, 529, 625, 729, 841, \n",
    "              961, 1089, 1225, 1369, 1521, 1681, 1849, 2025, 2209, 2401, 2601, 2809, \n",
    "              3025, 3249, 3481, 3721, 3969, 4225, 4489, 4761, 5041, 5329, 5625, 5929, 6241, 6561, 6889, \n",
    "              7225, 7569, 7921, 8281, 8649, 9025, 9409, 9801])"
   ]
  },
  {
   "cell_type": "code",
   "execution_count": null,
   "metadata": {},
   "outputs": [],
   "source": []
  },
  {
   "cell_type": "markdown",
   "metadata": {},
   "source": [
    "#### Exercise 7 - Extract A names lambda \n",
    "\n",
    "Write a lambda function to extract names that begin with 'A'"
   ]
  },
  {
   "cell_type": "code",
   "execution_count": null,
   "metadata": {},
   "outputs": [],
   "source": [
    "names = ['Anne', 'Amy', 'Bob', 'David', 'Carrie', 'Barbara', 'Zach']\n",
    "answer = \n",
    "\n",
    "# TEST\n",
    "test(answer, ['Anne', 'Amy'])"
   ]
  },
  {
   "cell_type": "code",
   "execution_count": null,
   "metadata": {},
   "outputs": [],
   "source": []
  },
  {
   "cell_type": "markdown",
   "metadata": {},
   "source": [
    "#### Exercise 8 - Extract B names lc\n",
    "\n",
    "Write a list comprehension to extract the names that begin with 'B'"
   ]
  },
  {
   "cell_type": "code",
   "execution_count": null,
   "metadata": {},
   "outputs": [],
   "source": [
    "names = ['Anne', 'Amy', 'Bob', 'David', 'Carrie', 'Barbara', 'Zach']\n",
    "answer = ## your code here\n",
    "\n",
    "# TEST\n",
    "print(\"extract_b_names_lc\")\n",
    "test(answer, ['Bob', 'Barbara'])"
   ]
  },
  {
   "cell_type": "code",
   "execution_count": null,
   "metadata": {},
   "outputs": [],
   "source": []
  },
  {
   "cell_type": "markdown",
   "metadata": {},
   "source": [
    "#### Exercise 9 - Sort last\n",
    "\n",
    "Given a list of non-empty tuples, return a list sorted in increasing\n",
    "order by the last element in each tuple. <br/>\n",
    "e.g. [(1, 7), (1, 3), (3, 4, 5), (2, 2)] yields\n",
    "[(2, 2), (1, 3), (3, 4, 5), (1, 7)] <br/>\n",
    "\n",
    "Hint: use a custom key= function to extract the last element form each tuple."
   ]
  },
  {
   "cell_type": "code",
   "execution_count": null,
   "metadata": {},
   "outputs": [],
   "source": [
    "#output: [(2, 1), (3, 2), (1, 3)]\n",
    "list1 = [(1, 3), (3, 2), (2, 1)]\n",
    "\n",
    "#output: [(3, 1), (1, 2), (2, 3)]\n",
    "list2 = [(2, 3), (1, 2), (3, 1)]\n",
    "\n",
    "#output: [(2, 2), (1, 3), (3, 4, 5), (1, 7)]\n",
    "list3 = [(1, 7), (1, 3), (3, 4, 5), (2, 2)]\n",
    "\n",
    "def sort_last(tuples):\n",
    "    ## your code here\n",
    "\n",
    "\n",
    "# TEST\n",
    "test(sort_last(list1), [(2, 1), (3, 2), (1, 3)])\n",
    "test(sort_last(list2), [(3, 1), (1, 2), (2, 3)])\n",
    "test(sort_last(list3), [(2, 2), (1, 3), (3, 4, 5), (1, 7)])"
   ]
  },
  {
   "cell_type": "code",
   "execution_count": null,
   "metadata": {},
   "outputs": [],
   "source": []
  },
  {
   "cell_type": "markdown",
   "metadata": {},
   "source": [
    "#### Exercise 10 - Coordinates\n",
    "\n",
    "Convert the following for loop code to list comprehension\n",
    "\n",
    "Hint: double list comprehension"
   ]
  },
  {
   "cell_type": "code",
   "execution_count": null,
   "metadata": {},
   "outputs": [],
   "source": [
    "coords = []\n",
    "for x in range(4):\n",
    "    for y in range(2):\n",
    "        coordinate = (x, y)\n",
    "        coords.append(coordinate)\n",
    "print(coords)"
   ]
  },
  {
   "cell_type": "code",
   "execution_count": null,
   "metadata": {},
   "outputs": [],
   "source": [
    "coords_lc = ## your code here\n",
    "\n",
    "# TEST\n",
    "print(\"coordinates\") \n",
    "test(coords_lc, [(0, 0), (0, 1), (1, 0), (1, 1), (2, 0), (2, 1), (3, 0), (3, 1)])"
   ]
  },
  {
   "cell_type": "code",
   "execution_count": null,
   "metadata": {},
   "outputs": [],
   "source": []
  },
  {
   "cell_type": "markdown",
   "metadata": {},
   "source": [
    "#### Exercise 11 - Ball Cake\n",
    "\n",
    "Write a list comprehension to list all combinations from the two list of words. \n",
    "\n",
    "This is the expected output: </br>\n",
    "    \n",
    "    ['s1:ball s2:cake', 's1:ball s2:rice', 's1:ball s2:ham'.......]\n",
    "\n",
    "Hints: str.format(), double listcomprehension"
   ]
  },
  {
   "cell_type": "code",
   "execution_count": null,
   "metadata": {},
   "outputs": [],
   "source": [
    "set1 = ['ball','cheese','round']\n",
    "set2 = ['cake','rice','ham']\n",
    "\n",
    "answer = ## your code here\n",
    "\n",
    "# TEST\n",
    "print(\"ball_cake\")\n",
    "test(answer, ['s1:ball s2:cake', 's1:ball s2:rice', 's1:ball s2:ham', 's1:cheese s2:cake', \n",
    "              's1:cheese s2:rice', 's1:cheese s2:ham', 's1:round s2:cake', 's1:round s2:rice', \n",
    "              's1:round s2:ham'])"
   ]
  },
  {
   "cell_type": "code",
   "execution_count": null,
   "metadata": {},
   "outputs": [],
   "source": []
  },
  {
   "cell_type": "markdown",
   "metadata": {},
   "source": [
    "#### Exercise 12 - Front x \n",
    "Given a list of strings, return a list with the strings\n",
    "in sorted order, except group all the strings that begin with 'x' first. <br/>\n",
    "e.g. ['mix', 'xyz', 'apple', 'xanadu', 'aardvark'] yields\n",
    "['xanadu', 'xyz', 'aardvark', 'apple', 'mix'] <br/>\n",
    "\n",
    "Hint: this can be done by making 2 lists and sorting each of them\n",
    "before combining them."
   ]
  },
  {
   "cell_type": "code",
   "execution_count": null,
   "metadata": {},
   "outputs": [],
   "source": [
    "# ['xaa', 'xzz', 'axx', 'bbb', 'ccc']\n",
    "text1 = (['bbb', 'ccc', 'axx', 'xzz', 'xaa'])\n",
    "\n",
    "# ['xaa', 'xcc', 'aaa', 'bbb', 'ccc']\n",
    "text2 = (['ccc', 'bbb', 'aaa', 'xcc', 'xaa'])\n",
    "\n",
    "# ['xanadu', 'xyz', 'aardvark', 'apple', 'mix']\n",
    "text3 = (['mix', 'xyz', 'apple', 'xanadu', 'aardvark'])\n",
    "\n",
    "def front_x(words):\n",
    "    ## your code here\n",
    "    \n",
    " \n",
    "    \n",
    "# TEST\n",
    "print(\"front_x\")\n",
    "test(front_x(text1), ['xaa', 'xzz', 'axx', 'bbb', 'ccc'])\n",
    "test(front_x(text2), ['xaa', 'xcc', 'aaa', 'bbb', 'ccc'])\n",
    "test(front_x(text3), ['xanadu', 'xyz', 'aardvark', 'apple', 'mix'])"
   ]
  },
  {
   "cell_type": "code",
   "execution_count": null,
   "metadata": {},
   "outputs": [],
   "source": []
  }
 ],
 "metadata": {
  "kernelspec": {
   "display_name": "Python 3 (ipykernel)",
   "language": "python",
   "name": "python3"
  },
  "language_info": {
   "codemirror_mode": {
    "name": "ipython",
    "version": 3
   },
   "file_extension": ".py",
   "mimetype": "text/x-python",
   "name": "python",
   "nbconvert_exporter": "python",
   "pygments_lexer": "ipython3",
   "version": "3.9.12"
  },
  "toc-autonumbering": false
 },
 "nbformat": 4,
 "nbformat_minor": 2
}
